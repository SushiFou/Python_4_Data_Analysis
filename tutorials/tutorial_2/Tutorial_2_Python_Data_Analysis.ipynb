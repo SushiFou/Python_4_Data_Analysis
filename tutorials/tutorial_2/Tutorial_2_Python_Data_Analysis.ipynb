{
  "nbformat": 4,
  "nbformat_minor": 0,
  "metadata": {
    "colab": {
      "name": "Tutorial_2_Python_Data_Analysis.ipynb",
      "provenance": []
    },
    "kernelspec": {
      "name": "python3",
      "display_name": "Python 3"
    },
    "language_info": {
      "name": "python"
    }
  },
  "cells": [
    {
      "cell_type": "markdown",
      "metadata": {
        "id": "CKRsHma6pTID"
      },
      "source": [
        "# Tutorial 2 - Python For Data Analysis 🐍 \n",
        "\n",
        "---\n",
        "\n",
        "## NumPy and Pandas 🐼"
      ]
    },
    {
      "cell_type": "markdown",
      "metadata": {
        "id": "i9d88aEwr_af"
      },
      "source": [
        "### *Table of Contents*\n",
        "\n",
        "- NumPy 🔎\n",
        "  - [Exercise 1](#exercise-1) : NumPy Initialization Arrays\n",
        "  - [Exercise 2](#exercise-2) : Mathematics operations\n",
        "  - [Exercise 3](#exercise-3) : I/O operations\n",
        "  - [Exercise 4](#Exercise-4) : Use Case : Mona Lisa\n",
        "- Pandas 🐼\n",
        "  - [Introduction](#intro)\n",
        "  - [Exercice 1](#exercise-5) : Explore Pandas DataFrame basic functions\n",
        "  - [Exercise 2](#exercise-6) : Explore traffic accidents vehicles"
      ]
    },
    {
      "cell_type": "markdown",
      "metadata": {
        "id": "27kDAkK5q22y"
      },
      "source": [
        "### Requirements"
      ]
    },
    {
      "cell_type": "code",
      "metadata": {
        "id": "oBPNmbG2pQ5T"
      },
      "source": [
        "import math\n",
        "import numpy as np\n",
        "import pandas as pd\n",
        "import matplotlib.pyplot as pp"
      ],
      "execution_count": null,
      "outputs": []
    },
    {
      "cell_type": "markdown",
      "metadata": {
        "id": "KYH0IrzjrFpG"
      },
      "source": [
        "## NumPy 🔎"
      ]
    },
    {
      "cell_type": "markdown",
      "metadata": {
        "id": "BsJ94OV4q5Tp"
      },
      "source": [
        "<a name=\"exercise-1\">\n",
        "\n",
        "### Exercise 1 : NumPy Initialization Arrays\n",
        "---\n",
        "\n",
        "1) Use this line of code to create a NumPy array. Display its dimension and type. \n",
        "\n",
        "`np.array([[1,2,3],[4,5,6],[7,8,9]])`"
      ]
    },
    {
      "cell_type": "code",
      "metadata": {
        "id": "obYeKjQ4HtRQ"
      },
      "source": [
        ""
      ],
      "execution_count": null,
      "outputs": []
    },
    {
      "cell_type": "markdown",
      "metadata": {
        "id": "uzwb7tzEt6Ij"
      },
      "source": [
        "2) Create a 1-dimensional array of zeros "
      ]
    },
    {
      "cell_type": "code",
      "metadata": {
        "id": "WkkJtsr0HuVB"
      },
      "source": [
        ""
      ],
      "execution_count": null,
      "outputs": []
    },
    {
      "cell_type": "markdown",
      "metadata": {
        "id": "AbW5R0ppt9BW"
      },
      "source": [
        "3) Create a 2-dimensional array of zeros and visualize its length using different functions. See its size, dimensions and types. "
      ]
    },
    {
      "cell_type": "code",
      "metadata": {
        "id": "RXfGgcBNHvf_"
      },
      "source": [
        ""
      ],
      "execution_count": null,
      "outputs": []
    },
    {
      "cell_type": "markdown",
      "metadata": {
        "id": "iYce9R3vuAdc"
      },
      "source": [
        "4) What are the \"zeros_like\" and \"empty\" functions for? Explain. "
      ]
    },
    {
      "cell_type": "markdown",
      "metadata": {
        "id": "VhCflsZluJIv"
      },
      "source": [
        "Answer : "
      ]
    },
    {
      "cell_type": "markdown",
      "metadata": {
        "id": "8223cZwHuJev"
      },
      "source": [
        "5) What are the `linespace` and `arange` functions for? Explain."
      ]
    },
    {
      "cell_type": "code",
      "metadata": {
        "id": "XZtt3NvOHxIc"
      },
      "source": [
        ""
      ],
      "execution_count": null,
      "outputs": []
    },
    {
      "cell_type": "markdown",
      "metadata": {
        "id": "rENk-voouXk8"
      },
      "source": [
        "Answer : "
      ]
    },
    {
      "cell_type": "markdown",
      "metadata": {
        "id": "ZnlICwZTuaaM"
      },
      "source": [
        "6) Use the \"random\" function to create a 1D and 2Darray array. Check their dimensions using the functions seen previously. "
      ]
    },
    {
      "cell_type": "code",
      "metadata": {
        "id": "M3ku_9MyHyVZ"
      },
      "source": [
        ""
      ],
      "execution_count": null,
      "outputs": []
    },
    {
      "cell_type": "markdown",
      "metadata": {
        "id": "ghAupJtRq_py"
      },
      "source": [
        "<a name=\"exercise-2\">\n",
        "\n",
        "### Exercise 2 : Mathematics operations\n",
        "---\n",
        "\n",
        "1) Create a NumPy array, representing the sinus of another array. Do the same for cosines and logarithm. Save each result in a variable. "
      ]
    },
    {
      "cell_type": "code",
      "metadata": {
        "id": "8DCYyI3yH0N0"
      },
      "source": [
        ""
      ],
      "execution_count": null,
      "outputs": []
    },
    {
      "cell_type": "markdown",
      "metadata": {
        "id": "bZJ5LAO_ups1"
      },
      "source": [
        "2) Use sinus and cosine array, to compute those functions:\n",
        "\n",
        "- $f(x) = cos(x)sin(x) $\n",
        "- $f(x) = cos(x)^2 - sin (x)^2$"
      ]
    },
    {
      "cell_type": "code",
      "metadata": {
        "id": "8RTKrTmmH7TI"
      },
      "source": [
        ""
      ],
      "execution_count": null,
      "outputs": []
    },
    {
      "cell_type": "markdown",
      "metadata": {
        "id": "nJ9Xs5_8vKAq"
      },
      "source": [
        "How about this one : \n",
        "\n",
        "- $sin(x)^2+cos(x)^2$\n"
      ]
    },
    {
      "cell_type": "code",
      "metadata": {
        "id": "9EUMgnekH8XT"
      },
      "source": [
        ""
      ],
      "execution_count": null,
      "outputs": []
    },
    {
      "cell_type": "markdown",
      "metadata": {
        "id": "wVc9MRz28wZU"
      },
      "source": [
        "What are your remarks concerning the last one ?"
      ]
    },
    {
      "cell_type": "markdown",
      "metadata": {
        "id": "ersOqgYI82kw"
      },
      "source": [
        "Answer : "
      ]
    },
    {
      "cell_type": "markdown",
      "metadata": {
        "id": "_AHCwUrJ86fd"
      },
      "source": [
        "3) Add a constant $C= 1.5$ to every element of the sinus array."
      ]
    },
    {
      "cell_type": "code",
      "metadata": {
        "id": "QzOpHhzIH9mh"
      },
      "source": [
        ""
      ],
      "execution_count": null,
      "outputs": []
    },
    {
      "cell_type": "markdown",
      "metadata": {
        "id": "zyw-uQKa9CQS"
      },
      "source": [
        "4) Explore the `dot` and `@` functions. What are they used for ?"
      ]
    },
    {
      "cell_type": "code",
      "metadata": {
        "id": "doIJ24SgH-zz"
      },
      "source": [
        ""
      ],
      "execution_count": null,
      "outputs": []
    },
    {
      "cell_type": "markdown",
      "metadata": {
        "id": "d3VT992P9O1J"
      },
      "source": [
        "Answer : "
      ]
    },
    {
      "cell_type": "markdown",
      "metadata": {
        "id": "ijQJn4hfrAEo"
      },
      "source": [
        "<a name=\"exercise-3\">\n",
        "\n",
        "### Exercise 3 : I/O operations\n",
        "---\n",
        "1) Create a random multi-dimensional array (or use one that has already been created) and save it as a text file. Now, save this array as a NumPy object (.npy extension)"
      ]
    },
    {
      "cell_type": "code",
      "metadata": {
        "id": "KHOIcq6uIAfL"
      },
      "source": [
        ""
      ],
      "execution_count": null,
      "outputs": []
    },
    {
      "cell_type": "markdown",
      "metadata": {
        "id": "3TmMWagL9Uyl"
      },
      "source": [
        "2) Read those files again using the `open()` function."
      ]
    },
    {
      "cell_type": "code",
      "metadata": {
        "id": "VJhOmct_IBSJ"
      },
      "source": [
        ""
      ],
      "execution_count": null,
      "outputs": []
    },
    {
      "cell_type": "markdown",
      "metadata": {
        "id": "Ig0Q7FPE9miw"
      },
      "source": [
        "3) Try to read it again, using NumPy function `loadtxt`. Explain the difference between them."
      ]
    },
    {
      "cell_type": "code",
      "metadata": {
        "id": "DVaQIk1KICC5"
      },
      "source": [
        ""
      ],
      "execution_count": null,
      "outputs": []
    },
    {
      "cell_type": "markdown",
      "metadata": {
        "id": "dJouYZ3DrBLn"
      },
      "source": [
        "<a name=\"exercise-4\">\n",
        "\n",
        "### Exercise 4 : Use case : Mona Lisa\n",
        "---"
      ]
    },
    {
      "cell_type": "markdown",
      "metadata": {
        "id": "hAnUCT4o9xq8"
      },
      "source": [
        "#### *Loading Mona Lisa Data*"
      ]
    },
    {
      "cell_type": "markdown",
      "metadata": {
        "id": "UfB7Yk0T949X"
      },
      "source": [
        "1) Load `monalisa.txt` file as a NumPy array and explore it. (Dimensions, values, types, etc.)"
      ]
    },
    {
      "cell_type": "code",
      "metadata": {
        "id": "ev8WSNs7r1an"
      },
      "source": [
        ""
      ],
      "execution_count": null,
      "outputs": []
    },
    {
      "cell_type": "markdown",
      "metadata": {
        "id": "YcaIzCcq-aV3"
      },
      "source": [
        "2) Show the portrait of the Mona Lisa. To do this import matplotlib using this command:\n",
        "\n",
        "`import matplotlib.pyplot as plt`\n",
        "\n",
        "Then use the `imshow` command to display it: `plt.imshow(monalisa)`"
      ]
    },
    {
      "cell_type": "code",
      "metadata": {
        "id": "aVXzv1e7-3cT"
      },
      "source": [
        ""
      ],
      "execution_count": null,
      "outputs": []
    },
    {
      "cell_type": "markdown",
      "metadata": {
        "id": "GORXfvjE-4Cl"
      },
      "source": [
        "3) Use the `cmap` parameter to display it in black & white."
      ]
    },
    {
      "cell_type": "code",
      "metadata": {
        "id": "Tk8zArfk_EeV"
      },
      "source": [
        ""
      ],
      "execution_count": null,
      "outputs": []
    },
    {
      "cell_type": "markdown",
      "metadata": {
        "id": "er7UZUbT_E0M"
      },
      "source": [
        "4) Load `monalisa.npy` file as a NumPy array, display it and explore it. (Dimensions, values, types, etc.) Why do you think the second photo is better?"
      ]
    },
    {
      "cell_type": "code",
      "metadata": {
        "id": "1XT9pR61_Psf"
      },
      "source": [
        ""
      ],
      "execution_count": null,
      "outputs": []
    },
    {
      "cell_type": "markdown",
      "metadata": {
        "id": "xNruOIRG_R2g"
      },
      "source": [
        "#### Slicing - Using monalisa.npy\n",
        "\n",
        "5) Crop the Image to show only Mona Lisa's head."
      ]
    },
    {
      "cell_type": "code",
      "metadata": {
        "id": "vi2cIiz7_bK1"
      },
      "source": [
        ""
      ],
      "execution_count": null,
      "outputs": []
    },
    {
      "cell_type": "markdown",
      "metadata": {
        "id": "CGFLQUnA_bdh"
      },
      "source": [
        "6) Pixelize Mona Lisa's image on 3 different levels, and explain the result."
      ]
    },
    {
      "cell_type": "code",
      "metadata": {
        "id": "TgN3Np_L_g9-"
      },
      "source": [
        ""
      ],
      "execution_count": null,
      "outputs": []
    },
    {
      "cell_type": "markdown",
      "metadata": {
        "id": "w3L1SsZF_hbv"
      },
      "source": [
        "7) Rotate the Mona Lisa by 90°"
      ]
    },
    {
      "cell_type": "code",
      "metadata": {
        "id": "OJGdIfNM_lJ2"
      },
      "source": [
        ""
      ],
      "execution_count": null,
      "outputs": []
    },
    {
      "cell_type": "markdown",
      "metadata": {
        "id": "s8hulI7K_lcY"
      },
      "source": [
        "8) Display the reflection of the Mona Lisa"
      ]
    },
    {
      "cell_type": "code",
      "metadata": {
        "id": "5M0wsE3z_o0Y"
      },
      "source": [
        ""
      ],
      "execution_count": null,
      "outputs": []
    },
    {
      "cell_type": "markdown",
      "metadata": {
        "id": "iTffFuln_pNi"
      },
      "source": [
        "9) Hide Mona Lisa's face using a white box. Replace the white box with a randomly generated box."
      ]
    },
    {
      "cell_type": "code",
      "metadata": {
        "id": "h_ZuFU-q_ydj"
      },
      "source": [
        ""
      ],
      "execution_count": null,
      "outputs": []
    },
    {
      "cell_type": "markdown",
      "metadata": {
        "id": "o5ckRWwk_2Mc"
      },
      "source": [
        "#### Transformation - Use of the monalisa.txt file\n",
        "\n",
        "10) Create a filter on the image to have a Darker Mona Lisa."
      ]
    },
    {
      "cell_type": "code",
      "metadata": {
        "id": "xhNN_LtEAAp-"
      },
      "source": [
        ""
      ],
      "execution_count": null,
      "outputs": []
    },
    {
      "cell_type": "markdown",
      "metadata": {
        "id": "DPHluIffABM3"
      },
      "source": [
        "11) Create a vertical gradient from right to left allowing the image to be darker on the left."
      ]
    },
    {
      "cell_type": "code",
      "metadata": {
        "id": "iJj139mGAIm0"
      },
      "source": [
        ""
      ],
      "execution_count": null,
      "outputs": []
    },
    {
      "cell_type": "markdown",
      "metadata": {
        "id": "fekPEbBLAIz7"
      },
      "source": [
        "12) Create a horizontal gradient that will make the Mona Lisa darker on top."
      ]
    },
    {
      "cell_type": "code",
      "metadata": {
        "id": "rYUrY5tFAOWT"
      },
      "source": [
        ""
      ],
      "execution_count": null,
      "outputs": []
    },
    {
      "cell_type": "markdown",
      "metadata": {
        "id": "Z_VQxD6CrBwe"
      },
      "source": [
        "## Pandas 🐼"
      ]
    },
    {
      "cell_type": "markdown",
      "metadata": {
        "id": "Vn86J-Dlrjzj"
      },
      "source": [
        "<a name=\"intro\">\n",
        "\n",
        "### Introduction - Traffic Accidents Database\n",
        "---"
      ]
    },
    {
      "cell_type": "markdown",
      "metadata": {
        "id": "IuXJpYdWr0kw"
      },
      "source": [
        "https://www.data.gouv.fr/fr/datasets/base-de-donnees-accidents-corporels-de-la-circulation/\n",
        "\n",
        "For each personal injury accident, information describing the accident is entered by the law enforcement unit that intervened at the scene of the accident. These seizures are brought together in a sheet called the personal accident analysis report. All of these files constitute the national file of traffic accidents known as the \"BAAC File\" administered by the National Intermenstrual Road Safety Observatory \"ONISR\".\n",
        "\n",
        "The databases, extracted from the BAAC file, list all of the bodily injury accidents occurring during a specific year in mainland France, in the overseas departments (Guadeloupe, Guyana, Martinique, Réunion and Mayotte since 2012) and in the other overseas territories (Saint-Pierre- et-Miquelon, Saint-Barthélemy, Saint-Martin, Wallis-et-Futuna, French Polynesia and New Caledonia; available only from 2019 in open data) with a simplified description. This includes accident location information, as entered as well as information regarding the characteristics of the accident and its location, the vehicles involved and their victims.\n",
        "\n",
        "The databases from 2005 to 2019 are now annual and made up of 4 files (Characteristics - Locations - Vehicles - Users) in csv format.\n",
        "\n",
        "Links to databases:\n",
        "- https://www.data.gouv.fr/fr/datasets/r/be2191a6-a7cd-446f-a9fc-8d698688eb9e \n",
        "- https://www.data.gouv.fr/fr/datasets/r/e4c6f4fe-7c68-4a1d-9bb6-b0f1f5d45526 \n",
        "- https://www.data.gouv.fr/fr/datasets/r/08b77510-39c4-4761-bf02-19457264790f \n",
        "- https://www.data.gouv.fr/fr/datasets/r/96aadc9f-0b55-4e9a-a70e-c627ed97e6f7\n",
        "   \n",
        "SETUP : We’ll use vehicles database. \n",
        "\n",
        "Import the data using pandas library.`pd.read_csv(url)`"
      ]
    },
    {
      "cell_type": "markdown",
      "metadata": {
        "id": "UDCwjVx2rkeM"
      },
      "source": [
        "<a name=\"exercise-5\">\n",
        "\n",
        "### Exercise 1 : Explore Pandas DataFrame basic functions\n",
        "---\n",
        "\n",
        "1) How many columns do we have in the DataFrame ? How many rows do we have ?"
      ]
    },
    {
      "cell_type": "code",
      "metadata": {
        "id": "eN46yI-kr0Iz"
      },
      "source": [
        ""
      ],
      "execution_count": null,
      "outputs": []
    },
    {
      "cell_type": "markdown",
      "metadata": {
        "id": "H--XDF_TE-b5"
      },
      "source": [
        "2) What are the types of columns in the DataFrame ? Use `info()` function."
      ]
    },
    {
      "cell_type": "code",
      "metadata": {
        "id": "X6FCaLDDFGDz"
      },
      "source": [
        ""
      ],
      "execution_count": null,
      "outputs": []
    },
    {
      "cell_type": "markdown",
      "metadata": {
        "id": "B1jmS1X7FGVg"
      },
      "source": [
        "3) Calculate the mean of numeric columns."
      ]
    },
    {
      "cell_type": "code",
      "metadata": {
        "id": "c95n5YoUFJ6G"
      },
      "source": [
        ""
      ],
      "execution_count": null,
      "outputs": []
    },
    {
      "cell_type": "markdown",
      "metadata": {
        "id": "z4YgU41EFKIK"
      },
      "source": [
        "4) Calculate the maximum and minimum value of numeric column."
      ]
    },
    {
      "cell_type": "code",
      "metadata": {
        "id": "PxHjw_6-FOiL"
      },
      "source": [
        ""
      ],
      "execution_count": null,
      "outputs": []
    },
    {
      "cell_type": "markdown",
      "metadata": {
        "id": "vMUv_e-kFO2y"
      },
      "source": [
        "5) Use `describe()` function, what can you observe ?"
      ]
    },
    {
      "cell_type": "markdown",
      "metadata": {
        "id": "KGaViCYQFT_N"
      },
      "source": [
        "Answer : "
      ]
    },
    {
      "cell_type": "markdown",
      "metadata": {
        "id": "RFoqLRmLFaOB"
      },
      "source": [
        "6) Display the first 30 values, then last 30."
      ]
    },
    {
      "cell_type": "code",
      "metadata": {
        "id": "Opn3Vr-xFVAa"
      },
      "source": [
        ""
      ],
      "execution_count": null,
      "outputs": []
    },
    {
      "cell_type": "markdown",
      "metadata": {
        "id": "ML64S4z7rk0j"
      },
      "source": [
        "<a name=\"exercise-6\">\n",
        "\n",
        "### Exercise 2 : Explore traffic accidents vehicles\n",
        "---\n",
        "\n",
        "Read the documentation to understand the meanings of each column.\n",
        " \n",
        "Documentation: https://www.data.gouv.fr/fr/datasets/r/6cade01c-f69d-4779-b0a4-20606069888f"
      ]
    },
    {
      "cell_type": "markdown",
      "metadata": {
        "id": "4ow7P6ePBRvs"
      },
      "source": [
        "1) Then display the column names and rename it with the names of your choice. For the following questions, we use these column names:\n",
        "```\n",
        "[\n",
        "\"Num_Acc\", \"sens_de_Circulation\", \"catV\", \"nb_occupants\", \"obstacle_fixe\", \"obstacle_mobile\", \"choc\", \"manoeuvre\" , \"num_vehicule\"\n",
        "]\n",
        "```"
      ]
    },
    {
      "cell_type": "code",
      "metadata": {
        "id": "veZyf_pHBMBI"
      },
      "source": [
        ""
      ],
      "execution_count": null,
      "outputs": []
    },
    {
      "cell_type": "markdown",
      "metadata": {
        "id": "SJBvO8G3Bbnt"
      },
      "source": [
        "2) Get the number of null values by column. Then, display its proportion in the DataFrame. \n",
        "For example : 0.08% of col_1 are null"
      ]
    },
    {
      "cell_type": "code",
      "metadata": {
        "id": "nQ6dvHcWq4db"
      },
      "source": [
        ""
      ],
      "execution_count": null,
      "outputs": []
    },
    {
      "cell_type": "markdown",
      "metadata": {
        "id": "Bdn9CD4iBoNo"
      },
      "source": [
        "#### Exploratory Data Analysis - Filters"
      ]
    },
    {
      "cell_type": "markdown",
      "metadata": {
        "id": "iQkK4EraBmwF"
      },
      "source": [
        "3) Select `obstacle fixe` column, what is the type of returned value ?"
      ]
    },
    {
      "cell_type": "code",
      "metadata": {
        "id": "ybwwvjfyBmTV"
      },
      "source": [
        ""
      ],
      "execution_count": null,
      "outputs": []
    },
    {
      "cell_type": "markdown",
      "metadata": {
        "id": "PAc2EjELDPiI"
      },
      "source": [
        "4) Convert the returned value to a NumPy array"
      ]
    },
    {
      "cell_type": "code",
      "metadata": {
        "id": "5HZXxTBgBzRx"
      },
      "source": [
        ""
      ],
      "execution_count": null,
      "outputs": []
    },
    {
      "cell_type": "markdown",
      "metadata": {
        "id": "Y6Hf233gDSe6"
      },
      "source": [
        "5) Compute the maximum value of the NumPy array"
      ]
    },
    {
      "cell_type": "code",
      "metadata": {
        "id": "TGyKnV9DDUXi"
      },
      "source": [
        ""
      ],
      "execution_count": null,
      "outputs": []
    },
    {
      "cell_type": "markdown",
      "metadata": {
        "id": "xDqkz9-XDU0o"
      },
      "source": [
        "6) Select `catV` & `sens_de_Circulation columns together"
      ]
    },
    {
      "cell_type": "code",
      "metadata": {
        "id": "N8FliHf8Da_D"
      },
      "source": [
        ""
      ],
      "execution_count": null,
      "outputs": []
    },
    {
      "cell_type": "markdown",
      "metadata": {
        "id": "2h1kh2YbDbbB"
      },
      "source": [
        "7) Select all the columns containing ‘obstacle’ in their name"
      ]
    },
    {
      "cell_type": "code",
      "metadata": {
        "id": "WOxecBTuDdyV"
      },
      "source": [
        ""
      ],
      "execution_count": null,
      "outputs": []
    },
    {
      "cell_type": "markdown",
      "metadata": {
        "id": "OfTOsYD7DeHt"
      },
      "source": [
        "8) Select all rows with null values for 'sens_de_Circulation' column"
      ]
    },
    {
      "cell_type": "code",
      "metadata": {
        "id": "QnFlP7BjDgBi"
      },
      "source": [
        ""
      ],
      "execution_count": null,
      "outputs": []
    },
    {
      "cell_type": "markdown",
      "metadata": {
        "id": "8-Iuvmt6DgRV"
      },
      "source": [
        "9) Sort the data frame using the accident number column"
      ]
    },
    {
      "cell_type": "code",
      "metadata": {
        "id": "MZnZU22pDiMI"
      },
      "source": [
        ""
      ],
      "execution_count": null,
      "outputs": []
    },
    {
      "cell_type": "markdown",
      "metadata": {
        "id": "I0JWEOmODikc"
      },
      "source": [
        "10) Sort the values using the accident number column, then the vehicle category column"
      ]
    },
    {
      "cell_type": "code",
      "metadata": {
        "id": "SbrB8ixEDlDX"
      },
      "source": [
        ""
      ],
      "execution_count": null,
      "outputs": []
    },
    {
      "cell_type": "markdown",
      "metadata": {
        "id": "UP_OrI7nDlUW"
      },
      "source": [
        "11) Select the 4153rd row. Then select row having index '4153'. What is the difference between both?"
      ]
    },
    {
      "cell_type": "code",
      "metadata": {
        "id": "b_jyAwDcDoNC"
      },
      "source": [
        ""
      ],
      "execution_count": null,
      "outputs": []
    },
    {
      "cell_type": "markdown",
      "metadata": {
        "id": "8VzWN-27Dobm"
      },
      "source": [
        "12)  Set Num_Acc as index\n",
        "\n",
        "a. Make sure to use `inplace=True to save the value in the dataframe\n",
        "\n",
        "b. Can you still get the row having index '4153'? Explain.\n",
        "\n",
        "c. Finally, Restore the index as it was before."
      ]
    },
    {
      "cell_type": "code",
      "metadata": {
        "id": "c3z1swQiDvg6"
      },
      "source": [
        ""
      ],
      "execution_count": null,
      "outputs": []
    },
    {
      "cell_type": "markdown",
      "metadata": {
        "id": "WjhJw8BaB0bG"
      },
      "source": [
        "#### Exploratory Data Analysis - Queries\n",
        "\n",
        "13) Select accident that have a vehicle number W23"
      ]
    },
    {
      "cell_type": "code",
      "metadata": {
        "id": "Hbs8rR9PD0cg"
      },
      "source": [
        ""
      ],
      "execution_count": null,
      "outputs": []
    },
    {
      "cell_type": "markdown",
      "metadata": {
        "id": "m-IbJNSLD0u-"
      },
      "source": [
        "14) Select the top 5 accidents that caused the most damage"
      ]
    },
    {
      "cell_type": "code",
      "metadata": {
        "id": "hCt37rW2D22y"
      },
      "source": [
        ""
      ],
      "execution_count": null,
      "outputs": []
    },
    {
      "cell_type": "markdown",
      "metadata": {
        "id": "IL8dplt1D3E4"
      },
      "source": [
        "15) Count the number of damaged vehicles, by vehicle category and number of occupants"
      ]
    },
    {
      "cell_type": "code",
      "metadata": {
        "id": "QiklFHdHD5me"
      },
      "source": [
        ""
      ],
      "execution_count": null,
      "outputs": []
    },
    {
      "cell_type": "markdown",
      "metadata": {
        "id": "AJlKOSxbD6Na"
      },
      "source": [
        "16) From the previous result, select category vehicle '40', having '140' occupants"
      ]
    },
    {
      "cell_type": "code",
      "metadata": {
        "id": "yL0hlNK-D86F"
      },
      "source": [
        ""
      ],
      "execution_count": null,
      "outputs": []
    },
    {
      "cell_type": "markdown",
      "metadata": {
        "id": "xnjOpe1TD9UI"
      },
      "source": [
        "17) Calculate the number of occupants by vehicle category"
      ]
    },
    {
      "cell_type": "code",
      "metadata": {
        "id": "1nqh2CWYD_so"
      },
      "source": [
        ""
      ],
      "execution_count": null,
      "outputs": []
    },
    {
      "cell_type": "markdown",
      "metadata": {
        "id": "ybTRlye3D_5c"
      },
      "source": [
        "18) Compute the number of damages per vehicle category"
      ]
    },
    {
      "cell_type": "code",
      "metadata": {
        "id": "uNkeDgBpEB5W"
      },
      "source": [
        ""
      ],
      "execution_count": null,
      "outputs": []
    },
    {
      "cell_type": "markdown",
      "metadata": {
        "id": "lX2BQaALECM5"
      },
      "source": [
        "19) Select all the lines with a category vehicle between 37 and 40 inclusive. (These values correspond to public transport)"
      ]
    },
    {
      "cell_type": "code",
      "metadata": {
        "id": "aPai1idrEGY6"
      },
      "source": [
        ""
      ],
      "execution_count": null,
      "outputs": []
    },
    {
      "cell_type": "markdown",
      "metadata": {
        "id": "TTNJP-dLEHCE"
      },
      "source": [
        "20) Create a new column with a Boolean value, showing whether the accident happened in public transport or not"
      ]
    },
    {
      "cell_type": "code",
      "metadata": {
        "id": "GWGmeZ2REJyJ"
      },
      "source": [
        ""
      ],
      "execution_count": null,
      "outputs": []
    },
    {
      "cell_type": "markdown",
      "metadata": {
        "id": "pNNyWRdQEKHF"
      },
      "source": [
        "21) Check that the new column is working well. For this, it is necessary to verify that the number of occupants in vehicles excluding public transport is equal to 0. Contrary to what we can see in the data in the other group."
      ]
    },
    {
      "cell_type": "code",
      "metadata": {
        "id": "n8qTLp4XEMPc"
      },
      "source": [
        ""
      ],
      "execution_count": null,
      "outputs": []
    },
    {
      "cell_type": "markdown",
      "metadata": {
        "id": "lfNthheZEMor"
      },
      "source": [
        "22) Create a new dataframe, which contains only public transport accidents"
      ]
    },
    {
      "cell_type": "code",
      "metadata": {
        "id": "xMkEPtw2EO9v"
      },
      "source": [
        ""
      ],
      "execution_count": null,
      "outputs": []
    },
    {
      "cell_type": "markdown",
      "metadata": {
        "id": "KYlgN7zuEPLK"
      },
      "source": [
        "23) Obtain the average number of occupants by vehicle category, and sort the result"
      ]
    },
    {
      "cell_type": "code",
      "metadata": {
        "id": "HfRBdYz5EQ_9"
      },
      "source": [
        ""
      ],
      "execution_count": null,
      "outputs": []
    },
    {
      "cell_type": "markdown",
      "metadata": {
        "id": "R6xgyhqMERPJ"
      },
      "source": [
        "24) Map the vehicle category, obstacles (fixed and mobile) using the dictionary defined in mapping.py (you can use the mapping.py file, but you can also create your own mappings)."
      ]
    },
    {
      "cell_type": "code",
      "metadata": {
        "id": "5YNOuZo3ETKV"
      },
      "source": [
        ""
      ],
      "execution_count": null,
      "outputs": []
    },
    {
      "cell_type": "markdown",
      "metadata": {
        "id": "MIc1dQklB6li"
      },
      "source": [
        "#### Heat Map - Vehicle Category vs Accident Moving Obstacle"
      ]
    },
    {
      "cell_type": "markdown",
      "metadata": {
        "id": "e0oo5Cv2CC-N"
      },
      "source": [
        "25) Create a new database, projecting the category of the vehicle in relation to the moving obstacle. \n",
        "\n",
        "The values of the data frame will be the sum of the respective occupant numbers. \n",
        "\n",
        "This database can be referred to as a heat map of the number of accidents by type of transport and obstacle."
      ]
    },
    {
      "cell_type": "code",
      "metadata": {
        "id": "6mcPyxtXCJ33"
      },
      "source": [
        ""
      ],
      "execution_count": null,
      "outputs": []
    },
    {
      "cell_type": "markdown",
      "metadata": {
        "id": "Ue8jp_doCLLj"
      },
      "source": [
        "26) Using the previous results, obtain the most dangerous mode of transport for the public."
      ]
    },
    {
      "cell_type": "code",
      "metadata": {
        "id": "38eBzqcXCLuF"
      },
      "source": [
        ""
      ],
      "execution_count": null,
      "outputs": []
    },
    {
      "cell_type": "markdown",
      "metadata": {
        "id": "tD11bVAmCMNi"
      },
      "source": [
        "27) Sort the heatmap from the most dangerous to the least dangerous means of transport."
      ]
    },
    {
      "cell_type": "code",
      "metadata": {
        "id": "Td3-GlYGCU99"
      },
      "source": [
        ""
      ],
      "execution_count": null,
      "outputs": []
    },
    {
      "cell_type": "markdown",
      "metadata": {
        "id": "oz1G6HmSCVO9"
      },
      "source": [
        "28) Get the most dangerous moving obstacle when using public tranpsortation."
      ]
    },
    {
      "cell_type": "code",
      "metadata": {
        "id": "oqkRLAw0CbQg"
      },
      "source": [
        ""
      ],
      "execution_count": null,
      "outputs": []
    },
    {
      "cell_type": "markdown",
      "metadata": {
        "id": "qtCAEoMbCa2H"
      },
      "source": [
        "29) Sort the heat map from the most dangerous to the least dangerous entity (means of transport, and moving obstacle)"
      ]
    },
    {
      "cell_type": "code",
      "metadata": {
        "id": "P-Y6uV7VChyy"
      },
      "source": [
        ""
      ],
      "execution_count": null,
      "outputs": []
    },
    {
      "cell_type": "markdown",
      "metadata": {
        "id": "ddV-Im_XtZGy"
      },
      "source": [
        "## Good job, you've completed your second tutorial ! 👏"
      ]
    }
  ]
}