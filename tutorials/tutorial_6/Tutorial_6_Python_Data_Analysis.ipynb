{
  "nbformat": 4,
  "nbformat_minor": 0,
  "metadata": {
    "colab": {
      "name": "Tutorial_6_Python_Data_Analysis.ipynb",
      "provenance": []
    },
    "kernelspec": {
      "name": "python3",
      "display_name": "Python 3"
    },
    "language_info": {
      "name": "python"
    }
  },
  "cells": [
    {
      "cell_type": "markdown",
      "metadata": {
        "id": "hnNVK9r6OpFm"
      },
      "source": [
        "# Tutorial 6 - Python For Data Analysis 🐍 \n",
        "\n",
        "---\n",
        "\n",
        "## Tensorflow 💫"
      ]
    },
    {
      "cell_type": "markdown",
      "metadata": {
        "id": "u22tUViuMfQZ"
      },
      "source": [
        "TensorFlow is a Python library for fast numerical computing created and released by Google researchers to run machine learning, deep learning and other statistical and predictive analytics workloads. It can train and run deep neural networks for handwritten digit classification, image recognition, word embeddings, recurrent neural networks, sequence-to- sequence models for machine translation, natural language processing, and PDE (partial differential equation) based simulations."
      ]
    },
    {
      "cell_type": "markdown",
      "metadata": {
        "id": "MjSqOmkJNZZk"
      },
      "source": [
        "## Learning resources\n",
        "\n",
        "Neural network introduction : https://www.youtube.com/watch?v=aircAruvnKk&t=978s\n",
        "\n",
        "Gradient descent and neural networks learning : https://www.youtube.com/watch?v=IHZwWFHWa-w\n",
        "\n",
        "Backpropagation explained : https://www.youtube.com/watch?v=Ilg3gGewQ5U\n",
        "\n",
        "Slides : https://github.com/m2dsupsdlclass/lectures-labs + repo github \n",
        "\n",
        "Tensorflow quickstart : https://www.tensorflow.org/tutorials/quickstart/beginner"
      ]
    },
    {
      "cell_type": "markdown",
      "metadata": {
        "id": "2er_MNDTMhe2"
      },
      "source": [
        "### 1) Install tensorflow"
      ]
    },
    {
      "cell_type": "code",
      "metadata": {
        "id": "CIQYWf3bOiOe"
      },
      "source": [
        "pip install tensorflow"
      ],
      "execution_count": null,
      "outputs": []
    },
    {
      "cell_type": "markdown",
      "metadata": {
        "id": "-oy5t7tqMo20"
      },
      "source": [
        "### 2) Load and return the fashion_mnist dataset from keras.datasets"
      ]
    },
    {
      "cell_type": "code",
      "metadata": {
        "id": "Oyc6wo0BMv7Y"
      },
      "source": [
        ""
      ],
      "execution_count": null,
      "outputs": []
    },
    {
      "cell_type": "markdown",
      "metadata": {
        "id": "-C6d9k5BMwHp"
      },
      "source": [
        "### 3) Split the data into training data and testing data"
      ]
    },
    {
      "cell_type": "code",
      "metadata": {
        "id": "HBXrmC35MzyT"
      },
      "source": [
        ""
      ],
      "execution_count": null,
      "outputs": []
    },
    {
      "cell_type": "markdown",
      "metadata": {
        "id": "i487uJw-M0Da"
      },
      "source": [
        "### 4) Define a list of the class name and pre-process images"
      ]
    },
    {
      "cell_type": "code",
      "metadata": {
        "id": "otMvAE-XM8AU"
      },
      "source": [
        "class_names = ['T-shirt/top', 'Trouser', 'Pullover', 'Dress', 'Coat', 'Sandal',\n",
        "               'Shirt', 'Sneaker', 'Bag', 'Ankle boot']"
      ],
      "execution_count": null,
      "outputs": []
    },
    {
      "cell_type": "markdown",
      "metadata": {
        "id": "c0u1B5OoM8xq"
      },
      "source": [
        "### 5) Create a neural network model"
      ]
    },
    {
      "cell_type": "code",
      "metadata": {
        "id": "gQCVE2oMNBuH"
      },
      "source": [
        ""
      ],
      "execution_count": null,
      "outputs": []
    },
    {
      "cell_type": "markdown",
      "metadata": {
        "id": "d6Tx8I5ANB9w"
      },
      "source": [
        "### 6) Train the model"
      ]
    },
    {
      "cell_type": "code",
      "metadata": {
        "id": "pk2CuFajNELi"
      },
      "source": [
        ""
      ],
      "execution_count": null,
      "outputs": []
    },
    {
      "cell_type": "markdown",
      "metadata": {
        "id": "sra5AO9aNEit"
      },
      "source": [
        "### 7) Test the model"
      ]
    },
    {
      "cell_type": "code",
      "metadata": {
        "id": "yOpqtvmFNG7V"
      },
      "source": [
        ""
      ],
      "execution_count": null,
      "outputs": []
    },
    {
      "cell_type": "markdown",
      "metadata": {
        "id": "xTrcTxpDNHM3"
      },
      "source": [
        "### 8) Analyze the results : predict, calculate the loss, plot the first X test images, their predicted labels, and the true labels, color correct predictions in blue and incorrect predictions in red."
      ]
    },
    {
      "cell_type": "code",
      "metadata": {
        "id": "7dZTVJI5NYoJ"
      },
      "source": [
        ""
      ],
      "execution_count": null,
      "outputs": []
    }
  ]
}