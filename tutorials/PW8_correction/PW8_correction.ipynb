{
  "nbformat": 4,
  "nbformat_minor": 0,
  "metadata": {
    "kernelspec": {
      "display_name": "Python 3",
      "language": "python",
      "name": "python3"
    },
    "language_info": {
      "codemirror_mode": {
        "name": "ipython",
        "version": 3
      },
      "file_extension": ".py",
      "mimetype": "text/x-python",
      "name": "python",
      "nbconvert_exporter": "python",
      "pygments_lexer": "ipython3",
      "version": "3.8.3"
    },
    "colab": {
      "provenance": []
    }
  },
  "cells": [
    {
      "cell_type": "markdown",
      "metadata": {
        "id": "gsSe57IySVJg"
      },
      "source": [
        "# Scikit Learn"
      ]
    },
    {
      "cell_type": "markdown",
      "metadata": {
        "id": "6d4Bk5JASVJj"
      },
      "source": [
        "# Régression sur le prix des maisons à boston"
      ]
    },
    {
      "cell_type": "markdown",
      "metadata": {
        "id": "TcDGFu-OSVJk"
      },
      "source": [
        "## 1) Import de dataset"
      ]
    },
    {
      "cell_type": "code",
      "metadata": {
        "id": "MUe2Umb3SVJk"
      },
      "source": [
        "from sklearn import datasets"
      ],
      "execution_count": 1,
      "outputs": []
    },
    {
      "cell_type": "code",
      "metadata": {
        "colab": {
          "base_uri": "https://localhost:8080/"
        },
        "id": "C7JqGWDkSVJl",
        "outputId": "2dc75d35-1786-4a47-aac0-acf06f1ae757"
      },
      "source": [
        "boston = datasets.load_boston()\n",
        "X = boston[\"data\"]\n",
        "y = boston[\"target\"]"
      ],
      "execution_count": 2,
      "outputs": [
        {
          "output_type": "stream",
          "name": "stderr",
          "text": [
            "/usr/local/lib/python3.7/dist-packages/sklearn/utils/deprecation.py:87: FutureWarning: Function load_boston is deprecated; `load_boston` is deprecated in 1.0 and will be removed in 1.2.\n",
            "\n",
            "    The Boston housing prices dataset has an ethical problem. You can refer to\n",
            "    the documentation of this function for further details.\n",
            "\n",
            "    The scikit-learn maintainers therefore strongly discourage the use of this\n",
            "    dataset unless the purpose of the code is to study and educate about\n",
            "    ethical issues in data science and machine learning.\n",
            "\n",
            "    In this special case, you can fetch the dataset from the original\n",
            "    source::\n",
            "\n",
            "        import pandas as pd\n",
            "        import numpy as np\n",
            "\n",
            "\n",
            "        data_url = \"http://lib.stat.cmu.edu/datasets/boston\"\n",
            "        raw_df = pd.read_csv(data_url, sep=\"\\s+\", skiprows=22, header=None)\n",
            "        data = np.hstack([raw_df.values[::2, :], raw_df.values[1::2, :2]])\n",
            "        target = raw_df.values[1::2, 2]\n",
            "\n",
            "    Alternative datasets include the California housing dataset (i.e.\n",
            "    :func:`~sklearn.datasets.fetch_california_housing`) and the Ames housing\n",
            "    dataset. You can load the datasets as follows::\n",
            "\n",
            "        from sklearn.datasets import fetch_california_housing\n",
            "        housing = fetch_california_housing()\n",
            "\n",
            "    for the California housing dataset and::\n",
            "\n",
            "        from sklearn.datasets import fetch_openml\n",
            "        housing = fetch_openml(name=\"house_prices\", as_frame=True)\n",
            "\n",
            "    for the Ames housing dataset.\n",
            "    \n",
            "  warnings.warn(msg, category=FutureWarning)\n"
          ]
        }
      ]
    },
    {
      "cell_type": "code",
      "metadata": {
        "colab": {
          "base_uri": "https://localhost:8080/"
        },
        "id": "fPVRUas1ryvN",
        "outputId": "ed5d76ab-b184-4efa-aa15-3ae826c822df"
      },
      "source": [
        "X"
      ],
      "execution_count": 3,
      "outputs": [
        {
          "output_type": "execute_result",
          "data": {
            "text/plain": [
              "array([[6.3200e-03, 1.8000e+01, 2.3100e+00, ..., 1.5300e+01, 3.9690e+02,\n",
              "        4.9800e+00],\n",
              "       [2.7310e-02, 0.0000e+00, 7.0700e+00, ..., 1.7800e+01, 3.9690e+02,\n",
              "        9.1400e+00],\n",
              "       [2.7290e-02, 0.0000e+00, 7.0700e+00, ..., 1.7800e+01, 3.9283e+02,\n",
              "        4.0300e+00],\n",
              "       ...,\n",
              "       [6.0760e-02, 0.0000e+00, 1.1930e+01, ..., 2.1000e+01, 3.9690e+02,\n",
              "        5.6400e+00],\n",
              "       [1.0959e-01, 0.0000e+00, 1.1930e+01, ..., 2.1000e+01, 3.9345e+02,\n",
              "        6.4800e+00],\n",
              "       [4.7410e-02, 0.0000e+00, 1.1930e+01, ..., 2.1000e+01, 3.9690e+02,\n",
              "        7.8800e+00]])"
            ]
          },
          "metadata": {},
          "execution_count": 3
        }
      ]
    },
    {
      "cell_type": "code",
      "metadata": {
        "colab": {
          "base_uri": "https://localhost:8080/"
        },
        "id": "9Mdh5qT5rz39",
        "outputId": "97c8e49e-b576-4105-95c3-175bd7954aac"
      },
      "source": [
        "y"
      ],
      "execution_count": 4,
      "outputs": [
        {
          "output_type": "execute_result",
          "data": {
            "text/plain": [
              "array([24. , 21.6, 34.7, 33.4, 36.2, 28.7, 22.9, 27.1, 16.5, 18.9, 15. ,\n",
              "       18.9, 21.7, 20.4, 18.2, 19.9, 23.1, 17.5, 20.2, 18.2, 13.6, 19.6,\n",
              "       15.2, 14.5, 15.6, 13.9, 16.6, 14.8, 18.4, 21. , 12.7, 14.5, 13.2,\n",
              "       13.1, 13.5, 18.9, 20. , 21. , 24.7, 30.8, 34.9, 26.6, 25.3, 24.7,\n",
              "       21.2, 19.3, 20. , 16.6, 14.4, 19.4, 19.7, 20.5, 25. , 23.4, 18.9,\n",
              "       35.4, 24.7, 31.6, 23.3, 19.6, 18.7, 16. , 22.2, 25. , 33. , 23.5,\n",
              "       19.4, 22. , 17.4, 20.9, 24.2, 21.7, 22.8, 23.4, 24.1, 21.4, 20. ,\n",
              "       20.8, 21.2, 20.3, 28. , 23.9, 24.8, 22.9, 23.9, 26.6, 22.5, 22.2,\n",
              "       23.6, 28.7, 22.6, 22. , 22.9, 25. , 20.6, 28.4, 21.4, 38.7, 43.8,\n",
              "       33.2, 27.5, 26.5, 18.6, 19.3, 20.1, 19.5, 19.5, 20.4, 19.8, 19.4,\n",
              "       21.7, 22.8, 18.8, 18.7, 18.5, 18.3, 21.2, 19.2, 20.4, 19.3, 22. ,\n",
              "       20.3, 20.5, 17.3, 18.8, 21.4, 15.7, 16.2, 18. , 14.3, 19.2, 19.6,\n",
              "       23. , 18.4, 15.6, 18.1, 17.4, 17.1, 13.3, 17.8, 14. , 14.4, 13.4,\n",
              "       15.6, 11.8, 13.8, 15.6, 14.6, 17.8, 15.4, 21.5, 19.6, 15.3, 19.4,\n",
              "       17. , 15.6, 13.1, 41.3, 24.3, 23.3, 27. , 50. , 50. , 50. , 22.7,\n",
              "       25. , 50. , 23.8, 23.8, 22.3, 17.4, 19.1, 23.1, 23.6, 22.6, 29.4,\n",
              "       23.2, 24.6, 29.9, 37.2, 39.8, 36.2, 37.9, 32.5, 26.4, 29.6, 50. ,\n",
              "       32. , 29.8, 34.9, 37. , 30.5, 36.4, 31.1, 29.1, 50. , 33.3, 30.3,\n",
              "       34.6, 34.9, 32.9, 24.1, 42.3, 48.5, 50. , 22.6, 24.4, 22.5, 24.4,\n",
              "       20. , 21.7, 19.3, 22.4, 28.1, 23.7, 25. , 23.3, 28.7, 21.5, 23. ,\n",
              "       26.7, 21.7, 27.5, 30.1, 44.8, 50. , 37.6, 31.6, 46.7, 31.5, 24.3,\n",
              "       31.7, 41.7, 48.3, 29. , 24. , 25.1, 31.5, 23.7, 23.3, 22. , 20.1,\n",
              "       22.2, 23.7, 17.6, 18.5, 24.3, 20.5, 24.5, 26.2, 24.4, 24.8, 29.6,\n",
              "       42.8, 21.9, 20.9, 44. , 50. , 36. , 30.1, 33.8, 43.1, 48.8, 31. ,\n",
              "       36.5, 22.8, 30.7, 50. , 43.5, 20.7, 21.1, 25.2, 24.4, 35.2, 32.4,\n",
              "       32. , 33.2, 33.1, 29.1, 35.1, 45.4, 35.4, 46. , 50. , 32.2, 22. ,\n",
              "       20.1, 23.2, 22.3, 24.8, 28.5, 37.3, 27.9, 23.9, 21.7, 28.6, 27.1,\n",
              "       20.3, 22.5, 29. , 24.8, 22. , 26.4, 33.1, 36.1, 28.4, 33.4, 28.2,\n",
              "       22.8, 20.3, 16.1, 22.1, 19.4, 21.6, 23.8, 16.2, 17.8, 19.8, 23.1,\n",
              "       21. , 23.8, 23.1, 20.4, 18.5, 25. , 24.6, 23. , 22.2, 19.3, 22.6,\n",
              "       19.8, 17.1, 19.4, 22.2, 20.7, 21.1, 19.5, 18.5, 20.6, 19. , 18.7,\n",
              "       32.7, 16.5, 23.9, 31.2, 17.5, 17.2, 23.1, 24.5, 26.6, 22.9, 24.1,\n",
              "       18.6, 30.1, 18.2, 20.6, 17.8, 21.7, 22.7, 22.6, 25. , 19.9, 20.8,\n",
              "       16.8, 21.9, 27.5, 21.9, 23.1, 50. , 50. , 50. , 50. , 50. , 13.8,\n",
              "       13.8, 15. , 13.9, 13.3, 13.1, 10.2, 10.4, 10.9, 11.3, 12.3,  8.8,\n",
              "        7.2, 10.5,  7.4, 10.2, 11.5, 15.1, 23.2,  9.7, 13.8, 12.7, 13.1,\n",
              "       12.5,  8.5,  5. ,  6.3,  5.6,  7.2, 12.1,  8.3,  8.5,  5. , 11.9,\n",
              "       27.9, 17.2, 27.5, 15. , 17.2, 17.9, 16.3,  7. ,  7.2,  7.5, 10.4,\n",
              "        8.8,  8.4, 16.7, 14.2, 20.8, 13.4, 11.7,  8.3, 10.2, 10.9, 11. ,\n",
              "        9.5, 14.5, 14.1, 16.1, 14.3, 11.7, 13.4,  9.6,  8.7,  8.4, 12.8,\n",
              "       10.5, 17.1, 18.4, 15.4, 10.8, 11.8, 14.9, 12.6, 14.1, 13. , 13.4,\n",
              "       15.2, 16.1, 17.8, 14.9, 14.1, 12.7, 13.5, 14.9, 20. , 16.4, 17.7,\n",
              "       19.5, 20.2, 21.4, 19.9, 19. , 19.1, 19.1, 20.1, 19.9, 19.6, 23.2,\n",
              "       29.8, 13.8, 13.3, 16.7, 12. , 14.6, 21.4, 23. , 23.7, 25. , 21.8,\n",
              "       20.6, 21.2, 19.1, 20.6, 15.2,  7. ,  8.1, 13.6, 20.1, 21.8, 24.5,\n",
              "       23.1, 19.7, 18.3, 21.2, 17.5, 16.8, 22.4, 20.6, 23.9, 22. , 11.9])"
            ]
          },
          "metadata": {},
          "execution_count": 4
        }
      ]
    },
    {
      "cell_type": "code",
      "source": [
        "X.shape"
      ],
      "metadata": {
        "colab": {
          "base_uri": "https://localhost:8080/"
        },
        "id": "1RBuSacJXu5A",
        "outputId": "39905fbf-3b87-40c7-eaef-e5a727d8f129"
      },
      "execution_count": 64,
      "outputs": [
        {
          "output_type": "execute_result",
          "data": {
            "text/plain": [
              "(506, 13)"
            ]
          },
          "metadata": {},
          "execution_count": 64
        }
      ]
    },
    {
      "cell_type": "markdown",
      "metadata": {
        "id": "-xUzP2RySVJn"
      },
      "source": [
        "## 2) separer le jeu d'apprentissage du jeu de test"
      ]
    },
    {
      "cell_type": "code",
      "metadata": {
        "id": "YFecJWz4SVJn"
      },
      "source": [
        "from sklearn.model_selection import train_test_split"
      ],
      "execution_count": 5,
      "outputs": []
    },
    {
      "cell_type": "code",
      "metadata": {
        "id": "RshGvjoPSVJn"
      },
      "source": [
        "X_train, X_test, y_train, y_test = train_test_split(X, y, test_size=0.33)"
      ],
      "execution_count": 6,
      "outputs": []
    },
    {
      "cell_type": "code",
      "metadata": {
        "colab": {
          "base_uri": "https://localhost:8080/"
        },
        "id": "WEo3micASVJo",
        "outputId": "27111bb6-a1f1-4e50-8360-4a7560915974"
      },
      "source": [
        "print(X_train.shape)\n",
        "print(X_test.shape)\n",
        "print(y_train.shape)\n",
        "print(y_test.shape)"
      ],
      "execution_count": 7,
      "outputs": [
        {
          "output_type": "stream",
          "name": "stdout",
          "text": [
            "(339, 13)\n",
            "(167, 13)\n",
            "(339,)\n",
            "(167,)\n"
          ]
        }
      ]
    },
    {
      "cell_type": "markdown",
      "metadata": {
        "id": "466CBma0SVJo"
      },
      "source": [
        "## 3) Standardiser les valeurs"
      ]
    },
    {
      "cell_type": "code",
      "metadata": {
        "id": "T154YqI5SVJo"
      },
      "source": [
        "from sklearn.preprocessing import StandardScaler\n",
        "scaler = StandardScaler()\n",
        "scaler.fit(X_train)                 # Il ne faut filtrer que sur les data d'entrainement\n",
        "X_train = scaler.transform(X_train)\n",
        "X_test  = scaler.transform(X_test)  # apply same transformation to test data"
      ],
      "execution_count": 8,
      "outputs": []
    },
    {
      "cell_type": "markdown",
      "metadata": {
        "id": "fkGmgaQbSVJp"
      },
      "source": [
        "## 4) choisir un algo et le tester\n",
        "exemple : Support Vector Machine"
      ]
    },
    {
      "cell_type": "markdown",
      "metadata": {
        "id": "2Q3wSccCSVJp"
      },
      "source": [
        "None, to use the default 5-fold cross validation"
      ]
    },
    {
      "cell_type": "code",
      "metadata": {
        "id": "hKChmfLSSVJq"
      },
      "source": [
        "from sklearn import svm\n",
        "svr = svm.SVR(kernel='linear')"
      ],
      "execution_count": 9,
      "outputs": []
    },
    {
      "cell_type": "code",
      "metadata": {
        "colab": {
          "base_uri": "https://localhost:8080/"
        },
        "id": "GUvFbii9WlpS",
        "outputId": "e6a628d1-2065-46ef-87d2-8d9d700067ed"
      },
      "source": [
        "from sklearn.model_selection import  cross_val_score\n",
        "cross_val_score(svr, X, y, n_jobs=-1)"
      ],
      "execution_count": 10,
      "outputs": [
        {
          "output_type": "execute_result",
          "data": {
            "text/plain": [
              "array([0.77285459, 0.72771739, 0.56131914, 0.15056451, 0.08212844])"
            ]
          },
          "metadata": {},
          "execution_count": 10
        }
      ]
    },
    {
      "cell_type": "markdown",
      "metadata": {
        "id": "oxlrsnlQSVJq"
      },
      "source": [
        "## 5) aller au delà des paramètres par défaut avec un grid search"
      ]
    },
    {
      "cell_type": "code",
      "metadata": {
        "id": "FLkBHSZ9SVJr",
        "outputId": "2257ed6e-4265-4983-9d70-031122763740",
        "colab": {
          "base_uri": "https://localhost:8080/"
        }
      },
      "source": [
        "from sklearn.model_selection import GridSearchCV\n",
        "parameters = {'gamma' : [0.01, 0.1, 0.5]}\n",
        "grid = GridSearchCV(svm.SVR(), parameters, n_jobs=-1, cv=5)\n",
        "grid.fit(X_train, y_train)\n",
        "print (grid.best_score_, grid.best_estimator_)"
      ],
      "execution_count": 11,
      "outputs": [
        {
          "output_type": "stream",
          "name": "stdout",
          "text": [
            "0.5531050216334196 SVR(gamma=0.1)\n"
          ]
        }
      ]
    },
    {
      "cell_type": "markdown",
      "metadata": {
        "id": "07Az12EXSVJr"
      },
      "source": [
        "## 5.1) affiner le grid search"
      ]
    },
    {
      "cell_type": "markdown",
      "metadata": {
        "id": "ped1cLXKSVJr"
      },
      "source": [
        "n_jobsint, default=None\n",
        "\n",
        "    Number of jobs to run in parallel. Training the estimator and computing the score are parallelized over the cross-validation splits. None means 1 unless in a joblib.parallel_backend context. -1 means using all processors. See Glossary for more details.\n"
      ]
    },
    {
      "cell_type": "code",
      "metadata": {
        "id": "fxYjjT9DSVJs",
        "outputId": "3bb29208-0bb0-4536-9726-a1d597a54766",
        "colab": {
          "base_uri": "https://localhost:8080/"
        }
      },
      "source": [
        "parameters = {  'C'      : [0.5, 1, 1.5]             ,\n",
        "                'gamma'  : [0.5, 0.1, 0.15]      }\n",
        "grid = GridSearchCV(svm.SVR(), parameters, n_jobs=-1)\n",
        "grid.fit(X_train, y_train)\n",
        "print (grid.best_score_, grid.best_estimator_)"
      ],
      "execution_count": 12,
      "outputs": [
        {
          "output_type": "stream",
          "name": "stdout",
          "text": [
            "0.6011000385319514 SVR(C=1.5, gamma=0.1)\n"
          ]
        }
      ]
    },
    {
      "cell_type": "code",
      "metadata": {
        "id": "u-B5fhL4SVJs",
        "outputId": "2686d506-bd75-400f-d292-4fb246fdd6cd",
        "colab": {
          "base_uri": "https://localhost:8080/"
        }
      },
      "source": [
        "parameters = {  'C'      : [1.5, 2, 2.5]   ,\n",
        "                'kernel' : ['rbf', 'poly', 'sigmoid'],\n",
        "                'gamma'  : [ 0.05, 0.10, 0.15] }\n",
        "grid = GridSearchCV(svm.SVR(), parameters, n_jobs=-1)\n",
        "grid.fit(X_train, y_train)\n",
        "print (grid.best_score_, grid.best_estimator_)\n"
      ],
      "execution_count": 13,
      "outputs": [
        {
          "output_type": "stream",
          "name": "stdout",
          "text": [
            "0.6811868539916419 SVR(C=2.5, gamma=0.05)\n"
          ]
        }
      ]
    },
    {
      "cell_type": "code",
      "metadata": {
        "id": "NqdwFa6NSVJs",
        "outputId": "d4dadfc9-98db-4d6d-c4d0-6fa57b89c7f2",
        "colab": {
          "base_uri": "https://localhost:8080/"
        }
      },
      "source": [
        "parameters = {  'C'       : [2.5, 3, 4]   ,\n",
        "                'kernel'  : ['rbf', 'poly', 'sigmoid'],\n",
        "                'gamma'   : [ 0.01, 0.05, 0.07],\n",
        "                 \"degree\" : [1,3,5]}\n",
        "grid = GridSearchCV(svm.SVR(), parameters, n_jobs=-1)\n",
        "grid.fit(X_train, y_train)\n",
        "print (grid.best_score_, grid.best_estimator_)\n"
      ],
      "execution_count": 14,
      "outputs": [
        {
          "output_type": "stream",
          "name": "stdout",
          "text": [
            "0.7205692542786821 SVR(C=4, degree=1, gamma=0.05)\n"
          ]
        }
      ]
    },
    {
      "cell_type": "code",
      "metadata": {
        "id": "vVDDryxwSVJt",
        "outputId": "f4d54db1-3e03-4f17-c40e-3d39a0e9642d",
        "colab": {
          "base_uri": "https://localhost:8080/"
        }
      },
      "source": [
        "parameters = {  'C'       : [4, 5, 6, 7]   ,\n",
        "                'kernel'  : ['rbf'],\n",
        "                'gamma'   : [ 0.03, 0.05, 0.07],\n",
        "                 \"degree\" : [1,2, 3]}\n",
        "grid = GridSearchCV(svm.SVR(), parameters, n_jobs=-1)\n",
        "grid.fit(X_train, y_train)\n",
        "print (grid.best_score_, grid.best_estimator_)\n"
      ],
      "execution_count": 15,
      "outputs": [
        {
          "output_type": "stream",
          "name": "stdout",
          "text": [
            "0.7582252839042802 SVR(C=7, degree=1, gamma=0.07)\n"
          ]
        }
      ]
    },
    {
      "cell_type": "code",
      "metadata": {
        "id": "pjs-8zOeSVJt",
        "outputId": "e0ef3f08-c70d-4adf-f968-f2d2c7f189d6",
        "colab": {
          "base_uri": "https://localhost:8080/"
        }
      },
      "source": [
        "parameters = {  'C'       : [10, 15, 20, 30]   ,\n",
        "                'kernel'  : ['rbf'],\n",
        "                'gamma'   : [ 0.03],\n",
        "                  \"epsilon\" : [0.01, 0.05, 0.15],\n",
        "                 \"degree\" : [1,2]}\n",
        "grid = GridSearchCV(svm.SVR(), parameters, n_jobs=-1)\n",
        "grid.fit(X_train, y_train)\n",
        "print (grid.best_score_, grid.best_estimator_)\n"
      ],
      "execution_count": 16,
      "outputs": [
        {
          "output_type": "stream",
          "name": "stdout",
          "text": [
            "0.8016033314072007 SVR(C=30, degree=1, epsilon=0.01, gamma=0.03)\n"
          ]
        }
      ]
    },
    {
      "cell_type": "code",
      "metadata": {
        "id": "itXLtDiJSVJu",
        "outputId": "c30e9957-1589-4bca-dc6a-27ea4130b62c",
        "colab": {
          "base_uri": "https://localhost:8080/"
        }
      },
      "source": [
        "parameters = {  'C'       : [190, 200, 250, 260]   ,\n",
        "                'kernel'  : ['rbf'],\n",
        "                'gamma'   : [ 0.03],\n",
        "                \"epsilon\" : [1.5, 2, 2.5],\n",
        "                 \"degree\" : [1,2]}\n",
        "grid = GridSearchCV(svm.SVR(), parameters, n_jobs=-1)\n",
        "grid.fit(X_train, y_train)\n",
        "print (grid.best_score_, grid.best_estimator_)\n"
      ],
      "execution_count": 17,
      "outputs": [
        {
          "output_type": "stream",
          "name": "stdout",
          "text": [
            "0.8089416238959677 SVR(C=200, degree=1, epsilon=1.5, gamma=0.03)\n"
          ]
        }
      ]
    },
    {
      "cell_type": "code",
      "metadata": {
        "id": "ai4YefMTSVJu"
      },
      "source": [
        "# Exercice => tester vos propres paramètres"
      ],
      "execution_count": 18,
      "outputs": []
    },
    {
      "cell_type": "markdown",
      "metadata": {
        "id": "d5tLLR1gSVJu"
      },
      "source": [
        "# On aurait pu faire une fonction de test : "
      ]
    },
    {
      "cell_type": "code",
      "metadata": {
        "id": "zrVRBhX7SVJv"
      },
      "source": [
        "def test_hyperparametres(hyperparametres):\n",
        "    grid       = GridSearchCV(svm.SVR(), hyperparametres, n_jobs=-1)\n",
        "    grid.fit(X_train, y_train)\n",
        "    print (grid.best_score_, grid.best_estimator_)    \n",
        "    return grid.best_score_, grid.best_estimator_\n",
        "    "
      ],
      "execution_count": 19,
      "outputs": []
    },
    {
      "cell_type": "code",
      "metadata": {
        "id": "DQCFxfcQSVJv",
        "outputId": "5be82e00-e862-49ad-9715-f1a732415561",
        "colab": {
          "base_uri": "https://localhost:8080/"
        }
      },
      "source": [
        "hyperparametres = {  'gamma' : [0.01, 0.1, 0.5, 0.015]          ,\n",
        "                  \"kernel\" : ['linear', 'poly', 'rbf', 'sigmoid',  ],\n",
        "                  \"C\" : [105, 200]}\n",
        "test_hyperparametres(hyperparametres)"
      ],
      "execution_count": 20,
      "outputs": [
        {
          "output_type": "stream",
          "name": "stdout",
          "text": [
            "0.809210503496605 SVR(C=200, gamma=0.015)\n"
          ]
        },
        {
          "output_type": "execute_result",
          "data": {
            "text/plain": [
              "(0.809210503496605, SVR(C=200, gamma=0.015))"
            ]
          },
          "metadata": {},
          "execution_count": 20
        }
      ]
    },
    {
      "cell_type": "code",
      "metadata": {
        "id": "HbzzrD75SVJv"
      },
      "source": [
        "from sklearn.linear_model import Lasso"
      ],
      "execution_count": 21,
      "outputs": []
    },
    {
      "cell_type": "code",
      "metadata": {
        "id": "kZaVRzNESVJv"
      },
      "source": [
        "def test_hyperparametres(algo, hyperparametres):\n",
        "    grid       = grid_search.GridSearchCV(algo, hyperparametres, n_jobs=-1)\n",
        "    grid.fit(X_train, y_train)\n",
        "    print (grid.best_score_, grid.best_estimator_)    \n",
        "    return grid.best_score_, grid.best_estimator_\n"
      ],
      "execution_count": 22,
      "outputs": []
    },
    {
      "cell_type": "code",
      "metadata": {
        "scrolled": true,
        "id": "aQbwrGN0SVJw",
        "outputId": "cd09f5a2-4fec-4d50-80aa-a55be22626f5",
        "colab": {
          "base_uri": "https://localhost:8080/"
        }
      },
      "source": [
        "algo = Lasso()\n",
        "params = {\"max_iter\" : [ 1000],\n",
        "         \"alpha\" : [0.1], \n",
        "         \"selection\": [\"random\", \"cyclic\"]}\n",
        "grid       = GridSearchCV(algo, params, n_jobs=-1)\n",
        "grid.fit(X_train, y_train)\n",
        "print (grid.best_score_, grid.best_estimator_)    \n"
      ],
      "execution_count": 23,
      "outputs": [
        {
          "output_type": "stream",
          "name": "stdout",
          "text": [
            "0.6618541038399973 Lasso(alpha=0.1)\n"
          ]
        }
      ]
    },
    {
      "cell_type": "markdown",
      "metadata": {
        "id": "xwiFHPvwSVJw"
      },
      "source": [
        "# Import de xgboost"
      ]
    },
    {
      "cell_type": "code",
      "metadata": {
        "id": "UokPmOEESVJw",
        "outputId": "9685ef70-435a-44e5-ea43-b9788f9cbd0d",
        "colab": {
          "base_uri": "https://localhost:8080/"
        }
      },
      "source": [
        "!pip install xgboost"
      ],
      "execution_count": 24,
      "outputs": [
        {
          "output_type": "stream",
          "name": "stdout",
          "text": [
            "Looking in indexes: https://pypi.org/simple, https://us-python.pkg.dev/colab-wheels/public/simple/\n",
            "Requirement already satisfied: xgboost in /usr/local/lib/python3.7/dist-packages (0.90)\n",
            "Requirement already satisfied: numpy in /usr/local/lib/python3.7/dist-packages (from xgboost) (1.21.6)\n",
            "Requirement already satisfied: scipy in /usr/local/lib/python3.7/dist-packages (from xgboost) (1.7.3)\n"
          ]
        }
      ]
    },
    {
      "cell_type": "code",
      "metadata": {
        "id": "MCSD5iaeSVJw",
        "outputId": "80bbd4f5-29f2-420f-e336-7f03b9a9d84e",
        "colab": {
          "base_uri": "https://localhost:8080/"
        }
      },
      "source": [
        "!brew install libomp"
      ],
      "execution_count": 25,
      "outputs": [
        {
          "output_type": "stream",
          "name": "stdout",
          "text": [
            "/bin/bash: brew: command not found\n"
          ]
        }
      ]
    },
    {
      "cell_type": "code",
      "metadata": {
        "id": "_XuMiQLKSVJx"
      },
      "source": [
        "from xgboost import XGBRegressor\n",
        "algo = XGBRegressor()"
      ],
      "execution_count": 26,
      "outputs": []
    },
    {
      "cell_type": "code",
      "metadata": {
        "id": "3DCYtUZdSVJx",
        "outputId": "f79e2958-8f59-4102-ea6a-b3404d5ec8e0",
        "colab": {
          "base_uri": "https://localhost:8080/"
        }
      },
      "source": [
        "default_hyperparameters = algo.get_params()\n",
        "espace_de_Recherche = {}\n",
        "for i, hyperparam in enumerate(default_hyperparameters):\n",
        "    default_value = default_hyperparameters[hyperparam]\n",
        "    if default_value:\n",
        "        if type(default_value) == int:\n",
        "            delta = default_value * 2\n",
        "            valeurs_de_recherches = [default_value-delta,default_value, default_value+ delta]\n",
        "        if type(default_value) == float:\n",
        "            delta = default_value * 0.1\n",
        "            valeurs_de_recherches = [default_value-delta,default_value, default_value+ delta]\n",
        "        if type(default_value) == bool:\n",
        "            valeurs_de_recherches = [True, False]\n",
        "        espace_de_Recherche[hyperparam]=valeurs_de_recherches\n",
        "        print(hyperparam, default_value, valeurs_de_recherches)\n",
        "espace_de_Recherche[\"n_jobs\"]=[-1]"
      ],
      "execution_count": 27,
      "outputs": [
        {
          "output_type": "stream",
          "name": "stdout",
          "text": [
            "base_score 0.5 [0.45, 0.5, 0.55]\n",
            "booster gbtree [0.45, 0.5, 0.55]\n",
            "colsample_bylevel 1 [-1, 1, 3]\n",
            "colsample_bynode 1 [-1, 1, 3]\n",
            "colsample_bytree 1 [-1, 1, 3]\n",
            "importance_type gain [-1, 1, 3]\n",
            "learning_rate 0.1 [0.09, 0.1, 0.11000000000000001]\n",
            "max_depth 3 [-3, 3, 9]\n",
            "min_child_weight 1 [-1, 1, 3]\n",
            "n_estimators 100 [-100, 100, 300]\n",
            "n_jobs 1 [-1, 1, 3]\n",
            "objective reg:linear [-1, 1, 3]\n",
            "reg_lambda 1 [-1, 1, 3]\n",
            "scale_pos_weight 1 [-1, 1, 3]\n",
            "subsample 1 [-1, 1, 3]\n",
            "verbosity 1 [-1, 1, 3]\n"
          ]
        }
      ]
    },
    {
      "cell_type": "code",
      "metadata": {
        "id": "GJLNvJRXSVJx"
      },
      "source": [
        "def test_hyperparametres(algo, hyperparametres):\n",
        "    grid       = GridSearchCV(algo, hyperparametres, n_jobs=-1)\n",
        "    grid.fit(X_train, y_train)\n",
        "    print (grid.best_score_, grid.best_estimator_)    \n",
        "    return grid.best_score_, grid.best_estimator_\n"
      ],
      "execution_count": 28,
      "outputs": []
    },
    {
      "cell_type": "code",
      "metadata": {
        "id": "tAlEwPwwSVJx",
        "colab": {
          "base_uri": "https://localhost:8080/"
        },
        "outputId": "dfc21280-d367-4cd7-af92-c3ade2ae7a4b"
      },
      "source": [
        "espace_de_Recherche = {\n",
        "    \"max_depth\" : [1,5,10],\n",
        "    \"gamma\" : [0.5, 1, 1.1, 1.2, 1.5]\n",
        "}\n",
        "test_hyperparametres(XGBRegressor(), espace_de_Recherche)"
      ],
      "execution_count": 29,
      "outputs": [
        {
          "output_type": "stream",
          "name": "stdout",
          "text": [
            "[16:15:54] WARNING: /workspace/src/objective/regression_obj.cu:152: reg:linear is now deprecated in favor of reg:squarederror.\n",
            "0.8058063518106554 XGBRegressor(gamma=1.1, max_depth=5)\n"
          ]
        },
        {
          "output_type": "execute_result",
          "data": {
            "text/plain": [
              "(0.8058063518106554, XGBRegressor(gamma=1.1, max_depth=5))"
            ]
          },
          "metadata": {},
          "execution_count": 29
        }
      ]
    },
    {
      "cell_type": "code",
      "metadata": {
        "id": "Ng1IKf-BSVJy",
        "colab": {
          "base_uri": "https://localhost:8080/"
        },
        "outputId": "400d1152-8ed4-4f61-b9f0-6e0afb9d46bc"
      },
      "source": [
        "modele = algo.fit(X_train, y_train)\n",
        "\n",
        "modele.score(X_test, y_test)"
      ],
      "execution_count": 30,
      "outputs": [
        {
          "output_type": "stream",
          "name": "stdout",
          "text": [
            "[16:15:54] WARNING: /workspace/src/objective/regression_obj.cu:152: reg:linear is now deprecated in favor of reg:squarederror.\n"
          ]
        },
        {
          "output_type": "execute_result",
          "data": {
            "text/plain": [
              "0.929326562751371"
            ]
          },
          "metadata": {},
          "execution_count": 30
        }
      ]
    },
    {
      "cell_type": "markdown",
      "metadata": {
        "id": "D4h5rNUbSVJy"
      },
      "source": [
        "# 6) tester tous les algorithmes"
      ]
    },
    {
      "cell_type": "code",
      "metadata": {
        "id": "YO3BoHKOSVJy"
      },
      "source": [
        "def get_sklearn_algorithms(verbose = False):\n",
        "    \"\"\"\n",
        "    Explore all submodule of sklearn and fetch functions having a 'fit' attribute.\n",
        "    \n",
        "    Be careful : some functions are not models (ex : crossvalidators)\n",
        "    Parameters :\n",
        "        debug = print or not stuff on console\n",
        "    Return :\n",
        "        dict : { module : [ fit_functions] }\n",
        "    \"\"\"\n",
        "    from collections import defaultdict\n",
        "    import importlib\n",
        "    import sklearn\n",
        "    algos = defaultdict(list)\n",
        "    if verbose : print (dir(sklearn))\n",
        "    for nom_module in dir(sklearn):    \n",
        "        if verbose : print (nom_module)\n",
        "        try:\n",
        "            to_import = \"sklearn.%s\"%nom_module\n",
        "            module    = importlib.import_module(to_import)\n",
        "            for nom_fonction in dir(module):\n",
        "                fonction = getattr(module, nom_fonction)\n",
        "                if hasattr(fonction, \"fit\"):\n",
        "                    if verbose : print (\" nom algorithme  = \", nom_fonction)\n",
        "                    algos[nom_module].append(fonction)                                            \n",
        "        except Exception as e:\n",
        "            if verbose : print( e)\n",
        "        if verbose: print (\"=\"*30)\n",
        "    return algos"
      ],
      "execution_count": 31,
      "outputs": []
    },
    {
      "cell_type": "code",
      "metadata": {
        "id": "iIKHIkmxSVJy",
        "colab": {
          "base_uri": "https://localhost:8080/"
        },
        "outputId": "278d0f9a-1a43-436f-dabe-3d9a7b748256"
      },
      "source": [
        "algos = get_sklearn_algorithms()\n",
        "algos"
      ],
      "execution_count": 32,
      "outputs": [
        {
          "output_type": "execute_result",
          "data": {
            "text/plain": [
              "defaultdict(list,\n",
              "            {'feature_extraction': [sklearn.feature_extraction._dict_vectorizer.DictVectorizer,\n",
              "              sklearn.feature_extraction._hash.FeatureHasher],\n",
              "             'linear_model': [sklearn.linear_model._bayes.ARDRegression,\n",
              "              sklearn.linear_model._bayes.BayesianRidge,\n",
              "              sklearn.linear_model._coordinate_descent.ElasticNet,\n",
              "              sklearn.linear_model._coordinate_descent.ElasticNetCV,\n",
              "              sklearn.linear_model._glm.glm.GammaRegressor,\n",
              "              sklearn.linear_model._huber.HuberRegressor,\n",
              "              sklearn.linear_model._least_angle.Lars,\n",
              "              sklearn.linear_model._least_angle.LarsCV,\n",
              "              sklearn.linear_model._coordinate_descent.Lasso,\n",
              "              sklearn.linear_model._coordinate_descent.LassoCV,\n",
              "              sklearn.linear_model._least_angle.LassoLars,\n",
              "              sklearn.linear_model._least_angle.LassoLarsCV,\n",
              "              sklearn.linear_model._least_angle.LassoLarsIC,\n",
              "              sklearn.linear_model._base.LinearRegression,\n",
              "              sklearn.linear_model._logistic.LogisticRegression,\n",
              "              sklearn.linear_model._logistic.LogisticRegressionCV,\n",
              "              sklearn.linear_model._coordinate_descent.MultiTaskElasticNet,\n",
              "              sklearn.linear_model._coordinate_descent.MultiTaskElasticNetCV,\n",
              "              sklearn.linear_model._coordinate_descent.MultiTaskLasso,\n",
              "              sklearn.linear_model._coordinate_descent.MultiTaskLassoCV,\n",
              "              sklearn.linear_model._omp.OrthogonalMatchingPursuit,\n",
              "              sklearn.linear_model._omp.OrthogonalMatchingPursuitCV,\n",
              "              sklearn.linear_model._passive_aggressive.PassiveAggressiveClassifier,\n",
              "              sklearn.linear_model._passive_aggressive.PassiveAggressiveRegressor,\n",
              "              sklearn.linear_model._perceptron.Perceptron,\n",
              "              sklearn.linear_model._glm.glm.PoissonRegressor,\n",
              "              sklearn.linear_model._quantile.QuantileRegressor,\n",
              "              sklearn.linear_model._ransac.RANSACRegressor,\n",
              "              sklearn.linear_model._ridge.Ridge,\n",
              "              sklearn.linear_model._ridge.RidgeCV,\n",
              "              sklearn.linear_model._ridge.RidgeClassifier,\n",
              "              sklearn.linear_model._ridge.RidgeClassifierCV,\n",
              "              sklearn.linear_model._stochastic_gradient.SGDClassifier,\n",
              "              sklearn.linear_model._stochastic_gradient.SGDOneClassSVM,\n",
              "              sklearn.linear_model._stochastic_gradient.SGDRegressor,\n",
              "              sklearn.linear_model._theil_sen.TheilSenRegressor,\n",
              "              sklearn.linear_model._glm.glm.TweedieRegressor],\n",
              "             'model_selection': [sklearn.model_selection._search.GridSearchCV,\n",
              "              sklearn.model_selection._search.RandomizedSearchCV],\n",
              "             'preprocessing': [sklearn.preprocessing._data.Binarizer,\n",
              "              sklearn.preprocessing._function_transformer.FunctionTransformer,\n",
              "              sklearn.preprocessing._discretization.KBinsDiscretizer,\n",
              "              sklearn.preprocessing._data.KernelCenterer,\n",
              "              sklearn.preprocessing._label.LabelBinarizer,\n",
              "              sklearn.preprocessing._label.LabelEncoder,\n",
              "              sklearn.preprocessing._data.MaxAbsScaler,\n",
              "              sklearn.preprocessing._data.MinMaxScaler,\n",
              "              sklearn.preprocessing._label.MultiLabelBinarizer,\n",
              "              sklearn.preprocessing._data.Normalizer,\n",
              "              sklearn.preprocessing._encoders.OneHotEncoder,\n",
              "              sklearn.preprocessing._encoders.OrdinalEncoder,\n",
              "              sklearn.preprocessing._polynomial.PolynomialFeatures,\n",
              "              sklearn.preprocessing._data.PowerTransformer,\n",
              "              sklearn.preprocessing._data.QuantileTransformer,\n",
              "              sklearn.preprocessing._data.RobustScaler,\n",
              "              sklearn.preprocessing._polynomial.SplineTransformer,\n",
              "              sklearn.preprocessing._data.StandardScaler],\n",
              "             'svm': [sklearn.svm._classes.LinearSVC,\n",
              "              sklearn.svm._classes.LinearSVR,\n",
              "              sklearn.svm._classes.NuSVC,\n",
              "              sklearn.svm._classes.NuSVR,\n",
              "              sklearn.svm._classes.OneClassSVM,\n",
              "              sklearn.svm._classes.SVC,\n",
              "              sklearn.svm._classes.SVR,\n",
              "              <module 'sklearn.svm._libsvm' from '/usr/local/lib/python3.7/dist-packages/sklearn/svm/_libsvm.cpython-37m-x86_64-linux-gnu.so'>]})"
            ]
          },
          "metadata": {},
          "execution_count": 32
        }
      ]
    },
    {
      "cell_type": "markdown",
      "metadata": {
        "id": "IClGJtlUSVJy"
      },
      "source": [
        "## Liste les algorithmes"
      ]
    },
    {
      "cell_type": "code",
      "metadata": {
        "id": "qLoaPsizSVJy",
        "colab": {
          "base_uri": "https://localhost:8080/"
        },
        "outputId": "68c1870c-fe07-4104-da75-e6ef0f50d53c"
      },
      "source": [
        "algos = get_sklearn_algorithms()\n",
        "for key in algos.keys():\n",
        "    print (\"\\n===>\",key)\n",
        "    algos_ = []\n",
        "    for algo in algos[key]:\n",
        "        classe_algo = str(algo)\n",
        "        nom_algo    = classe_algo[str(classe_algo).rfind(\".\")+1:str(classe_algo).rfind(\"'\")]\n",
        "        algos_.append(nom_algo)\n",
        "    print (\",\".join(algos_))"
      ],
      "execution_count": 33,
      "outputs": [
        {
          "output_type": "stream",
          "name": "stdout",
          "text": [
            "\n",
            "===> feature_extraction\n",
            "DictVectorizer,FeatureHasher\n",
            "\n",
            "===> linear_model\n",
            "ARDRegression,BayesianRidge,ElasticNet,ElasticNetCV,GammaRegressor,HuberRegressor,Lars,LarsCV,Lasso,LassoCV,LassoLars,LassoLarsCV,LassoLarsIC,LinearRegression,LogisticRegression,LogisticRegressionCV,MultiTaskElasticNet,MultiTaskElasticNetCV,MultiTaskLasso,MultiTaskLassoCV,OrthogonalMatchingPursuit,OrthogonalMatchingPursuitCV,PassiveAggressiveClassifier,PassiveAggressiveRegressor,Perceptron,PoissonRegressor,QuantileRegressor,RANSACRegressor,Ridge,RidgeCV,RidgeClassifier,RidgeClassifierCV,SGDClassifier,SGDOneClassSVM,SGDRegressor,TheilSenRegressor,TweedieRegressor\n",
            "\n",
            "===> model_selection\n",
            "GridSearchCV,RandomizedSearchCV\n",
            "\n",
            "===> preprocessing\n",
            "Binarizer,FunctionTransformer,KBinsDiscretizer,KernelCenterer,LabelBinarizer,LabelEncoder,MaxAbsScaler,MinMaxScaler,MultiLabelBinarizer,Normalizer,OneHotEncoder,OrdinalEncoder,PolynomialFeatures,PowerTransformer,QuantileTransformer,RobustScaler,SplineTransformer,StandardScaler\n",
            "\n",
            "===> svm\n",
            "LinearSVC,LinearSVR,NuSVC,NuSVR,OneClassSVM,SVC,SVR,so\n"
          ]
        }
      ]
    },
    {
      "cell_type": "markdown",
      "metadata": {
        "id": "JyymdJj4SVJz"
      },
      "source": [
        "## supprimer les warnings dans jupyter"
      ]
    },
    {
      "cell_type": "code",
      "metadata": {
        "id": "mVWIIkJRSVJz"
      },
      "source": [
        "import warnings\n",
        "warnings.filterwarnings(\"ignore\", category=DeprecationWarning) "
      ],
      "execution_count": 34,
      "outputs": []
    },
    {
      "cell_type": "markdown",
      "metadata": {
        "id": "TV2KucnOSVJz"
      },
      "source": [
        "## Utiliser chaque algo et conserver les performances"
      ]
    },
    {
      "cell_type": "code",
      "metadata": {
        "scrolled": false,
        "id": "KGGSQUTCSVJz",
        "colab": {
          "base_uri": "https://localhost:8080/"
        },
        "outputId": "1580fa67-207f-4004-ce00-ab9473f0de02"
      },
      "source": [
        "performances               = {}\n",
        "modeles_a_tester           = []\n",
        "classes_de_models_a_tester = algos.keys()\n",
        "best_algorithm = 0\n",
        "best_perf = 0\n",
        "for classe_de_models in classes_de_models_a_tester:\n",
        "    modeles_a_tester.extend(algos[classe_de_models])\n",
        "    \n",
        "for pointeur_vers_algo in modeles_a_tester:\n",
        "    try:\n",
        "        algorithme = pointeur_vers_algo()\n",
        "        doc        = algorithme.__doc__\n",
        "        name       = doc[:min(doc.find(\":\"), 25)].strip()\n",
        "        print (name)\n",
        "        algorithme.fit(X_train, y_train)\n",
        "        performance = algorithme.score(X_test, y_test)\n",
        "        print (performance)\n",
        "        if performance >  best_perf:\n",
        "            best_algorithm = algorithme\n",
        "            best_perf = performance\n",
        "            \n",
        "        if 0<performance and performance<1:\n",
        "            performances[name] = [performance]\n",
        "    except Exception as e:\n",
        "        if \"label\" in str(e): print (\"Algo de classification\")\n",
        "        else                : print (str(e)[:50])\n",
        "    print (\"=\"*30)\n",
        "    "
      ],
      "execution_count": 35,
      "outputs": [
        {
          "output_type": "stream",
          "name": "stdout",
          "text": [
            "Transforms lists of featu\n",
            "'numpy.ndarray' object has no attribute 'items'\n",
            "==============================\n",
            "Implements feature hashin\n",
            "'FeatureHasher' object has no attribute 'score'\n",
            "==============================\n",
            "Bayesian ARD regression.\n",
            "0.7792447926802762\n",
            "==============================\n",
            "Bayesian ridge regression\n",
            "0.773508387066803\n",
            "==============================\n",
            "Linear regression with co\n",
            "0.6809703789834461\n",
            "==============================\n",
            "Elastic Net model with it\n",
            "0.7752825662231468\n",
            "==============================\n",
            "Generalized Linear Model\n",
            "0.7095283680301951\n",
            "==============================\n",
            "Linear regression model t\n",
            "0.8091197905758085\n",
            "==============================\n",
            "Least Angle Regression mo\n",
            "0.7709142782479056\n",
            "==============================\n",
            "Cross-validated Least Ang\n",
            "0.7733915458474633\n",
            "==============================\n",
            "Linear Model trained with\n",
            "0.7026883982919312\n",
            "==============================\n",
            "Lasso linear model with i\n"
          ]
        },
        {
          "output_type": "stream",
          "name": "stderr",
          "text": [
            "/usr/local/lib/python3.7/dist-packages/sklearn/linear_model/_base.py:138: FutureWarning: The default of 'normalize' will be set to False in version 1.2 and deprecated in version 1.4.\n",
            "If you wish to scale the data, use Pipeline with a StandardScaler in a preprocessing stage. To reproduce the previous behavior:\n",
            "\n",
            "from sklearn.pipeline import make_pipeline\n",
            "\n",
            "model = make_pipeline(StandardScaler(with_mean=False), Lars())\n",
            "\n",
            "If you wish to pass a sample_weight parameter, you need to pass it as a fit parameter to each step of the pipeline as follows:\n",
            "\n",
            "kwargs = {s[0] + '__sample_weight': sample_weight for s in model.steps}\n",
            "model.fit(X, y, **kwargs)\n",
            "\n",
            "\n",
            "  FutureWarning,\n",
            "/usr/local/lib/python3.7/dist-packages/sklearn/linear_model/_base.py:138: FutureWarning: The default of 'normalize' will be set to False in version 1.2 and deprecated in version 1.4.\n",
            "If you wish to scale the data, use Pipeline with a StandardScaler in a preprocessing stage. To reproduce the previous behavior:\n",
            "\n",
            "from sklearn.pipeline import make_pipeline\n",
            "\n",
            "model = make_pipeline(StandardScaler(with_mean=False), LarsCV())\n",
            "\n",
            "If you wish to pass a sample_weight parameter, you need to pass it as a fit parameter to each step of the pipeline as follows:\n",
            "\n",
            "kwargs = {s[0] + '__sample_weight': sample_weight for s in model.steps}\n",
            "model.fit(X, y, **kwargs)\n",
            "\n",
            "\n",
            "  FutureWarning,\n",
            "/usr/local/lib/python3.7/dist-packages/sklearn/linear_model/_base.py:138: FutureWarning: The default of 'normalize' will be set to False in version 1.2 and deprecated in version 1.4.\n",
            "If you wish to scale the data, use Pipeline with a StandardScaler in a preprocessing stage. To reproduce the previous behavior:\n",
            "\n",
            "from sklearn.pipeline import make_pipeline\n",
            "\n",
            "model = make_pipeline(StandardScaler(with_mean=False), LassoLars())\n",
            "\n",
            "If you wish to pass a sample_weight parameter, you need to pass it as a fit parameter to each step of the pipeline as follows:\n",
            "\n",
            "kwargs = {s[0] + '__sample_weight': sample_weight for s in model.steps}\n",
            "model.fit(X, y, **kwargs)\n",
            "\n",
            "Set parameter alpha to: original_alpha * np.sqrt(n_samples). \n",
            "  FutureWarning,\n"
          ]
        },
        {
          "output_type": "stream",
          "name": "stdout",
          "text": [
            "0.7756242478620907\n",
            "==============================\n",
            "Lasso model fit with Leas\n",
            "-6.801927034949529e-07\n",
            "==============================\n",
            "Cross-validated Lasso, us\n",
            "0.7756867110475032\n",
            "==============================\n",
            "Lasso model fit with Lars\n",
            "0.7709142782479056\n",
            "==============================\n",
            "Ordinary least squar\n",
            "0.7709142782479051\n",
            "==============================\n",
            "Logistic Regression\n",
            "Algo de classification\n",
            "==============================\n",
            "Logistic Regression CV (a\n",
            "Algo de classification\n",
            "==============================\n",
            "Multi-task ElasticNet mod\n",
            "For mono-task outputs, use ElasticNet\n",
            "==============================\n",
            "Multi-task L1/L2 ElasticN\n",
            "For mono-task outputs, use ElasticNetCVCV\n",
            "==============================\n",
            "Multi-task Lasso model tr\n",
            "For mono-task outputs, use ElasticNet\n",
            "==============================\n",
            "Multi-task Lasso model tr\n",
            "For mono-task outputs, use LassoCVCV\n",
            "==============================\n",
            "Orthogonal Matching Pursu\n",
            "0.5994357454512825\n",
            "==============================\n",
            "Cross-validated Orthogona\n",
            "0.734925775905604\n",
            "==============================\n",
            "Passive Aggressive Classi\n",
            "Algo de classification\n",
            "==============================\n",
            "Passive Aggressive Regres\n",
            "0.5778283311770237\n",
            "==============================\n",
            "Linear perceptron classif\n",
            "Algo de classification\n",
            "==============================\n",
            "Generalized Linear Model\n",
            "0.8408981975941526\n",
            "==============================\n",
            "Linear regression model t\n"
          ]
        },
        {
          "output_type": "stream",
          "name": "stderr",
          "text": [
            "/usr/local/lib/python3.7/dist-packages/sklearn/linear_model/_base.py:138: FutureWarning: The default of 'normalize' will be set to False in version 1.2 and deprecated in version 1.4.\n",
            "If you wish to scale the data, use Pipeline with a StandardScaler in a preprocessing stage. To reproduce the previous behavior:\n",
            "\n",
            "from sklearn.pipeline import make_pipeline\n",
            "\n",
            "model = make_pipeline(StandardScaler(with_mean=False), LassoLarsCV())\n",
            "\n",
            "If you wish to pass a sample_weight parameter, you need to pass it as a fit parameter to each step of the pipeline as follows:\n",
            "\n",
            "kwargs = {s[0] + '__sample_weight': sample_weight for s in model.steps}\n",
            "model.fit(X, y, **kwargs)\n",
            "\n",
            "Set parameter alpha to: original_alpha * np.sqrt(n_samples). \n",
            "  FutureWarning,\n",
            "/usr/local/lib/python3.7/dist-packages/sklearn/linear_model/_base.py:138: FutureWarning: The default of 'normalize' will be set to False in version 1.2 and deprecated in version 1.4.\n",
            "If you wish to scale the data, use Pipeline with a StandardScaler in a preprocessing stage. To reproduce the previous behavior:\n",
            "\n",
            "from sklearn.pipeline import make_pipeline\n",
            "\n",
            "model = make_pipeline(StandardScaler(with_mean=False), LassoLarsIC())\n",
            "\n",
            "If you wish to pass a sample_weight parameter, you need to pass it as a fit parameter to each step of the pipeline as follows:\n",
            "\n",
            "kwargs = {s[0] + '__sample_weight': sample_weight for s in model.steps}\n",
            "model.fit(X, y, **kwargs)\n",
            "\n",
            "Set parameter alpha to: original_alpha * np.sqrt(n_samples). \n",
            "  FutureWarning,\n",
            "/usr/local/lib/python3.7/dist-packages/sklearn/linear_model/_base.py:138: FutureWarning: The default of 'normalize' will be set to False in version 1.2 and deprecated in version 1.4.\n",
            "If you wish to scale the data, use Pipeline with a StandardScaler in a preprocessing stage. To reproduce the previous behavior:\n",
            "\n",
            "from sklearn.pipeline import make_pipeline\n",
            "\n",
            "model = make_pipeline(StandardScaler(with_mean=False), OrthogonalMatchingPursuit())\n",
            "\n",
            "If you wish to pass a sample_weight parameter, you need to pass it as a fit parameter to each step of the pipeline as follows:\n",
            "\n",
            "kwargs = {s[0] + '__sample_weight': sample_weight for s in model.steps}\n",
            "model.fit(X, y, **kwargs)\n",
            "\n",
            "\n",
            "  FutureWarning,\n",
            "/usr/local/lib/python3.7/dist-packages/sklearn/linear_model/_base.py:138: FutureWarning: The default of 'normalize' will be set to False in version 1.2 and deprecated in version 1.4.\n",
            "If you wish to scale the data, use Pipeline with a StandardScaler in a preprocessing stage. To reproduce the previous behavior:\n",
            "\n",
            "from sklearn.pipeline import make_pipeline\n",
            "\n",
            "model = make_pipeline(StandardScaler(with_mean=False), OrthogonalMatchingPursuitCV())\n",
            "\n",
            "If you wish to pass a sample_weight parameter, you need to pass it as a fit parameter to each step of the pipeline as follows:\n",
            "\n",
            "kwargs = {s[0] + '__sample_weight': sample_weight for s in model.steps}\n",
            "model.fit(X, y, **kwargs)\n",
            "\n",
            "\n",
            "  FutureWarning,\n"
          ]
        },
        {
          "output_type": "stream",
          "name": "stdout",
          "text": [
            "-0.014021455223118817\n",
            "==============================\n",
            "RANSAC (RANdom SAmple Con\n",
            "0.6140036842569613\n",
            "==============================\n",
            "Linear least squares with\n",
            "0.7715305842241731\n",
            "==============================\n",
            "Ridge regression with bui\n",
            "0.7715305842240381\n",
            "==============================\n",
            "Classifier using Ridge re\n",
            "Algo de classification\n",
            "==============================\n",
            "Ridge classifier with bui\n",
            "Algo de classification\n",
            "==============================\n",
            "Linear classifiers (SVM,\n",
            "Algo de classification\n",
            "==============================\n",
            "Solves linear One-Class S\n",
            "'SGDOneClassSVM' object has no attribute 'score'\n",
            "==============================\n",
            "Linear model fitted by mi\n",
            "0.7674179734216503\n",
            "==============================\n",
            "Theil-Sen Estimator\n",
            "0.6661226128066364\n",
            "==============================\n",
            "Generalized Linear Model\n",
            "0.6737400846352355\n",
            "==============================\n",
            "__init__() missing 2 required positional arguments\n",
            "==============================\n",
            "__init__() missing 2 required positional arguments\n",
            "==============================\n",
            "Binarize data (set featur\n",
            "'Binarizer' object has no attribute 'score'\n",
            "==============================\n",
            "Constructs a transformer\n",
            "'FunctionTransformer' object has no attribute 'sco\n",
            "==============================\n",
            "Bin continuous data\n",
            "'KBinsDiscretizer' object has no attribute 'score'\n",
            "==============================\n",
            "Center an arbitrary kerne\n",
            "Kernel matrix must be a square matrix. Input is a \n",
            "==============================\n",
            "Binarize labels in a one-\n",
            "fit() takes 2 positional arguments but 3 were give\n",
            "==============================\n",
            "Encode target labels with\n",
            "fit() takes 2 positional arguments but 3 were give\n",
            "==============================\n",
            "Scale each feature by its\n",
            "'MaxAbsScaler' object has no attribute 'score'\n",
            "==============================\n",
            "Transform features by sca\n",
            "'MinMaxScaler' object has no attribute 'score'\n",
            "==============================\n",
            "Transform between iterabl\n",
            "fit() takes 2 positional arguments but 3 were give\n",
            "==============================\n",
            "Normalize samples individ\n",
            "'Normalizer' object has no attribute 'score'\n",
            "==============================\n",
            "Encode categorical f\n",
            "'OneHotEncoder' object has no attribute 'score'\n",
            "==============================\n",
            "Encode categorical f\n",
            "'OrdinalEncoder' object has no attribute 'score'\n",
            "==============================\n",
            "Generate polynomial and i\n",
            "'PolynomialFeatures' object has no attribute 'scor\n",
            "==============================\n",
            "Apply a power transform f\n",
            "'PowerTransformer' object has no attribute 'score'\n",
            "==============================\n",
            "Transform features using\n",
            "'QuantileTransformer' object has no attribute 'sco\n",
            "==============================\n",
            "Scale features using stat\n",
            "'RobustScaler' object has no attribute 'score'\n",
            "==============================\n",
            "Generate univariate B-spl\n",
            "'SplineTransformer' object has no attribute 'score\n",
            "==============================\n",
            "Standardize features by r\n",
            "'StandardScaler' object has no attribute 'score'\n",
            "==============================\n",
            "Linear Support Vector Cla\n",
            "Algo de classification"
          ]
        },
        {
          "output_type": "stream",
          "name": "stderr",
          "text": [
            "/usr/local/lib/python3.7/dist-packages/sklearn/preprocessing/_discretization.py:233: UserWarning: Bins whose width are too small (i.e., <= 1e-8) in feature 1 are removed. Consider decreasing the number of bins.\n",
            "  \"decreasing the number of bins.\" % jj\n",
            "/usr/local/lib/python3.7/dist-packages/sklearn/preprocessing/_discretization.py:233: UserWarning: Bins whose width are too small (i.e., <= 1e-8) in feature 3 are removed. Consider decreasing the number of bins.\n",
            "  \"decreasing the number of bins.\" % jj\n",
            "/usr/local/lib/python3.7/dist-packages/sklearn/preprocessing/_discretization.py:233: UserWarning: Bins whose width are too small (i.e., <= 1e-8) in feature 8 are removed. Consider decreasing the number of bins.\n",
            "  \"decreasing the number of bins.\" % jj\n",
            "/usr/local/lib/python3.7/dist-packages/sklearn/preprocessing/_discretization.py:233: UserWarning: Bins whose width are too small (i.e., <= 1e-8) in feature 10 are removed. Consider decreasing the number of bins.\n",
            "  \"decreasing the number of bins.\" % jj\n",
            "/usr/local/lib/python3.7/dist-packages/sklearn/preprocessing/_discretization.py:233: UserWarning: Bins whose width are too small (i.e., <= 1e-8) in feature 11 are removed. Consider decreasing the number of bins.\n",
            "  \"decreasing the number of bins.\" % jj\n",
            "/usr/local/lib/python3.7/dist-packages/sklearn/preprocessing/_data.py:2593: UserWarning: n_quantiles (1000) is greater than the total number of samples (339). n_quantiles is set to n_samples.\n",
            "  \"n_samples.\" % (self.n_quantiles, n_samples)\n"
          ]
        },
        {
          "output_type": "stream",
          "name": "stdout",
          "text": [
            "\n",
            "==============================\n",
            "Linear Support Vector Reg\n",
            "0.800416186822801\n",
            "==============================\n",
            "Nu-Support Vector Classif\n",
            "Algo de classification\n",
            "==============================\n",
            "Nu Support Vector Regress\n",
            "0.6732253244271467\n",
            "==============================\n",
            "Unsupervised Outlier Dete\n",
            "'OneClassSVM' object has no attribute 'score'\n",
            "==============================\n",
            "C-Support Vector Classifi\n",
            "Algo de classification\n",
            "==============================\n",
            "Epsilon-Support Vector Re\n",
            "0.6926656897976223\n",
            "==============================\n",
            "'module' object is not callable\n",
            "==============================\n"
          ]
        }
      ]
    },
    {
      "cell_type": "markdown",
      "metadata": {
        "id": "r42xqzOGSVJ0"
      },
      "source": [
        "## meilleur algo"
      ]
    },
    {
      "cell_type": "code",
      "metadata": {
        "id": "gT5tHuWdSVJ0",
        "colab": {
          "base_uri": "https://localhost:8080/"
        },
        "outputId": "e19a6cd5-9043-443c-d5e9-c8121cd0db96"
      },
      "source": [
        "best_algorithm, best_perf"
      ],
      "execution_count": 36,
      "outputs": [
        {
          "output_type": "execute_result",
          "data": {
            "text/plain": [
              "(PoissonRegressor(), 0.8408981975941526)"
            ]
          },
          "metadata": {},
          "execution_count": 36
        }
      ]
    },
    {
      "cell_type": "markdown",
      "metadata": {
        "id": "q90Xc4FlSVJ0"
      },
      "source": [
        "## Performances de chaque algo :"
      ]
    },
    {
      "cell_type": "code",
      "metadata": {
        "id": "d17J57iKSVJ0",
        "colab": {
          "base_uri": "https://localhost:8080/"
        },
        "outputId": "2c26915f-9858-4b65-f488-dd88a08280cd"
      },
      "source": [
        "performances"
      ],
      "execution_count": 37,
      "outputs": [
        {
          "output_type": "execute_result",
          "data": {
            "text/plain": [
              "{'Bayesian ARD regression.': [0.7792447926802762],\n",
              " 'Bayesian ridge regression': [0.773508387066803],\n",
              " 'Linear regression with co': [0.6809703789834461],\n",
              " 'Elastic Net model with it': [0.7752825662231468],\n",
              " 'Generalized Linear Model': [0.6737400846352355],\n",
              " 'Linear regression model t': [0.8091197905758085],\n",
              " 'Least Angle Regression mo': [0.7709142782479056],\n",
              " 'Cross-validated Least Ang': [0.7733915458474633],\n",
              " 'Linear Model trained with': [0.7026883982919312],\n",
              " 'Lasso linear model with i': [0.7756242478620907],\n",
              " 'Cross-validated Lasso, us': [0.7756867110475032],\n",
              " 'Lasso model fit with Lars': [0.7709142782479056],\n",
              " 'Ordinary least squar': [0.7709142782479051],\n",
              " 'Orthogonal Matching Pursu': [0.5994357454512825],\n",
              " 'Cross-validated Orthogona': [0.734925775905604],\n",
              " 'Passive Aggressive Regres': [0.5778283311770237],\n",
              " 'RANSAC (RANdom SAmple Con': [0.6140036842569613],\n",
              " 'Linear least squares with': [0.7715305842241731],\n",
              " 'Ridge regression with bui': [0.7715305842240381],\n",
              " 'Linear model fitted by mi': [0.7674179734216503],\n",
              " 'Theil-Sen Estimator': [0.6661226128066364],\n",
              " 'Linear Support Vector Reg': [0.800416186822801],\n",
              " 'Nu Support Vector Regress': [0.6732253244271467],\n",
              " 'Epsilon-Support Vector Re': [0.6926656897976223]}"
            ]
          },
          "metadata": {},
          "execution_count": 37
        }
      ]
    },
    {
      "cell_type": "markdown",
      "metadata": {
        "id": "dNZP0PuPSVJ0"
      },
      "source": [
        "## on manipule les performances via panda"
      ]
    },
    {
      "cell_type": "code",
      "metadata": {
        "id": "eKy9g_eQSVJ0"
      },
      "source": [
        "import pandas as pd"
      ],
      "execution_count": 38,
      "outputs": []
    },
    {
      "cell_type": "code",
      "metadata": {
        "id": "a5_I5Nn7SVJ1"
      },
      "source": [
        "df = pd.DataFrame(performances).T"
      ],
      "execution_count": 39,
      "outputs": []
    },
    {
      "cell_type": "code",
      "metadata": {
        "id": "YzRL0H5qSVJ1"
      },
      "source": [
        "col_name = \"performance\"\n",
        "df.columns = [col_name]"
      ],
      "execution_count": 40,
      "outputs": []
    },
    {
      "cell_type": "code",
      "metadata": {
        "id": "J0d09LUYSVJ1",
        "colab": {
          "base_uri": "https://localhost:8080/",
          "height": 802
        },
        "outputId": "46552157-f229-48d6-f259-390d638317f3"
      },
      "source": [
        "df.performance.sort_values()\n",
        "df"
      ],
      "execution_count": 41,
      "outputs": [
        {
          "output_type": "execute_result",
          "data": {
            "text/plain": [
              "                           performance\n",
              "Bayesian ARD regression.      0.779245\n",
              "Bayesian ridge regression     0.773508\n",
              "Linear regression with co     0.680970\n",
              "Elastic Net model with it     0.775283\n",
              "Generalized Linear Model      0.673740\n",
              "Linear regression model t     0.809120\n",
              "Least Angle Regression mo     0.770914\n",
              "Cross-validated Least Ang     0.773392\n",
              "Linear Model trained with     0.702688\n",
              "Lasso linear model with i     0.775624\n",
              "Cross-validated Lasso, us     0.775687\n",
              "Lasso model fit with Lars     0.770914\n",
              "Ordinary least squar          0.770914\n",
              "Orthogonal Matching Pursu     0.599436\n",
              "Cross-validated Orthogona     0.734926\n",
              "Passive Aggressive Regres     0.577828\n",
              "RANSAC (RANdom SAmple Con     0.614004\n",
              "Linear least squares with     0.771531\n",
              "Ridge regression with bui     0.771531\n",
              "Linear model fitted by mi     0.767418\n",
              "Theil-Sen Estimator           0.666123\n",
              "Linear Support Vector Reg     0.800416\n",
              "Nu Support Vector Regress     0.673225\n",
              "Epsilon-Support Vector Re     0.692666"
            ],
            "text/html": [
              "\n",
              "  <div id=\"df-3523e85e-1f58-4147-b8e5-659c92d2fc28\">\n",
              "    <div class=\"colab-df-container\">\n",
              "      <div>\n",
              "<style scoped>\n",
              "    .dataframe tbody tr th:only-of-type {\n",
              "        vertical-align: middle;\n",
              "    }\n",
              "\n",
              "    .dataframe tbody tr th {\n",
              "        vertical-align: top;\n",
              "    }\n",
              "\n",
              "    .dataframe thead th {\n",
              "        text-align: right;\n",
              "    }\n",
              "</style>\n",
              "<table border=\"1\" class=\"dataframe\">\n",
              "  <thead>\n",
              "    <tr style=\"text-align: right;\">\n",
              "      <th></th>\n",
              "      <th>performance</th>\n",
              "    </tr>\n",
              "  </thead>\n",
              "  <tbody>\n",
              "    <tr>\n",
              "      <th>Bayesian ARD regression.</th>\n",
              "      <td>0.779245</td>\n",
              "    </tr>\n",
              "    <tr>\n",
              "      <th>Bayesian ridge regression</th>\n",
              "      <td>0.773508</td>\n",
              "    </tr>\n",
              "    <tr>\n",
              "      <th>Linear regression with co</th>\n",
              "      <td>0.680970</td>\n",
              "    </tr>\n",
              "    <tr>\n",
              "      <th>Elastic Net model with it</th>\n",
              "      <td>0.775283</td>\n",
              "    </tr>\n",
              "    <tr>\n",
              "      <th>Generalized Linear Model</th>\n",
              "      <td>0.673740</td>\n",
              "    </tr>\n",
              "    <tr>\n",
              "      <th>Linear regression model t</th>\n",
              "      <td>0.809120</td>\n",
              "    </tr>\n",
              "    <tr>\n",
              "      <th>Least Angle Regression mo</th>\n",
              "      <td>0.770914</td>\n",
              "    </tr>\n",
              "    <tr>\n",
              "      <th>Cross-validated Least Ang</th>\n",
              "      <td>0.773392</td>\n",
              "    </tr>\n",
              "    <tr>\n",
              "      <th>Linear Model trained with</th>\n",
              "      <td>0.702688</td>\n",
              "    </tr>\n",
              "    <tr>\n",
              "      <th>Lasso linear model with i</th>\n",
              "      <td>0.775624</td>\n",
              "    </tr>\n",
              "    <tr>\n",
              "      <th>Cross-validated Lasso, us</th>\n",
              "      <td>0.775687</td>\n",
              "    </tr>\n",
              "    <tr>\n",
              "      <th>Lasso model fit with Lars</th>\n",
              "      <td>0.770914</td>\n",
              "    </tr>\n",
              "    <tr>\n",
              "      <th>Ordinary least squar</th>\n",
              "      <td>0.770914</td>\n",
              "    </tr>\n",
              "    <tr>\n",
              "      <th>Orthogonal Matching Pursu</th>\n",
              "      <td>0.599436</td>\n",
              "    </tr>\n",
              "    <tr>\n",
              "      <th>Cross-validated Orthogona</th>\n",
              "      <td>0.734926</td>\n",
              "    </tr>\n",
              "    <tr>\n",
              "      <th>Passive Aggressive Regres</th>\n",
              "      <td>0.577828</td>\n",
              "    </tr>\n",
              "    <tr>\n",
              "      <th>RANSAC (RANdom SAmple Con</th>\n",
              "      <td>0.614004</td>\n",
              "    </tr>\n",
              "    <tr>\n",
              "      <th>Linear least squares with</th>\n",
              "      <td>0.771531</td>\n",
              "    </tr>\n",
              "    <tr>\n",
              "      <th>Ridge regression with bui</th>\n",
              "      <td>0.771531</td>\n",
              "    </tr>\n",
              "    <tr>\n",
              "      <th>Linear model fitted by mi</th>\n",
              "      <td>0.767418</td>\n",
              "    </tr>\n",
              "    <tr>\n",
              "      <th>Theil-Sen Estimator</th>\n",
              "      <td>0.666123</td>\n",
              "    </tr>\n",
              "    <tr>\n",
              "      <th>Linear Support Vector Reg</th>\n",
              "      <td>0.800416</td>\n",
              "    </tr>\n",
              "    <tr>\n",
              "      <th>Nu Support Vector Regress</th>\n",
              "      <td>0.673225</td>\n",
              "    </tr>\n",
              "    <tr>\n",
              "      <th>Epsilon-Support Vector Re</th>\n",
              "      <td>0.692666</td>\n",
              "    </tr>\n",
              "  </tbody>\n",
              "</table>\n",
              "</div>\n",
              "      <button class=\"colab-df-convert\" onclick=\"convertToInteractive('df-3523e85e-1f58-4147-b8e5-659c92d2fc28')\"\n",
              "              title=\"Convert this dataframe to an interactive table.\"\n",
              "              style=\"display:none;\">\n",
              "        \n",
              "  <svg xmlns=\"http://www.w3.org/2000/svg\" height=\"24px\"viewBox=\"0 0 24 24\"\n",
              "       width=\"24px\">\n",
              "    <path d=\"M0 0h24v24H0V0z\" fill=\"none\"/>\n",
              "    <path d=\"M18.56 5.44l.94 2.06.94-2.06 2.06-.94-2.06-.94-.94-2.06-.94 2.06-2.06.94zm-11 1L8.5 8.5l.94-2.06 2.06-.94-2.06-.94L8.5 2.5l-.94 2.06-2.06.94zm10 10l.94 2.06.94-2.06 2.06-.94-2.06-.94-.94-2.06-.94 2.06-2.06.94z\"/><path d=\"M17.41 7.96l-1.37-1.37c-.4-.4-.92-.59-1.43-.59-.52 0-1.04.2-1.43.59L10.3 9.45l-7.72 7.72c-.78.78-.78 2.05 0 2.83L4 21.41c.39.39.9.59 1.41.59.51 0 1.02-.2 1.41-.59l7.78-7.78 2.81-2.81c.8-.78.8-2.07 0-2.86zM5.41 20L4 18.59l7.72-7.72 1.47 1.35L5.41 20z\"/>\n",
              "  </svg>\n",
              "      </button>\n",
              "      \n",
              "  <style>\n",
              "    .colab-df-container {\n",
              "      display:flex;\n",
              "      flex-wrap:wrap;\n",
              "      gap: 12px;\n",
              "    }\n",
              "\n",
              "    .colab-df-convert {\n",
              "      background-color: #E8F0FE;\n",
              "      border: none;\n",
              "      border-radius: 50%;\n",
              "      cursor: pointer;\n",
              "      display: none;\n",
              "      fill: #1967D2;\n",
              "      height: 32px;\n",
              "      padding: 0 0 0 0;\n",
              "      width: 32px;\n",
              "    }\n",
              "\n",
              "    .colab-df-convert:hover {\n",
              "      background-color: #E2EBFA;\n",
              "      box-shadow: 0px 1px 2px rgba(60, 64, 67, 0.3), 0px 1px 3px 1px rgba(60, 64, 67, 0.15);\n",
              "      fill: #174EA6;\n",
              "    }\n",
              "\n",
              "    [theme=dark] .colab-df-convert {\n",
              "      background-color: #3B4455;\n",
              "      fill: #D2E3FC;\n",
              "    }\n",
              "\n",
              "    [theme=dark] .colab-df-convert:hover {\n",
              "      background-color: #434B5C;\n",
              "      box-shadow: 0px 1px 3px 1px rgba(0, 0, 0, 0.15);\n",
              "      filter: drop-shadow(0px 1px 2px rgba(0, 0, 0, 0.3));\n",
              "      fill: #FFFFFF;\n",
              "    }\n",
              "  </style>\n",
              "\n",
              "      <script>\n",
              "        const buttonEl =\n",
              "          document.querySelector('#df-3523e85e-1f58-4147-b8e5-659c92d2fc28 button.colab-df-convert');\n",
              "        buttonEl.style.display =\n",
              "          google.colab.kernel.accessAllowed ? 'block' : 'none';\n",
              "\n",
              "        async function convertToInteractive(key) {\n",
              "          const element = document.querySelector('#df-3523e85e-1f58-4147-b8e5-659c92d2fc28');\n",
              "          const dataTable =\n",
              "            await google.colab.kernel.invokeFunction('convertToInteractive',\n",
              "                                                     [key], {});\n",
              "          if (!dataTable) return;\n",
              "\n",
              "          const docLinkHtml = 'Like what you see? Visit the ' +\n",
              "            '<a target=\"_blank\" href=https://colab.research.google.com/notebooks/data_table.ipynb>data table notebook</a>'\n",
              "            + ' to learn more about interactive tables.';\n",
              "          element.innerHTML = '';\n",
              "          dataTable['output_type'] = 'display_data';\n",
              "          await google.colab.output.renderOutput(dataTable, element);\n",
              "          const docLink = document.createElement('div');\n",
              "          docLink.innerHTML = docLinkHtml;\n",
              "          element.appendChild(docLink);\n",
              "        }\n",
              "      </script>\n",
              "    </div>\n",
              "  </div>\n",
              "  "
            ]
          },
          "metadata": {},
          "execution_count": 41
        }
      ]
    },
    {
      "cell_type": "markdown",
      "metadata": {
        "id": "oivdMyedSVJ1"
      },
      "source": [
        "## calcul des gains de performance d'un algo l'autre"
      ]
    },
    {
      "cell_type": "code",
      "metadata": {
        "id": "Qk7BnFanSVJ1"
      },
      "source": [
        "liste_des_performances = df.performance.values\n",
        "gains = [0]\n",
        "for indice, performance in enumerate(liste_des_performances):\n",
        "    if indice>0:\n",
        "        previous_value = liste_des_performances[indice-1]\n",
        "        current_value  = liste_des_performances[indice]\n",
        "        gain = (current_value - previous_value) / previous_value\n",
        "        gains.append(round(gain*100, 2))\n",
        "df[\"gains\"] = gains"
      ],
      "execution_count": 42,
      "outputs": []
    },
    {
      "cell_type": "code",
      "metadata": {
        "id": "ymkWovv3SVJ1"
      },
      "source": [
        "#"
      ],
      "execution_count": 43,
      "outputs": []
    },
    {
      "cell_type": "code",
      "metadata": {
        "id": "pHsY97LOSVJ1",
        "colab": {
          "base_uri": "https://localhost:8080/",
          "height": 802
        },
        "outputId": "618711d5-1768-4df7-f8c5-a70d6b108231"
      },
      "source": [
        "df"
      ],
      "execution_count": 44,
      "outputs": [
        {
          "output_type": "execute_result",
          "data": {
            "text/plain": [
              "                           performance  gains\n",
              "Bayesian ARD regression.      0.779245   0.00\n",
              "Bayesian ridge regression     0.773508  -0.74\n",
              "Linear regression with co     0.680970 -11.96\n",
              "Elastic Net model with it     0.775283  13.85\n",
              "Generalized Linear Model      0.673740 -13.10\n",
              "Linear regression model t     0.809120  20.09\n",
              "Least Angle Regression mo     0.770914  -4.72\n",
              "Cross-validated Least Ang     0.773392   0.32\n",
              "Linear Model trained with     0.702688  -9.14\n",
              "Lasso linear model with i     0.775624  10.38\n",
              "Cross-validated Lasso, us     0.775687   0.01\n",
              "Lasso model fit with Lars     0.770914  -0.62\n",
              "Ordinary least squar          0.770914  -0.00\n",
              "Orthogonal Matching Pursu     0.599436 -22.24\n",
              "Cross-validated Orthogona     0.734926  22.60\n",
              "Passive Aggressive Regres     0.577828 -21.38\n",
              "RANSAC (RANdom SAmple Con     0.614004   6.26\n",
              "Linear least squares with     0.771531  25.66\n",
              "Ridge regression with bui     0.771531  -0.00\n",
              "Linear model fitted by mi     0.767418  -0.53\n",
              "Theil-Sen Estimator           0.666123 -13.20\n",
              "Linear Support Vector Reg     0.800416  20.16\n",
              "Nu Support Vector Regress     0.673225 -15.89\n",
              "Epsilon-Support Vector Re     0.692666   2.89"
            ],
            "text/html": [
              "\n",
              "  <div id=\"df-7a07be46-01a9-4dfc-8738-3db031f6bee7\">\n",
              "    <div class=\"colab-df-container\">\n",
              "      <div>\n",
              "<style scoped>\n",
              "    .dataframe tbody tr th:only-of-type {\n",
              "        vertical-align: middle;\n",
              "    }\n",
              "\n",
              "    .dataframe tbody tr th {\n",
              "        vertical-align: top;\n",
              "    }\n",
              "\n",
              "    .dataframe thead th {\n",
              "        text-align: right;\n",
              "    }\n",
              "</style>\n",
              "<table border=\"1\" class=\"dataframe\">\n",
              "  <thead>\n",
              "    <tr style=\"text-align: right;\">\n",
              "      <th></th>\n",
              "      <th>performance</th>\n",
              "      <th>gains</th>\n",
              "    </tr>\n",
              "  </thead>\n",
              "  <tbody>\n",
              "    <tr>\n",
              "      <th>Bayesian ARD regression.</th>\n",
              "      <td>0.779245</td>\n",
              "      <td>0.00</td>\n",
              "    </tr>\n",
              "    <tr>\n",
              "      <th>Bayesian ridge regression</th>\n",
              "      <td>0.773508</td>\n",
              "      <td>-0.74</td>\n",
              "    </tr>\n",
              "    <tr>\n",
              "      <th>Linear regression with co</th>\n",
              "      <td>0.680970</td>\n",
              "      <td>-11.96</td>\n",
              "    </tr>\n",
              "    <tr>\n",
              "      <th>Elastic Net model with it</th>\n",
              "      <td>0.775283</td>\n",
              "      <td>13.85</td>\n",
              "    </tr>\n",
              "    <tr>\n",
              "      <th>Generalized Linear Model</th>\n",
              "      <td>0.673740</td>\n",
              "      <td>-13.10</td>\n",
              "    </tr>\n",
              "    <tr>\n",
              "      <th>Linear regression model t</th>\n",
              "      <td>0.809120</td>\n",
              "      <td>20.09</td>\n",
              "    </tr>\n",
              "    <tr>\n",
              "      <th>Least Angle Regression mo</th>\n",
              "      <td>0.770914</td>\n",
              "      <td>-4.72</td>\n",
              "    </tr>\n",
              "    <tr>\n",
              "      <th>Cross-validated Least Ang</th>\n",
              "      <td>0.773392</td>\n",
              "      <td>0.32</td>\n",
              "    </tr>\n",
              "    <tr>\n",
              "      <th>Linear Model trained with</th>\n",
              "      <td>0.702688</td>\n",
              "      <td>-9.14</td>\n",
              "    </tr>\n",
              "    <tr>\n",
              "      <th>Lasso linear model with i</th>\n",
              "      <td>0.775624</td>\n",
              "      <td>10.38</td>\n",
              "    </tr>\n",
              "    <tr>\n",
              "      <th>Cross-validated Lasso, us</th>\n",
              "      <td>0.775687</td>\n",
              "      <td>0.01</td>\n",
              "    </tr>\n",
              "    <tr>\n",
              "      <th>Lasso model fit with Lars</th>\n",
              "      <td>0.770914</td>\n",
              "      <td>-0.62</td>\n",
              "    </tr>\n",
              "    <tr>\n",
              "      <th>Ordinary least squar</th>\n",
              "      <td>0.770914</td>\n",
              "      <td>-0.00</td>\n",
              "    </tr>\n",
              "    <tr>\n",
              "      <th>Orthogonal Matching Pursu</th>\n",
              "      <td>0.599436</td>\n",
              "      <td>-22.24</td>\n",
              "    </tr>\n",
              "    <tr>\n",
              "      <th>Cross-validated Orthogona</th>\n",
              "      <td>0.734926</td>\n",
              "      <td>22.60</td>\n",
              "    </tr>\n",
              "    <tr>\n",
              "      <th>Passive Aggressive Regres</th>\n",
              "      <td>0.577828</td>\n",
              "      <td>-21.38</td>\n",
              "    </tr>\n",
              "    <tr>\n",
              "      <th>RANSAC (RANdom SAmple Con</th>\n",
              "      <td>0.614004</td>\n",
              "      <td>6.26</td>\n",
              "    </tr>\n",
              "    <tr>\n",
              "      <th>Linear least squares with</th>\n",
              "      <td>0.771531</td>\n",
              "      <td>25.66</td>\n",
              "    </tr>\n",
              "    <tr>\n",
              "      <th>Ridge regression with bui</th>\n",
              "      <td>0.771531</td>\n",
              "      <td>-0.00</td>\n",
              "    </tr>\n",
              "    <tr>\n",
              "      <th>Linear model fitted by mi</th>\n",
              "      <td>0.767418</td>\n",
              "      <td>-0.53</td>\n",
              "    </tr>\n",
              "    <tr>\n",
              "      <th>Theil-Sen Estimator</th>\n",
              "      <td>0.666123</td>\n",
              "      <td>-13.20</td>\n",
              "    </tr>\n",
              "    <tr>\n",
              "      <th>Linear Support Vector Reg</th>\n",
              "      <td>0.800416</td>\n",
              "      <td>20.16</td>\n",
              "    </tr>\n",
              "    <tr>\n",
              "      <th>Nu Support Vector Regress</th>\n",
              "      <td>0.673225</td>\n",
              "      <td>-15.89</td>\n",
              "    </tr>\n",
              "    <tr>\n",
              "      <th>Epsilon-Support Vector Re</th>\n",
              "      <td>0.692666</td>\n",
              "      <td>2.89</td>\n",
              "    </tr>\n",
              "  </tbody>\n",
              "</table>\n",
              "</div>\n",
              "      <button class=\"colab-df-convert\" onclick=\"convertToInteractive('df-7a07be46-01a9-4dfc-8738-3db031f6bee7')\"\n",
              "              title=\"Convert this dataframe to an interactive table.\"\n",
              "              style=\"display:none;\">\n",
              "        \n",
              "  <svg xmlns=\"http://www.w3.org/2000/svg\" height=\"24px\"viewBox=\"0 0 24 24\"\n",
              "       width=\"24px\">\n",
              "    <path d=\"M0 0h24v24H0V0z\" fill=\"none\"/>\n",
              "    <path d=\"M18.56 5.44l.94 2.06.94-2.06 2.06-.94-2.06-.94-.94-2.06-.94 2.06-2.06.94zm-11 1L8.5 8.5l.94-2.06 2.06-.94-2.06-.94L8.5 2.5l-.94 2.06-2.06.94zm10 10l.94 2.06.94-2.06 2.06-.94-2.06-.94-.94-2.06-.94 2.06-2.06.94z\"/><path d=\"M17.41 7.96l-1.37-1.37c-.4-.4-.92-.59-1.43-.59-.52 0-1.04.2-1.43.59L10.3 9.45l-7.72 7.72c-.78.78-.78 2.05 0 2.83L4 21.41c.39.39.9.59 1.41.59.51 0 1.02-.2 1.41-.59l7.78-7.78 2.81-2.81c.8-.78.8-2.07 0-2.86zM5.41 20L4 18.59l7.72-7.72 1.47 1.35L5.41 20z\"/>\n",
              "  </svg>\n",
              "      </button>\n",
              "      \n",
              "  <style>\n",
              "    .colab-df-container {\n",
              "      display:flex;\n",
              "      flex-wrap:wrap;\n",
              "      gap: 12px;\n",
              "    }\n",
              "\n",
              "    .colab-df-convert {\n",
              "      background-color: #E8F0FE;\n",
              "      border: none;\n",
              "      border-radius: 50%;\n",
              "      cursor: pointer;\n",
              "      display: none;\n",
              "      fill: #1967D2;\n",
              "      height: 32px;\n",
              "      padding: 0 0 0 0;\n",
              "      width: 32px;\n",
              "    }\n",
              "\n",
              "    .colab-df-convert:hover {\n",
              "      background-color: #E2EBFA;\n",
              "      box-shadow: 0px 1px 2px rgba(60, 64, 67, 0.3), 0px 1px 3px 1px rgba(60, 64, 67, 0.15);\n",
              "      fill: #174EA6;\n",
              "    }\n",
              "\n",
              "    [theme=dark] .colab-df-convert {\n",
              "      background-color: #3B4455;\n",
              "      fill: #D2E3FC;\n",
              "    }\n",
              "\n",
              "    [theme=dark] .colab-df-convert:hover {\n",
              "      background-color: #434B5C;\n",
              "      box-shadow: 0px 1px 3px 1px rgba(0, 0, 0, 0.15);\n",
              "      filter: drop-shadow(0px 1px 2px rgba(0, 0, 0, 0.3));\n",
              "      fill: #FFFFFF;\n",
              "    }\n",
              "  </style>\n",
              "\n",
              "      <script>\n",
              "        const buttonEl =\n",
              "          document.querySelector('#df-7a07be46-01a9-4dfc-8738-3db031f6bee7 button.colab-df-convert');\n",
              "        buttonEl.style.display =\n",
              "          google.colab.kernel.accessAllowed ? 'block' : 'none';\n",
              "\n",
              "        async function convertToInteractive(key) {\n",
              "          const element = document.querySelector('#df-7a07be46-01a9-4dfc-8738-3db031f6bee7');\n",
              "          const dataTable =\n",
              "            await google.colab.kernel.invokeFunction('convertToInteractive',\n",
              "                                                     [key], {});\n",
              "          if (!dataTable) return;\n",
              "\n",
              "          const docLinkHtml = 'Like what you see? Visit the ' +\n",
              "            '<a target=\"_blank\" href=https://colab.research.google.com/notebooks/data_table.ipynb>data table notebook</a>'\n",
              "            + ' to learn more about interactive tables.';\n",
              "          element.innerHTML = '';\n",
              "          dataTable['output_type'] = 'display_data';\n",
              "          await google.colab.output.renderOutput(dataTable, element);\n",
              "          const docLink = document.createElement('div');\n",
              "          docLink.innerHTML = docLinkHtml;\n",
              "          element.appendChild(docLink);\n",
              "        }\n",
              "      </script>\n",
              "    </div>\n",
              "  </div>\n",
              "  "
            ]
          },
          "metadata": {},
          "execution_count": 44
        }
      ]
    },
    {
      "cell_type": "markdown",
      "metadata": {
        "id": "ccrS84lTSVJ2"
      },
      "source": [
        "## Tracer les performances par algo"
      ]
    },
    {
      "cell_type": "code",
      "metadata": {
        "id": "ce0lq-0VSVJ2"
      },
      "source": [
        "%matplotlib inline\n",
        "import matplotlib.pyplot as plt\n",
        "import matplotlib.ticker as ticker"
      ],
      "execution_count": 45,
      "outputs": []
    },
    {
      "cell_type": "code",
      "metadata": {
        "id": "bLTSGhRTSVJ2"
      },
      "source": [
        "df = df.drop(\"gains\", axis=1)"
      ],
      "execution_count": 46,
      "outputs": []
    },
    {
      "cell_type": "code",
      "metadata": {
        "id": "-4mHgckxSVJ2",
        "colab": {
          "base_uri": "https://localhost:8080/",
          "height": 356
        },
        "outputId": "df22321b-9341-4490-973b-c2e5dd0ccad5"
      },
      "source": [
        "df = df.sort_values(col_name)\n",
        "ax = df.plot(rot=45, x_compat=True)"
      ],
      "execution_count": 47,
      "outputs": [
        {
          "output_type": "display_data",
          "data": {
            "text/plain": [
              "<Figure size 432x288 with 1 Axes>"
            ],
            "image/png": "[encoded data removed]"
          },
          "metadata": {
            "needs_background": "light"
          }
        }
      ]
    },
    {
      "cell_type": "markdown",
      "metadata": {
        "id": "khTF_NrhSVJ2"
      },
      "source": [
        "### Augmentation du nombre de légend"
      ]
    },
    {
      "cell_type": "code",
      "metadata": {
        "id": "L3USHiCfSVJ2",
        "colab": {
          "base_uri": "https://localhost:8080/",
          "height": 410
        },
        "outputId": "70dd3599-b85e-4972-eb68-36e55bf289fb"
      },
      "source": [
        "df = df.sort_values(col_name)\n",
        "ax = df.plot(rot=90, x_compat=True)\n",
        "ax.xaxis.set_ticklabels(df.index)\n",
        "ax.xaxis.set_major_locator(ticker.MultipleLocator(1))"
      ],
      "execution_count": 48,
      "outputs": [
        {
          "output_type": "display_data",
          "data": {
            "text/plain": [
              "<Figure size 432x288 with 1 Axes>"
            ],
            "image/png": "[encoded data removed]"
          },
          "metadata": {
            "needs_background": "light"
          }
        }
      ]
    },
    {
      "cell_type": "markdown",
      "metadata": {
        "id": "h27-MyVvSVJ3"
      },
      "source": [
        "### Rotation des infos sur x, et image plus large"
      ]
    },
    {
      "cell_type": "code",
      "metadata": {
        "id": "G8DJ14cDSVJ3",
        "colab": {
          "base_uri": "https://localhost:8080/",
          "height": 334
        },
        "outputId": "058163c9-db16-47fc-da34-301e6bcf1c3f"
      },
      "source": [
        "fig , axes = plt.subplots(1,1)\n",
        "fig.set_size_inches(9,3)\n",
        "df = df.sort_values(col_name )\n",
        "axes.xaxis.set_ticklabels(df.index)\n",
        "axes.xaxis.set_major_locator(ticker.MultipleLocator(1))\n",
        "df.plot(rot=45, ax=axes)\n"
      ],
      "execution_count": 49,
      "outputs": [
        {
          "output_type": "execute_result",
          "data": {
            "text/plain": [
              "<matplotlib.axes._subplots.AxesSubplot at 0x7f7c2d6bfd90>"
            ]
          },
          "metadata": {},
          "execution_count": 49
        },
        {
          "output_type": "display_data",
          "data": {
            "text/plain": [
              "<Figure size 648x216 with 1 Axes>"
            ],
            "image/png": "[encoded data removed]"
          },
          "metadata": {
            "needs_background": "light"
          }
        }
      ]
    },
    {
      "cell_type": "markdown",
      "metadata": {
        "id": "_iS3u3Z6SVJ3"
      },
      "source": [
        "### affichage en barre"
      ]
    },
    {
      "cell_type": "code",
      "metadata": {
        "id": "ut5-IxZXSVJ3",
        "colab": {
          "base_uri": "https://localhost:8080/",
          "height": 372
        },
        "outputId": "cfcd650f-05a7-42d8-b230-fa7f4e749c35"
      },
      "source": [
        "fig , axes = plt.subplots(1,1)\n",
        "fig.set_size_inches(9,3)\n",
        "df = df.sort_values(col_name )\n",
        "axes.xaxis.set_ticklabels(df.index)\n",
        "axes.xaxis.set_major_locator(ticker.MultipleLocator(1))\n",
        "df.plot(kind='bar', rot=90, ax=axes)"
      ],
      "execution_count": 50,
      "outputs": [
        {
          "output_type": "execute_result",
          "data": {
            "text/plain": [
              "<matplotlib.axes._subplots.AxesSubplot at 0x7f7c218e1e10>"
            ]
          },
          "metadata": {},
          "execution_count": 50
        },
        {
          "output_type": "display_data",
          "data": {
            "text/plain": [
              "<Figure size 648x216 with 1 Axes>"
            ],
            "image/png": "[encoded data removed]"
          },
          "metadata": {
            "needs_background": "light"
          }
        }
      ]
    },
    {
      "cell_type": "markdown",
      "metadata": {
        "id": "rJOVzMpFSVJ3"
      },
      "source": [
        "## on rajoute la perforamnce dans les labels"
      ]
    },
    {
      "cell_type": "code",
      "metadata": {
        "scrolled": true,
        "id": "oS-OVsRxSVJ3",
        "colab": {
          "base_uri": "https://localhost:8080/",
          "height": 483
        },
        "outputId": "3d755ba4-9095-4499-9635-16441b2aa5d0"
      },
      "source": [
        "new_labels = []\n",
        "for i, index in enumerate(df.index):\n",
        "    new_label = \"%s (%.2f)\"%(index,df.performance[i])\n",
        "    new_labels.append(new_label.replace(\"\\n\", \" \"))\n",
        "    \n",
        "fig , axes = plt.subplots(1,1)\n",
        "df.index = new_labels\n",
        "fig.set_size_inches(15,8)\n",
        "fig.subplots_adjust(left=0.65)\n",
        "df.sort_values(col_name).plot(kind='barh', ax=axes)\n",
        "axes.xaxis.set_major_locator(ticker.MultipleLocator(1))\n",
        "\n",
        "pass"
      ],
      "execution_count": 51,
      "outputs": [
        {
          "output_type": "display_data",
          "data": {
            "text/plain": [
              "<Figure size 1080x576 with 1 Axes>"
            ],
            "image/png": "[encoded data removed]"
          },
          "metadata": {
            "needs_background": "light"
          }
        }
      ]
    },
    {
      "cell_type": "markdown",
      "metadata": {
        "id": "0chG4g13SVJ4"
      },
      "source": [
        "# 7) which scoring function ?"
      ]
    },
    {
      "cell_type": "markdown",
      "metadata": {
        "id": "GJ7HL3MfSVJ4"
      },
      "source": [
        "## on récupère les fonctions de score"
      ]
    },
    {
      "cell_type": "code",
      "metadata": {
        "id": "GzGRb9xaSVJ4"
      },
      "source": [
        "def get_sklearn_score_functions(verbose = False):\n",
        "    \"\"\"\n",
        "    Explore all submodule of sklearn and fetch functions named as 'score'.\n",
        "    \n",
        "    Parameters :\n",
        "        debug = print or not stuff on console\n",
        "    Return :\n",
        "        dict : { module : [ score_functions] }\n",
        "    \"\"\"\n",
        "    from collections import defaultdict\n",
        "    import importlib\n",
        "    import sklearn\n",
        "    algos = defaultdict(list)\n",
        "    if verbose : print (dir(sklearn))\n",
        "    for nom_module in dir(sklearn):    \n",
        "        if verbose : print (nom_module)\n",
        "        try:\n",
        "            to_import = \"sklearn.%s\"%nom_module\n",
        "            module    = importlib.import_module(to_import)\n",
        "            for nom_fonction in dir(module):\n",
        "                fonction = getattr(module, nom_fonction)\n",
        "                if \"score\" in nom_fonction:\n",
        "                    algos[nom_module].append(fonction)                                            \n",
        "        except Exception as e:\n",
        "            if verbose : print (e)\n",
        "        if verbose: print (\"=\"*30)\n",
        "    return algos"
      ],
      "execution_count": 52,
      "outputs": []
    },
    {
      "cell_type": "code",
      "metadata": {
        "id": "HILWJ-NKSVJ4"
      },
      "source": [
        "scoring_modules = get_sklearn_score_functions(False)"
      ],
      "execution_count": 53,
      "outputs": []
    },
    {
      "cell_type": "code",
      "source": [
        "scoring_modules"
      ],
      "metadata": {
        "colab": {
          "base_uri": "https://localhost:8080/"
        },
        "id": "unLBYEGnanSr",
        "outputId": "4ee771d7-b7bd-4101-a41a-771a00f150ef"
      },
      "execution_count": 65,
      "outputs": [
        {
          "output_type": "execute_result",
          "data": {
            "text/plain": [
              "defaultdict(list,\n",
              "            {'metrics': [<module 'sklearn.metrics._scorer' from '/usr/local/lib/python3.7/dist-packages/sklearn/metrics/_scorer.py'>,\n",
              "              <function sklearn.metrics._classification.accuracy_score(y_true, y_pred, *, normalize=True, sample_weight=None)>,\n",
              "              <function sklearn.metrics.cluster._supervised.adjusted_mutual_info_score(labels_true, labels_pred, *, average_method='arithmetic')>,\n",
              "              <function sklearn.metrics.cluster._supervised.adjusted_rand_score(labels_true, labels_pred)>,\n",
              "              <function sklearn.metrics._ranking.average_precision_score(y_true, y_score, *, average='macro', pos_label=1, sample_weight=None)>,\n",
              "              <function sklearn.metrics._classification.balanced_accuracy_score(y_true, y_pred, *, sample_weight=None, adjusted=False)>,\n",
              "              <function sklearn.metrics._classification.brier_score_loss(y_true, y_prob, *, sample_weight=None, pos_label=None)>,\n",
              "              <function sklearn.metrics.cluster._unsupervised.calinski_harabasz_score(X, labels)>,\n",
              "              <function sklearn.metrics._classification.cohen_kappa_score(y1, y2, *, labels=None, weights=None, sample_weight=None)>,\n",
              "              <function sklearn.metrics.cluster._supervised.completeness_score(labels_true, labels_pred)>,\n",
              "              <function sklearn.metrics.cluster._bicluster.consensus_score(a, b, *, similarity='jaccard')>,\n",
              "              <function sklearn.metrics._regression.d2_tweedie_score(y_true, y_pred, *, sample_weight=None, power=0)>,\n",
              "              <function sklearn.metrics.cluster._unsupervised.davies_bouldin_score(X, labels)>,\n",
              "              <function sklearn.metrics._ranking.dcg_score(y_true, y_score, *, k=None, log_base=2, sample_weight=None, ignore_ties=False)>,\n",
              "              <function sklearn.metrics._regression.explained_variance_score(y_true, y_pred, *, sample_weight=None, multioutput='uniform_average')>,\n",
              "              <function sklearn.metrics._classification.f1_score(y_true, y_pred, *, labels=None, pos_label=1, average='binary', sample_weight=None, zero_division='warn')>,\n",
              "              <function sklearn.metrics._classification.fbeta_score(y_true, y_pred, *, beta, labels=None, pos_label=1, average='binary', sample_weight=None, zero_division='warn')>,\n",
              "              <function sklearn.metrics.cluster._supervised.fowlkes_mallows_score(labels_true, labels_pred, *, sparse=False)>,\n",
              "              <function sklearn.metrics._scorer.get_scorer(scoring)>,\n",
              "              <function sklearn.metrics.cluster._supervised.homogeneity_score(labels_true, labels_pred)>,\n",
              "              <function sklearn.metrics._classification.jaccard_score(y_true, y_pred, *, labels=None, pos_label=1, average='binary', sample_weight=None, zero_division='warn')>,\n",
              "              <function sklearn.metrics._ranking.label_ranking_average_precision_score(y_true, y_score, *, sample_weight=None)>,\n",
              "              <function sklearn.metrics._scorer.make_scorer(score_func, *, greater_is_better=True, needs_proba=False, needs_threshold=False, **kwargs)>,\n",
              "              <function sklearn.metrics.cluster._supervised.mutual_info_score(labels_true, labels_pred, *, contingency=None)>,\n",
              "              <function sklearn.metrics._ranking.ndcg_score(y_true, y_score, *, k=None, sample_weight=None, ignore_ties=False)>,\n",
              "              <function sklearn.metrics.cluster._supervised.normalized_mutual_info_score(labels_true, labels_pred, *, average_method='arithmetic')>,\n",
              "              <function sklearn.metrics._classification.precision_recall_fscore_support(y_true, y_pred, *, beta=1.0, labels=None, pos_label=1, average=None, warn_for=('precision', 'recall', 'f-score'), sample_weight=None, zero_division='warn')>,\n",
              "              <function sklearn.metrics._classification.precision_score(y_true, y_pred, *, labels=None, pos_label=1, average='binary', sample_weight=None, zero_division='warn')>,\n",
              "              <function sklearn.metrics._regression.r2_score(y_true, y_pred, *, sample_weight=None, multioutput='uniform_average')>,\n",
              "              <function sklearn.metrics.cluster._supervised.rand_score(labels_true, labels_pred)>,\n",
              "              <function sklearn.metrics._classification.recall_score(y_true, y_pred, *, labels=None, pos_label=1, average='binary', sample_weight=None, zero_division='warn')>,\n",
              "              <function sklearn.metrics._ranking.roc_auc_score(y_true, y_score, *, average='macro', sample_weight=None, max_fpr=None, multi_class='raise', labels=None)>,\n",
              "              <function sklearn.metrics.cluster._unsupervised.silhouette_score(X, labels, *, metric='euclidean', sample_size=None, random_state=None, **kwds)>,\n",
              "              <function sklearn.metrics._ranking.top_k_accuracy_score(y_true, y_score, *, k=2, normalize=True, sample_weight=None, labels=None)>,\n",
              "              <function sklearn.metrics.cluster._supervised.v_measure_score(labels_true, labels_pred, *, beta=1.0)>],\n",
              "             'model_selection': [<function sklearn.model_selection._validation.cross_val_score(estimator, X, y=None, *, groups=None, scoring=None, cv=None, n_jobs=None, verbose=0, fit_params=None, pre_dispatch='2*n_jobs', error_score=nan)>,\n",
              "              <function sklearn.model_selection._validation.permutation_test_score(estimator, X, y, *, groups=None, cv=None, n_permutations=100, n_jobs=None, random_state=0, verbose=0, scoring=None, fit_params=None)>]})"
            ]
          },
          "metadata": {},
          "execution_count": 65
        }
      ]
    },
    {
      "cell_type": "code",
      "metadata": {
        "id": "6qOlQq5LSVJ4",
        "colab": {
          "base_uri": "https://localhost:8080/"
        },
        "outputId": "263265af-6960-4fe4-98e0-3cd035ddcb13"
      },
      "source": [
        "scoring_modules.keys()"
      ],
      "execution_count": 54,
      "outputs": [
        {
          "output_type": "execute_result",
          "data": {
            "text/plain": [
              "dict_keys(['metrics', 'model_selection'])"
            ]
          },
          "metadata": {},
          "execution_count": 54
        }
      ]
    },
    {
      "cell_type": "markdown",
      "metadata": {
        "id": "EMCCmWBhSVJ4"
      },
      "source": [
        "## on s'intéresse aux métriques"
      ]
    },
    {
      "cell_type": "code",
      "metadata": {
        "id": "eXyDdBvcSVJ4",
        "colab": {
          "base_uri": "https://localhost:8080/"
        },
        "outputId": "93c9e0da-380b-4bf3-a61b-00089fc4d282"
      },
      "source": [
        "scoring_modules[\"metrics\"]"
      ],
      "execution_count": 55,
      "outputs": [
        {
          "output_type": "execute_result",
          "data": {
            "text/plain": [
              "[<module 'sklearn.metrics._scorer' from '/usr/local/lib/python3.7/dist-packages/sklearn/metrics/_scorer.py'>,\n",
              " <function sklearn.metrics._classification.accuracy_score(y_true, y_pred, *, normalize=True, sample_weight=None)>,\n",
              " <function sklearn.metrics.cluster._supervised.adjusted_mutual_info_score(labels_true, labels_pred, *, average_method='arithmetic')>,\n",
              " <function sklearn.metrics.cluster._supervised.adjusted_rand_score(labels_true, labels_pred)>,\n",
              " <function sklearn.metrics._ranking.average_precision_score(y_true, y_score, *, average='macro', pos_label=1, sample_weight=None)>,\n",
              " <function sklearn.metrics._classification.balanced_accuracy_score(y_true, y_pred, *, sample_weight=None, adjusted=False)>,\n",
              " <function sklearn.metrics._classification.brier_score_loss(y_true, y_prob, *, sample_weight=None, pos_label=None)>,\n",
              " <function sklearn.metrics.cluster._unsupervised.calinski_harabasz_score(X, labels)>,\n",
              " <function sklearn.metrics._classification.cohen_kappa_score(y1, y2, *, labels=None, weights=None, sample_weight=None)>,\n",
              " <function sklearn.metrics.cluster._supervised.completeness_score(labels_true, labels_pred)>,\n",
              " <function sklearn.metrics.cluster._bicluster.consensus_score(a, b, *, similarity='jaccard')>,\n",
              " <function sklearn.metrics._regression.d2_tweedie_score(y_true, y_pred, *, sample_weight=None, power=0)>,\n",
              " <function sklearn.metrics.cluster._unsupervised.davies_bouldin_score(X, labels)>,\n",
              " <function sklearn.metrics._ranking.dcg_score(y_true, y_score, *, k=None, log_base=2, sample_weight=None, ignore_ties=False)>,\n",
              " <function sklearn.metrics._regression.explained_variance_score(y_true, y_pred, *, sample_weight=None, multioutput='uniform_average')>,\n",
              " <function sklearn.metrics._classification.f1_score(y_true, y_pred, *, labels=None, pos_label=1, average='binary', sample_weight=None, zero_division='warn')>,\n",
              " <function sklearn.metrics._classification.fbeta_score(y_true, y_pred, *, beta, labels=None, pos_label=1, average='binary', sample_weight=None, zero_division='warn')>,\n",
              " <function sklearn.metrics.cluster._supervised.fowlkes_mallows_score(labels_true, labels_pred, *, sparse=False)>,\n",
              " <function sklearn.metrics._scorer.get_scorer(scoring)>,\n",
              " <function sklearn.metrics.cluster._supervised.homogeneity_score(labels_true, labels_pred)>,\n",
              " <function sklearn.metrics._classification.jaccard_score(y_true, y_pred, *, labels=None, pos_label=1, average='binary', sample_weight=None, zero_division='warn')>,\n",
              " <function sklearn.metrics._ranking.label_ranking_average_precision_score(y_true, y_score, *, sample_weight=None)>,\n",
              " <function sklearn.metrics._scorer.make_scorer(score_func, *, greater_is_better=True, needs_proba=False, needs_threshold=False, **kwargs)>,\n",
              " <function sklearn.metrics.cluster._supervised.mutual_info_score(labels_true, labels_pred, *, contingency=None)>,\n",
              " <function sklearn.metrics._ranking.ndcg_score(y_true, y_score, *, k=None, sample_weight=None, ignore_ties=False)>,\n",
              " <function sklearn.metrics.cluster._supervised.normalized_mutual_info_score(labels_true, labels_pred, *, average_method='arithmetic')>,\n",
              " <function sklearn.metrics._classification.precision_recall_fscore_support(y_true, y_pred, *, beta=1.0, labels=None, pos_label=1, average=None, warn_for=('precision', 'recall', 'f-score'), sample_weight=None, zero_division='warn')>,\n",
              " <function sklearn.metrics._classification.precision_score(y_true, y_pred, *, labels=None, pos_label=1, average='binary', sample_weight=None, zero_division='warn')>,\n",
              " <function sklearn.metrics._regression.r2_score(y_true, y_pred, *, sample_weight=None, multioutput='uniform_average')>,\n",
              " <function sklearn.metrics.cluster._supervised.rand_score(labels_true, labels_pred)>,\n",
              " <function sklearn.metrics._classification.recall_score(y_true, y_pred, *, labels=None, pos_label=1, average='binary', sample_weight=None, zero_division='warn')>,\n",
              " <function sklearn.metrics._ranking.roc_auc_score(y_true, y_score, *, average='macro', sample_weight=None, max_fpr=None, multi_class='raise', labels=None)>,\n",
              " <function sklearn.metrics.cluster._unsupervised.silhouette_score(X, labels, *, metric='euclidean', sample_size=None, random_state=None, **kwds)>,\n",
              " <function sklearn.metrics._ranking.top_k_accuracy_score(y_true, y_score, *, k=2, normalize=True, sample_weight=None, labels=None)>,\n",
              " <function sklearn.metrics.cluster._supervised.v_measure_score(labels_true, labels_pred, *, beta=1.0)>]"
            ]
          },
          "metadata": {},
          "execution_count": 55
        }
      ]
    },
    {
      "cell_type": "markdown",
      "metadata": {
        "id": "K2K7eoDUSVJ4"
      },
      "source": [
        "# 8) tester les métriques sur un algo"
      ]
    },
    {
      "cell_type": "code",
      "metadata": {
        "id": "QOCtc4NoSVJ5"
      },
      "source": [
        "from sklearn.ensemble import BaggingRegressor"
      ],
      "execution_count": 56,
      "outputs": []
    },
    {
      "cell_type": "markdown",
      "metadata": {
        "id": "D0-IDvNtSVJ5"
      },
      "source": [
        "# 8.1) l'algo a des performances variables"
      ]
    },
    {
      "cell_type": "code",
      "metadata": {
        "id": "OQH6VSJTSVJ5",
        "colab": {
          "base_uri": "https://localhost:8080/"
        },
        "outputId": "2e735ea8-0cbe-4b0e-93fe-cb1e4f212145"
      },
      "source": [
        "performances = {}\n",
        "for i in range(10):\n",
        "    algorithme = BaggingRegressor()\n",
        "    algorithme.fit(X_train, y_train)\n",
        "    performance = algorithme.score(X_test, y_test)\n",
        "    print (i, performance)\n",
        "    performances[i] = [performance]"
      ],
      "execution_count": 57,
      "outputs": [
        {
          "output_type": "stream",
          "name": "stdout",
          "text": [
            "0 0.9172412572592309\n",
            "1 0.8840344863697682\n",
            "2 0.8926891710040106\n",
            "3 0.9066101520823071\n",
            "4 0.8895351399629267\n",
            "5 0.8827396213504894\n",
            "6 0.881872677547163\n",
            "7 0.8967976822423502\n",
            "8 0.8960428087977551\n",
            "9 0.9028003674560386\n"
          ]
        }
      ]
    },
    {
      "cell_type": "code",
      "metadata": {
        "id": "yETkEKgrSVJ5",
        "colab": {
          "base_uri": "https://localhost:8080/",
          "height": 282
        },
        "outputId": "8cd80a56-557e-4141-a94b-b7b72cc7ae86"
      },
      "source": [
        "pd.DataFrame.from_dict(performances).T.plot()"
      ],
      "execution_count": 58,
      "outputs": [
        {
          "output_type": "execute_result",
          "data": {
            "text/plain": [
              "<matplotlib.axes._subplots.AxesSubplot at 0x7f7c210d5190>"
            ]
          },
          "metadata": {},
          "execution_count": 58
        },
        {
          "output_type": "display_data",
          "data": {
            "text/plain": [
              "<Figure size 432x288 with 1 Axes>"
            ],
            "image/png": "[encoded data removed]"
          },
          "metadata": {
            "needs_background": "light"
          }
        }
      ]
    },
    {
      "cell_type": "markdown",
      "metadata": {
        "id": "5ZxpZGNfSVJ5"
      },
      "source": [
        "## On peut calculer diverses métriques"
      ]
    },
    {
      "cell_type": "code",
      "metadata": {
        "id": "vP7vE4Z1SVJ5"
      },
      "source": [
        "y_pred = algorithme.predict(X_test)"
      ],
      "execution_count": 59,
      "outputs": []
    },
    {
      "cell_type": "code",
      "metadata": {
        "id": "3DzJfb71SVJ5",
        "colab": {
          "base_uri": "https://localhost:8080/"
        },
        "outputId": "be217a9b-0b8d-4a83-a82e-d69f32f28cfb"
      },
      "source": [
        "score_par_metric = {}\n",
        "for scoring_function in scoring_modules[\"metrics\"]:\n",
        "    try:\n",
        "        info         = str(scoring_function)\n",
        "        nom_metrique = info[info.find(\" \"):info.find(\" at \")].strip()\n",
        "        score_algo   = scoring_function(y_test, y_pred)\n",
        "        score_par_metric[nom_metrique] =  [score_algo]\n",
        "        print (nom_metrique, \" => \", score_algo)\n",
        "    except:\n",
        "        pass"
      ],
      "execution_count": 60,
      "outputs": [
        {
          "output_type": "stream",
          "name": "stderr",
          "text": [
            "/usr/local/lib/python3.7/dist-packages/sklearn/metrics/cluster/_supervised.py:65: UserWarning: Clustering metrics expects discrete values but received continuous values for label, and continuous values for target\n",
            "  warnings.warn(msg, UserWarning)\n"
          ]
        },
        {
          "output_type": "stream",
          "name": "stdout",
          "text": [
            "adjusted_mutual_info_score  =>  -0.00031595336753772384\n",
            "adjusted_rand_score  =>  -0.0002779685842044352\n",
            "completeness_score  =>  0.92594489175767\n",
            "d2_tweedie_score  =>  0.9028003674560386\n",
            "explained_variance_score  =>  0.9034400677954508\n",
            "fowlkes_mallows_score  =>  0.0\n",
            "homogeneity_score  =>  0.9964975541842269\n",
            "mutual_info_score  =>  4.72360738614985\n",
            "normalized_mutual_info_score  =>  0.9599265995126537\n",
            "r2_score  =>  0.9028003674560386\n",
            "rand_score  =>  0.9961041771877931\n",
            "v_measure_score  =>  0.9599265995126538\n"
          ]
        },
        {
          "output_type": "stream",
          "name": "stderr",
          "text": [
            "/usr/local/lib/python3.7/dist-packages/sklearn/metrics/cluster/_supervised.py:65: UserWarning: Clustering metrics expects discrete values but received continuous values for label, and continuous values for target\n",
            "  warnings.warn(msg, UserWarning)\n",
            "/usr/local/lib/python3.7/dist-packages/sklearn/metrics/cluster/_supervised.py:65: UserWarning: Clustering metrics expects discrete values but received continuous values for label, and continuous values for target\n",
            "  warnings.warn(msg, UserWarning)\n",
            "/usr/local/lib/python3.7/dist-packages/sklearn/metrics/cluster/_supervised.py:65: UserWarning: Clustering metrics expects discrete values but received continuous values for label, and continuous values for target\n",
            "  warnings.warn(msg, UserWarning)\n",
            "/usr/local/lib/python3.7/dist-packages/sklearn/metrics/cluster/_supervised.py:65: UserWarning: Clustering metrics expects discrete values but received continuous values for label, and continuous values for target\n",
            "  warnings.warn(msg, UserWarning)\n",
            "/usr/local/lib/python3.7/dist-packages/sklearn/metrics/cluster/_supervised.py:65: UserWarning: Clustering metrics expects discrete values but received continuous values for label, and continuous values for target\n",
            "  warnings.warn(msg, UserWarning)\n",
            "/usr/local/lib/python3.7/dist-packages/sklearn/metrics/cluster/_supervised.py:65: UserWarning: Clustering metrics expects discrete values but received continuous values for label, and continuous values for target\n",
            "  warnings.warn(msg, UserWarning)\n",
            "/usr/local/lib/python3.7/dist-packages/sklearn/metrics/cluster/_supervised.py:65: UserWarning: Clustering metrics expects discrete values but received continuous values for label, and continuous values for target\n",
            "  warnings.warn(msg, UserWarning)\n",
            "/usr/local/lib/python3.7/dist-packages/sklearn/metrics/cluster/_supervised.py:65: UserWarning: Clustering metrics expects discrete values but received continuous values for label, and continuous values for target\n",
            "  warnings.warn(msg, UserWarning)\n"
          ]
        }
      ]
    },
    {
      "cell_type": "markdown",
      "metadata": {
        "id": "O_CZRedDSVJ5"
      },
      "source": [
        "## on les manipule dans une dataframe pandas"
      ]
    },
    {
      "cell_type": "code",
      "metadata": {
        "id": "4IAlGamhSVJ6"
      },
      "source": [
        "df_metriques = pd.DataFrame.from_dict(score_par_metric).T"
      ],
      "execution_count": 61,
      "outputs": []
    },
    {
      "cell_type": "code",
      "metadata": {
        "id": "V-dD72c7SVJ6",
        "colab": {
          "base_uri": "https://localhost:8080/",
          "height": 426
        },
        "outputId": "3595798b-4591-47d0-f34d-74fceb517199"
      },
      "source": [
        "colonne_de_score = \"score\"\n",
        "df_metriques.columns = [colonne_de_score]\n",
        "df_metriques.sort_values(colonne_de_score)"
      ],
      "execution_count": 62,
      "outputs": [
        {
          "output_type": "execute_result",
          "data": {
            "text/plain": [
              "                                 score\n",
              "adjusted_mutual_info_score   -0.000316\n",
              "adjusted_rand_score          -0.000278\n",
              "fowlkes_mallows_score         0.000000\n",
              "d2_tweedie_score              0.902800\n",
              "r2_score                      0.902800\n",
              "explained_variance_score      0.903440\n",
              "completeness_score            0.925945\n",
              "normalized_mutual_info_score  0.959927\n",
              "v_measure_score               0.959927\n",
              "rand_score                    0.996104\n",
              "homogeneity_score             0.996498\n",
              "mutual_info_score             4.723607"
            ],
            "text/html": [
              "\n",
              "  <div id=\"df-ae8b1aa1-85ed-48b7-b4c5-f947c33f3607\">\n",
              "    <div class=\"colab-df-container\">\n",
              "      <div>\n",
              "<style scoped>\n",
              "    .dataframe tbody tr th:only-of-type {\n",
              "        vertical-align: middle;\n",
              "    }\n",
              "\n",
              "    .dataframe tbody tr th {\n",
              "        vertical-align: top;\n",
              "    }\n",
              "\n",
              "    .dataframe thead th {\n",
              "        text-align: right;\n",
              "    }\n",
              "</style>\n",
              "<table border=\"1\" class=\"dataframe\">\n",
              "  <thead>\n",
              "    <tr style=\"text-align: right;\">\n",
              "      <th></th>\n",
              "      <th>score</th>\n",
              "    </tr>\n",
              "  </thead>\n",
              "  <tbody>\n",
              "    <tr>\n",
              "      <th>adjusted_mutual_info_score</th>\n",
              "      <td>-0.000316</td>\n",
              "    </tr>\n",
              "    <tr>\n",
              "      <th>adjusted_rand_score</th>\n",
              "      <td>-0.000278</td>\n",
              "    </tr>\n",
              "    <tr>\n",
              "      <th>fowlkes_mallows_score</th>\n",
              "      <td>0.000000</td>\n",
              "    </tr>\n",
              "    <tr>\n",
              "      <th>d2_tweedie_score</th>\n",
              "      <td>0.902800</td>\n",
              "    </tr>\n",
              "    <tr>\n",
              "      <th>r2_score</th>\n",
              "      <td>0.902800</td>\n",
              "    </tr>\n",
              "    <tr>\n",
              "      <th>explained_variance_score</th>\n",
              "      <td>0.903440</td>\n",
              "    </tr>\n",
              "    <tr>\n",
              "      <th>completeness_score</th>\n",
              "      <td>0.925945</td>\n",
              "    </tr>\n",
              "    <tr>\n",
              "      <th>normalized_mutual_info_score</th>\n",
              "      <td>0.959927</td>\n",
              "    </tr>\n",
              "    <tr>\n",
              "      <th>v_measure_score</th>\n",
              "      <td>0.959927</td>\n",
              "    </tr>\n",
              "    <tr>\n",
              "      <th>rand_score</th>\n",
              "      <td>0.996104</td>\n",
              "    </tr>\n",
              "    <tr>\n",
              "      <th>homogeneity_score</th>\n",
              "      <td>0.996498</td>\n",
              "    </tr>\n",
              "    <tr>\n",
              "      <th>mutual_info_score</th>\n",
              "      <td>4.723607</td>\n",
              "    </tr>\n",
              "  </tbody>\n",
              "</table>\n",
              "</div>\n",
              "      <button class=\"colab-df-convert\" onclick=\"convertToInteractive('df-ae8b1aa1-85ed-48b7-b4c5-f947c33f3607')\"\n",
              "              title=\"Convert this dataframe to an interactive table.\"\n",
              "              style=\"display:none;\">\n",
              "        \n",
              "  <svg xmlns=\"http://www.w3.org/2000/svg\" height=\"24px\"viewBox=\"0 0 24 24\"\n",
              "       width=\"24px\">\n",
              "    <path d=\"M0 0h24v24H0V0z\" fill=\"none\"/>\n",
              "    <path d=\"M18.56 5.44l.94 2.06.94-2.06 2.06-.94-2.06-.94-.94-2.06-.94 2.06-2.06.94zm-11 1L8.5 8.5l.94-2.06 2.06-.94-2.06-.94L8.5 2.5l-.94 2.06-2.06.94zm10 10l.94 2.06.94-2.06 2.06-.94-2.06-.94-.94-2.06-.94 2.06-2.06.94z\"/><path d=\"M17.41 7.96l-1.37-1.37c-.4-.4-.92-.59-1.43-.59-.52 0-1.04.2-1.43.59L10.3 9.45l-7.72 7.72c-.78.78-.78 2.05 0 2.83L4 21.41c.39.39.9.59 1.41.59.51 0 1.02-.2 1.41-.59l7.78-7.78 2.81-2.81c.8-.78.8-2.07 0-2.86zM5.41 20L4 18.59l7.72-7.72 1.47 1.35L5.41 20z\"/>\n",
              "  </svg>\n",
              "      </button>\n",
              "      \n",
              "  <style>\n",
              "    .colab-df-container {\n",
              "      display:flex;\n",
              "      flex-wrap:wrap;\n",
              "      gap: 12px;\n",
              "    }\n",
              "\n",
              "    .colab-df-convert {\n",
              "      background-color: #E8F0FE;\n",
              "      border: none;\n",
              "      border-radius: 50%;\n",
              "      cursor: pointer;\n",
              "      display: none;\n",
              "      fill: #1967D2;\n",
              "      height: 32px;\n",
              "      padding: 0 0 0 0;\n",
              "      width: 32px;\n",
              "    }\n",
              "\n",
              "    .colab-df-convert:hover {\n",
              "      background-color: #E2EBFA;\n",
              "      box-shadow: 0px 1px 2px rgba(60, 64, 67, 0.3), 0px 1px 3px 1px rgba(60, 64, 67, 0.15);\n",
              "      fill: #174EA6;\n",
              "    }\n",
              "\n",
              "    [theme=dark] .colab-df-convert {\n",
              "      background-color: #3B4455;\n",
              "      fill: #D2E3FC;\n",
              "    }\n",
              "\n",
              "    [theme=dark] .colab-df-convert:hover {\n",
              "      background-color: #434B5C;\n",
              "      box-shadow: 0px 1px 3px 1px rgba(0, 0, 0, 0.15);\n",
              "      filter: drop-shadow(0px 1px 2px rgba(0, 0, 0, 0.3));\n",
              "      fill: #FFFFFF;\n",
              "    }\n",
              "  </style>\n",
              "\n",
              "      <script>\n",
              "        const buttonEl =\n",
              "          document.querySelector('#df-ae8b1aa1-85ed-48b7-b4c5-f947c33f3607 button.colab-df-convert');\n",
              "        buttonEl.style.display =\n",
              "          google.colab.kernel.accessAllowed ? 'block' : 'none';\n",
              "\n",
              "        async function convertToInteractive(key) {\n",
              "          const element = document.querySelector('#df-ae8b1aa1-85ed-48b7-b4c5-f947c33f3607');\n",
              "          const dataTable =\n",
              "            await google.colab.kernel.invokeFunction('convertToInteractive',\n",
              "                                                     [key], {});\n",
              "          if (!dataTable) return;\n",
              "\n",
              "          const docLinkHtml = 'Like what you see? Visit the ' +\n",
              "            '<a target=\"_blank\" href=https://colab.research.google.com/notebooks/data_table.ipynb>data table notebook</a>'\n",
              "            + ' to learn more about interactive tables.';\n",
              "          element.innerHTML = '';\n",
              "          dataTable['output_type'] = 'display_data';\n",
              "          await google.colab.output.renderOutput(dataTable, element);\n",
              "          const docLink = document.createElement('div');\n",
              "          docLink.innerHTML = docLinkHtml;\n",
              "          element.appendChild(docLink);\n",
              "        }\n",
              "      </script>\n",
              "    </div>\n",
              "  </div>\n",
              "  "
            ]
          },
          "metadata": {},
          "execution_count": 62
        }
      ]
    },
    {
      "cell_type": "markdown",
      "metadata": {
        "id": "FtiV3SA-SVJ6"
      },
      "source": [
        "## on peut les dessiner"
      ]
    },
    {
      "cell_type": "code",
      "metadata": {
        "id": "E-k5r98CSVJ6",
        "colab": {
          "base_uri": "https://localhost:8080/",
          "height": 282
        },
        "outputId": "1d4e74f6-9bef-4836-bc64-ccf73b8a3633"
      },
      "source": [
        "df_metriques.sort_values(by=colonne_de_score).plot(kind=\"barh\")"
      ],
      "execution_count": 63,
      "outputs": [
        {
          "output_type": "execute_result",
          "data": {
            "text/plain": [
              "<matplotlib.axes._subplots.AxesSubplot at 0x7f7c2108add0>"
            ]
          },
          "metadata": {},
          "execution_count": 63
        },
        {
          "output_type": "display_data",
          "data": {
            "text/plain": [
              "<Figure size 432x288 with 1 Axes>"
            ],
            "image/png": "[encoded data removed]"
          },
          "metadata": {
            "needs_background": "light"
          }
        }
      ]
    },
    {
      "cell_type": "markdown",
      "metadata": {
        "id": "ww3j2BGaSVJ6"
      },
      "source": [
        "# on s'intéresse en général au r2 et à la variance expliquée"
      ]
    }
  ]
}