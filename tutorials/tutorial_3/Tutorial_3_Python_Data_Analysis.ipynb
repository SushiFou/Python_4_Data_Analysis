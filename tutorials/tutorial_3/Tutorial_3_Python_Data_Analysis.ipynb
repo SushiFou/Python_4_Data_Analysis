{
  "nbformat": 4,
  "nbformat_minor": 0,
  "metadata": {
    "colab": {
      "name": "Tutorial_3_Python_Data_Analysis.ipynb",
      "provenance": []
    },
    "kernelspec": {
      "name": "python3",
      "display_name": "Python 3"
    },
    "language_info": {
      "name": "python"
    }
  },
  "cells": [
    {
      "cell_type": "markdown",
      "metadata": {
        "id": "cYcPlmKPXdj3"
      },
      "source": [
        "# Tutorial 3 - Python For Data Analysis 🐍 \n",
        "---\n",
        "## 📈 Matplotlib & Seaborn 📉"
      ]
    },
    {
      "cell_type": "markdown",
      "metadata": {
        "id": "8ERC7ZYgfQAj"
      },
      "source": [
        "### *Table of Contents*\n",
        "\n",
        "  - [Exercise 1](#exercise-1) : Matplotlib Basics\n",
        "  - [Exercise 2](#exercise-2) : Matplotlib's Object Oriented API\n",
        "  - [Exercise 3](#exercise-3) : Pandas Built-in\n",
        "  - [Exercise 4](#exercise-4) : Traffic accidents - Seaborn\n"
      ]
    },
    {
      "cell_type": "markdown",
      "metadata": {
        "id": "uvZZ7ZCQ9oQk"
      },
      "source": [
        "## Imports"
      ]
    },
    {
      "cell_type": "code",
      "metadata": {
        "id": "hr_d8lnD9nZ2"
      },
      "source": [
        "import pandas as pd\n",
        "import numpy as np\n",
        "import seaborn as sns\n",
        "import matplotlib.pyplot as plt\n",
        "import matplotlib\n",
        "\n",
        "#Affichage avec la bibliothèque graphique intégrée à Notebook\n",
        "%matplotlib inline"
      ],
      "execution_count": null,
      "outputs": []
    },
    {
      "cell_type": "markdown",
      "metadata": {
        "id": "RPXkdEl7laNO"
      },
      "source": [
        "<a name=\"exercise-1\">\n",
        "\n",
        "### Exercise 1 : Matplotlib Basics \n",
        "---"
      ]
    },
    {
      "cell_type": "markdown",
      "metadata": {
        "id": "GpdR3kvnt7hB"
      },
      "source": [
        "#### 1) Create `x` and `y`NumPy arrays, such as `x` have values from 1 to 5, with a 0.5 step.\n",
        "‘y’ will be the square of ‘x’. Then, create a plot using ‘x’ and ‘y’."
      ]
    },
    {
      "cell_type": "code",
      "metadata": {
        "id": "1QTMvJyTuK9s"
      },
      "source": [
        ""
      ],
      "execution_count": null,
      "outputs": []
    },
    {
      "cell_type": "markdown",
      "metadata": {
        "id": "SWziij71uOL3"
      },
      "source": [
        "#### 2) On the same plot, add a title for the graph, x axis and y axis "
      ]
    },
    {
      "cell_type": "code",
      "metadata": {
        "id": "hHYrHsmduVEx"
      },
      "source": [
        ""
      ],
      "execution_count": null,
      "outputs": []
    },
    {
      "cell_type": "markdown",
      "metadata": {
        "id": "q7Oxa45LuVaq"
      },
      "source": [
        "#### 3) Change the color of the line. Where can you find all named colors known by matplotlib?"
      ]
    },
    {
      "cell_type": "code",
      "metadata": {
        "id": "xjkU6fZDud-Q"
      },
      "source": [
        ""
      ],
      "execution_count": null,
      "outputs": []
    },
    {
      "cell_type": "markdown",
      "metadata": {
        "id": "E4YIaj0wueYZ"
      },
      "source": [
        "#### 4) Create a multiplot having 2 rows and 2 columns. Such as : "
      ]
    },
    {
      "cell_type": "markdown",
      "metadata": {
        "id": "IYCAp7tyulyq"
      },
      "source": [
        "a) First plot containing $y=x^2$"
      ]
    },
    {
      "cell_type": "markdown",
      "metadata": {
        "id": "Ik4PS2UQuv64"
      },
      "source": [
        "b) Second plot containing $y=x^3$"
      ]
    },
    {
      "cell_type": "markdown",
      "metadata": {
        "id": "yY1yRurZu1Q1"
      },
      "source": [
        "c) (second row) Third plot containing $y=log(x)$"
      ]
    },
    {
      "cell_type": "markdown",
      "metadata": {
        "id": "xtZpLPOXu8k1"
      },
      "source": [
        "d) Fourth plot containing $y=e^x$"
      ]
    },
    {
      "cell_type": "code",
      "metadata": {
        "id": "KyiShBVWvBm1"
      },
      "source": [
        ""
      ],
      "execution_count": null,
      "outputs": []
    },
    {
      "cell_type": "markdown",
      "metadata": {
        "id": "GSrwdxkslbDr"
      },
      "source": [
        "<a name=\"exercise-2\">\n",
        "\n",
        "### Exercise 2 : Matplotlib's Object Oriented API\n",
        "---"
      ]
    },
    {
      "cell_type": "markdown",
      "metadata": {
        "id": "tldiqlmPvCZb"
      },
      "source": [
        "Matplotlib have an object-oriented API used to create more complex figures. Code is a\n",
        "little more complicated, but the advantage is that we now have full control of where the plot axes. Here’s a good read when exploring matplotlib \n",
        "\n",
        "https://github.com/rougier/matplotlibtutorial"
      ]
    },
    {
      "cell_type": "markdown",
      "metadata": {
        "id": "10R8eoi9vJGG"
      },
      "source": [
        "#### 1) Create the same chart as 1.1 using the new method: instantiate figure objects and then call methods or attributes from that object."
      ]
    },
    {
      "cell_type": "code",
      "metadata": {
        "id": "JiA87HLZvIPK"
      },
      "source": [
        ""
      ],
      "execution_count": null,
      "outputs": []
    },
    {
      "cell_type": "markdown",
      "metadata": {
        "id": "APE4jhZqvXeY"
      },
      "source": [
        "#### 2) Create the figure below (the blue curve represents $y=x^2$ while the red curve represents $x=y^2$)"
      ]
    },
    {
      "cell_type": "code",
      "metadata": {
        "id": "Gf6Zyqevvr2p"
      },
      "source": [
        ""
      ],
      "execution_count": null,
      "outputs": []
    },
    {
      "cell_type": "markdown",
      "metadata": {
        "id": "bhPUekvVvrWH"
      },
      "source": [
        "#### 3) Explore colors and markers style. Create a new chart, such as x goes from 0 to 10, and $y=x+index$.\n",
        "\n",
        "*index* is the number of curves you're going to draw. For example, the first curve will match $y=x+0$, the second $y=x+1$, etc...\n",
        "\n",
        "Create multiple combinations of differents colors, markers & marker size in this graphic. Here's an example using three curves:"
      ]
    },
    {
      "cell_type": "code",
      "metadata": {
        "id": "2ndRSRv3wU4R"
      },
      "source": [
        ""
      ],
      "execution_count": null,
      "outputs": []
    },
    {
      "cell_type": "markdown",
      "metadata": {
        "id": "YesnKuwHwVNN"
      },
      "source": [
        "#### 4) Create the same subplots you've created in 1.4 using matplotlib API (use `plt.subplots()`"
      ]
    },
    {
      "cell_type": "markdown",
      "metadata": {
        "id": "f0yd96bBwfh6"
      },
      "source": [
        "a. Add a title for each plot ‘title 1’, ‘title 2’, etc.\n",
        "\n",
        "b. Add an x axis and y axis label for each plot (for example, x-axis: X, y-axis: f(x)= x^2\n",
        "\n",
        "c. Use figsize to make it clearer\n",
        "\n",
        "d. Show legend on chart\n",
        "\n",
        "e. Differentiate between each graph using a different color and markers\n",
        "\n",
        "\n"
      ]
    },
    {
      "cell_type": "code",
      "metadata": {
        "id": "-qvRQmApw2TY"
      },
      "source": [
        ""
      ],
      "execution_count": null,
      "outputs": []
    },
    {
      "cell_type": "markdown",
      "metadata": {
        "id": "wtaBmRPjlblg"
      },
      "source": [
        "<a name=\"exercise-3\">\n",
        "\n",
        "### Exercise 3 : Pandas Built-in\n",
        "---"
      ]
    },
    {
      "cell_type": "markdown",
      "metadata": {
        "id": "kjoAbXU4w50H"
      },
      "source": [
        "On every plot graph, you can use plt.style.use(theme) to change the style of your plot. https://matplotlib.org/stable/gallery/style_sheets/style_sheets_reference.html\n",
        "\n",
        "You can find all available graphs on pandas here:\n",
        "https://pandas.pydata.org/docs/reference/api/pandas.DataFrame.plot.html"
      ]
    },
    {
      "cell_type": "markdown",
      "metadata": {
        "id": "_R45zP0P2BYO"
      },
      "source": [
        "#### 1) Create a pandas dataframe, having 5000 rows and 4 random columns. First column should be called ‘col_1’, second one ‘col_2’, etc."
      ]
    },
    {
      "cell_type": "code",
      "metadata": {
        "id": "oFzh36a02Bs8"
      },
      "source": [
        ""
      ],
      "execution_count": null,
      "outputs": []
    },
    {
      "cell_type": "markdown",
      "metadata": {
        "id": "d_L3sJuy2KMg"
      },
      "source": [
        "#### 2) Using pandas built-in visualization, create a scatter plot that will show col_1 vs col_2. Try it again with col_3 vs col_4.\n",
        "Hint: use df.plot.scatter"
      ]
    },
    {
      "cell_type": "code",
      "metadata": {
        "id": "jJFLZjjm2Jru"
      },
      "source": [
        ""
      ],
      "execution_count": null,
      "outputs": []
    },
    {
      "cell_type": "markdown",
      "metadata": {
        "id": "P6WJSJ1t2NZV"
      },
      "source": [
        "#### 3) On the first plot, add col_3 as a color column, and col_4 as a size column. This means that the more col_3 is increased, the more the color will be different. And the more col_4 increases, the bigger its size will be.\n",
        "Hint: if the size is very small, consider multiply it by * 10, even by 100 if needed."
      ]
    },
    {
      "cell_type": "code",
      "metadata": {
        "id": "8oSmcZd02RV9"
      },
      "source": [
        ""
      ],
      "execution_count": null,
      "outputs": []
    },
    {
      "cell_type": "markdown",
      "metadata": {
        "id": "YS889ehT2RhU"
      },
      "source": [
        "#### 4) Display the frequency bar (histogram) of the first column. As you can see, we can’t identify anything using the default plot configuration. Can you refine the result so that we can see more detail in the plot?"
      ]
    },
    {
      "cell_type": "code",
      "metadata": {
        "id": "aQtQRDcm2WEk"
      },
      "source": [
        ""
      ],
      "execution_count": null,
      "outputs": []
    },
    {
      "cell_type": "markdown",
      "metadata": {
        "id": "KogIH_xv2WcT"
      },
      "source": [
        "#### 5) Create a boxplot representing the distribution of the 4 columns on the same graph. Can you display the first two only?"
      ]
    },
    {
      "cell_type": "code",
      "metadata": {
        "id": "5zphVzwg2ZD7"
      },
      "source": [
        ""
      ],
      "execution_count": null,
      "outputs": []
    },
    {
      "cell_type": "markdown",
      "metadata": {
        "id": "FyYudtOa2ZQL"
      },
      "source": [
        "#### 6) Plot the first 200 rows of the dataframe."
      ]
    },
    {
      "cell_type": "code",
      "metadata": {
        "id": "QXjQjH4p2bvN"
      },
      "source": [
        ""
      ],
      "execution_count": null,
      "outputs": []
    },
    {
      "cell_type": "markdown",
      "metadata": {
        "id": "ATCW94vH2f5H"
      },
      "source": [
        "#### 7) Create two plots side by side, the first one is using scatter plot (as seen previously) and the second one use hexbin plot."
      ]
    },
    {
      "cell_type": "code",
      "metadata": {
        "id": "5DxwuwwC2dwJ"
      },
      "source": [
        ""
      ],
      "execution_count": null,
      "outputs": []
    },
    {
      "cell_type": "markdown",
      "metadata": {
        "id": "dh-ocPZ7lcBm"
      },
      "source": [
        "<a name=\"exercise-4\">\n",
        "\n",
        "### Exercise 4 : Traffic Accidents - Seaborn\n",
        "---"
      ]
    },
    {
      "cell_type": "markdown",
      "metadata": {
        "id": "orIuKKyc2lBk"
      },
      "source": [
        "In EDA (Exploratory Data Analysis), we rarely use matplotlib directly. We use it for highly customized visualizations. For quick plots, we can use pandas built-in plots or use external libraries, like Seaborn.\n",
        "\n",
        "We can also use more developed libraries like plotly or bokeh, allowing to create interactive visualizations and entire dashboards.\n",
        "\n",
        "Get the dataframe we used in the previous TP. Don’t forget to add a title, x labels, y labels to every plot you make! Visualizations are used to communicate with people who are nontech- nical and/or who have never seen your data.\n",
        "\n",
        "\n",
        "https://seaborn.pydata.org/generated/seaborn.heatmap.html"
      ]
    },
    {
      "cell_type": "code",
      "metadata": {
        "id": "Kdglcmp19ZKt"
      },
      "source": [
        "from mapping import *\n",
        "# don't forget to import mapping.py and vehicules_2016.csv "
      ],
      "execution_count": null,
      "outputs": []
    },
    {
      "cell_type": "code",
      "metadata": {
        "id": "fRx1JUIP9YoR"
      },
      "source": [
        "vehicules_2016 = pd.read_csv(\"vehicules_2016.csv\", encoding=\"latin1\")\n",
        "vehicules_2016.columns = [\"Num_Acc\", \"sens_de_Circulation\", \"catV\",\n",
        "                          \"nb_occupants\", \"obstacle_fixe\", \"obstacle_mobile\", \n",
        "                          \"choc\", \"manoeuvre\" , \"num_vehicule\" ]\n",
        "vehicules_2016[\"label_vehicule\"]=vehicules_2016.catV.map(info_vehicules)\n",
        "vehicules_2016[\"label_obstacle_mobile\"] = vehicules_2016.obstacle_mobile.map(obstacle_labels)\n",
        "vehicules_2016[\"label_obstacle_fixe\"] = vehicules_2016.obstacle_fixe.map(obstacle_fixe_labels)\n",
        "vehicules_2016.head()\n",
        "\n",
        "vehicules_2016.head(20)"
      ],
      "execution_count": null,
      "outputs": []
    },
    {
      "cell_type": "markdown",
      "metadata": {
        "id": "EmEL60bg2pwM"
      },
      "source": [
        "#### 1) Use the dataframe you created on 2.25, representing the relationship between ‘moving obstacles’ and ‘transport vehicles’. Create a dataframe using this data, marking the correlation between each variable in the heatmap. Add a title and change the style of this plot. Here’s an example of the expected output:"
      ]
    },
    {
      "cell_type": "code",
      "metadata": {
        "id": "fdAV0zRX2t1z"
      },
      "source": [
        ""
      ],
      "execution_count": null,
      "outputs": []
    },
    {
      "cell_type": "markdown",
      "metadata": {
        "id": "RxgOOipW2uCx"
      },
      "source": [
        "#### 2) Create a pie chart representing the frequency of ‘accident numbers’ by ‘type of mov- ing obstacle’"
      ]
    },
    {
      "cell_type": "code",
      "metadata": {
        "id": "bCZKuN6KfPkO"
      },
      "source": [
        ""
      ],
      "execution_count": null,
      "outputs": []
    },
    {
      "cell_type": "markdown",
      "metadata": {
        "id": "kUxiLONw2xVE"
      },
      "source": [
        "#### 3) Modify the previous plot to have the frequency of the single accident numbers"
      ]
    },
    {
      "cell_type": "code",
      "metadata": {
        "id": "SicZ_AwAXXEA"
      },
      "source": [
        ""
      ],
      "execution_count": null,
      "outputs": []
    },
    {
      "cell_type": "markdown",
      "metadata": {
        "id": "feuOTxWg20ma"
      },
      "source": [
        "#### 4) Calculate the ‘'number of accidents’ per ‘fixed obstacle’. Visualize the result in a hori- zontal bar chart."
      ]
    },
    {
      "cell_type": "code",
      "metadata": {
        "id": "OBHp-wYd20Qw"
      },
      "source": [
        ""
      ],
      "execution_count": null,
      "outputs": []
    },
    {
      "cell_type": "markdown",
      "metadata": {
        "id": "4uZwqPEB25xF"
      },
      "source": [
        "#### 5) Zoom in on the lower part of this graph, keep values less than 1500 only (and if their- values are higher, place it at the maximum of the plot)"
      ]
    },
    {
      "cell_type": "code",
      "metadata": {
        "id": "LUq8LC-229LC"
      },
      "source": [
        ""
      ],
      "execution_count": null,
      "outputs": []
    },
    {
      "cell_type": "markdown",
      "metadata": {
        "id": "RX_xqlb129as"
      },
      "source": [
        "6) Zoom in to the upper part of this graph, keep values greater than 1500 only (and if their values are lower, remove them from the graph)"
      ]
    },
    {
      "cell_type": "code",
      "metadata": {
        "id": "CV9TyKAT2_4Q"
      },
      "source": [
        ""
      ],
      "execution_count": null,
      "outputs": []
    },
    {
      "cell_type": "markdown",
      "metadata": {
        "id": "ddvvGmLo3ApC"
      },
      "source": [
        "### Exercise 5 : Bonus (TODO)\n",
        "---"
      ]
    },
    {
      "cell_type": "markdown",
      "metadata": {
        "id": "lpuYqhpU3FsG"
      },
      "source": [
        "Read the file named characteristics_2016.csv containing the characteristics of each accident. Do not hesitate to go back to the documentation if necessary to better understand the columns\n",
        "\n",
        "Documentation : https://www.data.gouv.fr/fr/datasets/r/6cade01c-f69d-4779-b0a4- 20606069888f\n",
        "\n",
        "File path: https://www.data.gouv.fr/fr/datasets/r/96aadc9f-0b55-4e9a-a70e-c627ed97e6f7"
      ]
    },
    {
      "cell_type": "code",
      "metadata": {
        "id": "kGniSZDO9Rdd"
      },
      "source": [
        "path = \"caracteristiques_2016.csv\"\n",
        "caracteristiques_2016 = pd.read_csv(path, encoding=\"latin1\")"
      ],
      "execution_count": null,
      "outputs": []
    },
    {
      "cell_type": "markdown",
      "metadata": {
        "id": "Y9FK8w6-3JBF"
      },
      "source": [
        "#### 1) Create a scatter plot using long and lat columns. Can you recognize the map of France? Maybe by zooming in a bit?"
      ]
    },
    {
      "cell_type": "code",
      "metadata": {
        "id": "_LC9-b0t3MIb"
      },
      "source": [
        ""
      ],
      "execution_count": null,
      "outputs": []
    },
    {
      "cell_type": "markdown",
      "metadata": {
        "id": "EmOJ6VMG3MfX"
      },
      "source": [
        "#### 2) Create a time series graph, representing the evolution of traffic accidents over time. Be specific in your graph (the more details you can provide, the better it will be), while being clear to someone who is seeing it for the first time"
      ]
    },
    {
      "cell_type": "code",
      "metadata": {
        "id": "KvNSwOaR3Pon"
      },
      "source": [
        ""
      ],
      "execution_count": null,
      "outputs": []
    },
    {
      "cell_type": "markdown",
      "metadata": {
        "id": "mERfT-bD3P0n"
      },
      "source": [
        "#### 3) Count and visualize the number of accidents by department. Show the 10 most dan- gerous departments."
      ]
    },
    {
      "cell_type": "code",
      "metadata": {
        "id": "Zfqjsl7U3SUU"
      },
      "source": [
        ""
      ],
      "execution_count": null,
      "outputs": []
    },
    {
      "cell_type": "markdown",
      "metadata": {
        "id": "-3JwZK1i3Sg_"
      },
      "source": [
        "#### 4) Create a new column having an explicit weather label. Analyze this new column for more information on accidents. When do they occur?\n"
      ]
    },
    {
      "cell_type": "code",
      "metadata": {
        "id": "uJH02j453VAZ"
      },
      "source": [
        ""
      ],
      "execution_count": null,
      "outputs": []
    },
    {
      "cell_type": "markdown",
      "metadata": {
        "id": "TPhYfJof3VMN"
      },
      "source": [
        "#### 5) Create two new columns, the first will contain the hour of the accident, the second will contain the minute. Which hour is the most dangerous for drivers?"
      ]
    },
    {
      "cell_type": "code",
      "metadata": {
        "id": "izxjBp8j3XfM"
      },
      "source": [
        ""
      ],
      "execution_count": null,
      "outputs": []
    },
    {
      "cell_type": "markdown",
      "metadata": {
        "id": "We9WDMS-3XrG"
      },
      "source": [
        "#### 6) Analyze the most dangerous moment for each department. Does a specific moment stand out?"
      ]
    },
    {
      "cell_type": "code",
      "metadata": {
        "id": "ej-FLtx63ZnN"
      },
      "source": [
        ""
      ],
      "execution_count": null,
      "outputs": []
    },
    {
      "cell_type": "markdown",
      "metadata": {
        "id": "8MBP2YcB3Z5r"
      },
      "source": [
        "#### 7) Does Ile-de-France have more accidents than in the provinces? Create a new column and analyze the behavior in each of these two groups (Ile-de-France vs provinces). Remember to also analyze the time of day, the weather, etc."
      ]
    },
    {
      "cell_type": "code",
      "metadata": {
        "id": "4nAU43T03ca0"
      },
      "source": [
        ""
      ],
      "execution_count": null,
      "outputs": []
    },
    {
      "cell_type": "markdown",
      "metadata": {
        "id": "9YqQuGb53ct5"
      },
      "source": [
        "#### 8) Create a new column representing 4 period of the day. Morning, afternoon, evening, night. Use this new column to analyze any correlations with other columns. Present your results in one or more graphs."
      ]
    },
    {
      "cell_type": "code",
      "metadata": {
        "id": "KCwxPg783fU_"
      },
      "source": [
        ""
      ],
      "execution_count": null,
      "outputs": []
    }
  ]
}