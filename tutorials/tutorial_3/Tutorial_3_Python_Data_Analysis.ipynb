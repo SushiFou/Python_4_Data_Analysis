{
  "nbformat": 4,
  "nbformat_minor": 0,
  "metadata": {
    "colab": {
      "provenance": []
    },
    "kernelspec": {
      "name": "python3",
      "display_name": "Python 3"
    },
    "language_info": {
      "name": "python"
    }
  },
  "cells": [
    {
      "cell_type": "markdown",
      "metadata": {
        "id": "CKRsHma6pTID"
      },
      "source": [
        "# Tutorial 2 - Python For Data Analysis 🐍 \n",
        "\n",
        "---\n",
        "\n",
        "## Pandas"
      ]
    },
    {
      "cell_type": "markdown",
      "metadata": {
        "id": "i9d88aEwr_af"
      },
      "source": [
        "### *Table of Contents*\n",
        "\n",
        "- Pandas 🐼\n",
        "  - [Introduction](#intro)\n",
        "  - [Exercice 1](#exercise-5) : Explore Pandas DataFrame basic functions\n",
        "  - [Exercise 2](#exercise-6) : Explore traffic accidents vehicles"
      ]
    },
    {
      "cell_type": "code",
      "source": [],
      "metadata": {
        "id": "QuEweOdLsGId"
      },
      "execution_count": null,
      "outputs": []
    },
    {
      "cell_type": "markdown",
      "metadata": {
        "id": "Z_VQxD6CrBwe"
      },
      "source": [
        "## Pandas 🐼"
      ]
    },
    {
      "cell_type": "markdown",
      "metadata": {
        "id": "Vn86J-Dlrjzj"
      },
      "source": [
        "<a name=\"intro\">\n",
        "\n",
        "### Introduction - Traffic Accidents Database\n",
        "---"
      ]
    },
    {
      "cell_type": "markdown",
      "metadata": {
        "id": "IuXJpYdWr0kw"
      },
      "source": [
        "https://www.data.gouv.fr/fr/datasets/base-de-donnees-accidents-corporels-de-la-circulation/\n",
        "\n",
        "For each personal injury accident, information describing the accident is entered by the law enforcement unit that intervened at the scene of the accident. These seizures are brought together in a sheet called the personal accident analysis report. All of these files constitute the national file of traffic accidents known as the \"BAAC File\" administered by the National Intermenstrual Road Safety Observatory \"ONISR\".\n",
        "\n",
        "The databases, extracted from the BAAC file, list all of the bodily injury accidents occurring during a specific year in mainland France, in the overseas departments (Guadeloupe, Guyana, Martinique, Réunion and Mayotte since 2012) and in the other overseas territories (Saint-Pierre- et-Miquelon, Saint-Barthélemy, Saint-Martin, Wallis-et-Futuna, French Polynesia and New Caledonia; available only from 2019 in open data) with a simplified description. This includes accident location information, as entered as well as information regarding the characteristics of the accident and its location, the vehicles involved and their victims.\n",
        "\n",
        "The databases from 2005 to 2019 are now annual and made up of 4 files (Characteristics - Locations - Vehicles - Users) in csv format.\n",
        "\n",
        "Links to databases:\n",
        "- https://www.data.gouv.fr/fr/datasets/r/be2191a6-a7cd-446f-a9fc-8d698688eb9e \n",
        "- https://www.data.gouv.fr/fr/datasets/r/e4c6f4fe-7c68-4a1d-9bb6-b0f1f5d45526 \n",
        "- https://www.data.gouv.fr/fr/datasets/r/08b77510-39c4-4761-bf02-19457264790f \n",
        "- https://www.data.gouv.fr/fr/datasets/r/96aadc9f-0b55-4e9a-a70e-c627ed97e6f7\n",
        "   \n",
        "SETUP : We’ll use vehicles database. \n",
        "\n",
        "Import the data using pandas library.`pd.read_csv(url)`"
      ]
    },
    {
      "cell_type": "markdown",
      "metadata": {
        "id": "UDCwjVx2rkeM"
      },
      "source": [
        "<a name=\"exercise-5\">\n",
        "\n",
        "### Exercise 1 : Explore Pandas DataFrame basic functions\n",
        "---\n",
        "\n",
        "1) How many columns do we have in the DataFrame ? How many rows do we have ?"
      ]
    },
    {
      "cell_type": "code",
      "metadata": {
        "id": "eN46yI-kr0Iz"
      },
      "source": [],
      "execution_count": null,
      "outputs": []
    },
    {
      "cell_type": "markdown",
      "metadata": {
        "id": "H--XDF_TE-b5"
      },
      "source": [
        "2) What are the types of columns in the DataFrame ? Use `info()` function."
      ]
    },
    {
      "cell_type": "code",
      "metadata": {
        "id": "X6FCaLDDFGDz"
      },
      "source": [],
      "execution_count": null,
      "outputs": []
    },
    {
      "cell_type": "markdown",
      "metadata": {
        "id": "B1jmS1X7FGVg"
      },
      "source": [
        "3) Calculate the mean of numeric columns."
      ]
    },
    {
      "cell_type": "code",
      "metadata": {
        "id": "c95n5YoUFJ6G"
      },
      "source": [],
      "execution_count": null,
      "outputs": []
    },
    {
      "cell_type": "markdown",
      "metadata": {
        "id": "z4YgU41EFKIK"
      },
      "source": [
        "4) Calculate the maximum and minimum value of numeric column."
      ]
    },
    {
      "cell_type": "code",
      "metadata": {
        "id": "PxHjw_6-FOiL"
      },
      "source": [],
      "execution_count": null,
      "outputs": []
    },
    {
      "cell_type": "markdown",
      "metadata": {
        "id": "vMUv_e-kFO2y"
      },
      "source": [
        "5) Use `describe()` function, what can you observe ?"
      ]
    },
    {
      "cell_type": "markdown",
      "metadata": {
        "id": "KGaViCYQFT_N"
      },
      "source": [
        "Answer : "
      ]
    },
    {
      "cell_type": "markdown",
      "metadata": {
        "id": "RFoqLRmLFaOB"
      },
      "source": [
        "6) Display the first 30 values, then last 30."
      ]
    },
    {
      "cell_type": "code",
      "metadata": {
        "id": "Opn3Vr-xFVAa"
      },
      "source": [],
      "execution_count": null,
      "outputs": []
    },
    {
      "cell_type": "markdown",
      "metadata": {
        "id": "ML64S4z7rk0j"
      },
      "source": [
        "<a name=\"exercise-6\">\n",
        "\n",
        "### Exercise 2 : Explore traffic accidents vehicles\n",
        "---\n",
        "\n",
        "Read the documentation to understand the meanings of each column.\n",
        " \n",
        "Documentation: https://www.data.gouv.fr/fr/datasets/r/6cade01c-f69d-4779-b0a4-20606069888f"
      ]
    },
    {
      "cell_type": "markdown",
      "metadata": {
        "id": "4ow7P6ePBRvs"
      },
      "source": [
        "1) Then display the column names and rename it with the names of your choice. For the following questions, we use these column names:\n",
        "```\n",
        "[\n",
        "\"Num_Acc\", \"sens_de_Circulation\", \"catV\", \"nb_occupants\", \"obstacle_fixe\", \"obstacle_mobile\", \"choc\", \"manoeuvre\" , \"num_vehicule\"\n",
        "]\n",
        "```"
      ]
    },
    {
      "cell_type": "code",
      "metadata": {
        "id": "veZyf_pHBMBI"
      },
      "source": [],
      "execution_count": null,
      "outputs": []
    },
    {
      "cell_type": "markdown",
      "metadata": {
        "id": "SJBvO8G3Bbnt"
      },
      "source": [
        "2) Get the number of null values by column. Then, display its proportion in the DataFrame. \n",
        "For example : 0.08% of col_1 are null"
      ]
    },
    {
      "cell_type": "code",
      "metadata": {
        "id": "nQ6dvHcWq4db"
      },
      "source": [],
      "execution_count": null,
      "outputs": []
    },
    {
      "cell_type": "markdown",
      "metadata": {
        "id": "Bdn9CD4iBoNo"
      },
      "source": [
        "#### Exploratory Data Analysis - Filters"
      ]
    },
    {
      "cell_type": "markdown",
      "metadata": {
        "id": "iQkK4EraBmwF"
      },
      "source": [
        "3) Select `obstacle fixe` column, what is the type of returned value ?"
      ]
    },
    {
      "cell_type": "code",
      "metadata": {
        "id": "ybwwvjfyBmTV"
      },
      "source": [],
      "execution_count": null,
      "outputs": []
    },
    {
      "cell_type": "markdown",
      "metadata": {
        "id": "PAc2EjELDPiI"
      },
      "source": [
        "4) Convert the returned value to a NumPy array"
      ]
    },
    {
      "cell_type": "code",
      "metadata": {
        "id": "5HZXxTBgBzRx"
      },
      "source": [],
      "execution_count": null,
      "outputs": []
    },
    {
      "cell_type": "markdown",
      "metadata": {
        "id": "Y6Hf233gDSe6"
      },
      "source": [
        "5) Compute the maximum value of the NumPy array"
      ]
    },
    {
      "cell_type": "code",
      "metadata": {
        "id": "TGyKnV9DDUXi"
      },
      "source": [],
      "execution_count": null,
      "outputs": []
    },
    {
      "cell_type": "markdown",
      "metadata": {
        "id": "xDqkz9-XDU0o"
      },
      "source": [
        "6) Select `catV` & `sens_de_Circulation columns together"
      ]
    },
    {
      "cell_type": "code",
      "metadata": {
        "id": "N8FliHf8Da_D"
      },
      "source": [],
      "execution_count": null,
      "outputs": []
    },
    {
      "cell_type": "markdown",
      "metadata": {
        "id": "2h1kh2YbDbbB"
      },
      "source": [
        "7) Select all the columns containing ‘obstacle’ in their name"
      ]
    },
    {
      "cell_type": "code",
      "metadata": {
        "id": "WOxecBTuDdyV"
      },
      "source": [],
      "execution_count": null,
      "outputs": []
    },
    {
      "cell_type": "markdown",
      "metadata": {
        "id": "OfTOsYD7DeHt"
      },
      "source": [
        "8) Select all rows with null values for 'sens_de_Circulation' column"
      ]
    },
    {
      "cell_type": "code",
      "metadata": {
        "id": "QnFlP7BjDgBi"
      },
      "source": [],
      "execution_count": null,
      "outputs": []
    },
    {
      "cell_type": "markdown",
      "metadata": {
        "id": "8-Iuvmt6DgRV"
      },
      "source": [
        "9) Sort the data frame using the accident number column"
      ]
    },
    {
      "cell_type": "code",
      "metadata": {
        "id": "MZnZU22pDiMI"
      },
      "source": [],
      "execution_count": null,
      "outputs": []
    },
    {
      "cell_type": "markdown",
      "metadata": {
        "id": "I0JWEOmODikc"
      },
      "source": [
        "10) Sort the values using the accident number column, then the vehicle category column"
      ]
    },
    {
      "cell_type": "code",
      "metadata": {
        "id": "SbrB8ixEDlDX"
      },
      "source": [],
      "execution_count": null,
      "outputs": []
    },
    {
      "cell_type": "markdown",
      "metadata": {
        "id": "UP_OrI7nDlUW"
      },
      "source": [
        "11) Select the 4153rd row. Then select row having index '4153'. What is the difference between both?"
      ]
    },
    {
      "cell_type": "code",
      "metadata": {
        "id": "b_jyAwDcDoNC"
      },
      "source": [],
      "execution_count": null,
      "outputs": []
    },
    {
      "cell_type": "markdown",
      "metadata": {
        "id": "8VzWN-27Dobm"
      },
      "source": [
        "12)  Set Num_Acc as index\n",
        "\n",
        "a. Make sure to use `inplace=True to save the value in the dataframe\n",
        "\n",
        "b. Can you still get the row having index '4153'? Explain.\n",
        "\n",
        "c. Finally, Restore the index as it was before."
      ]
    },
    {
      "cell_type": "code",
      "metadata": {
        "id": "c3z1swQiDvg6"
      },
      "source": [],
      "execution_count": null,
      "outputs": []
    },
    {
      "cell_type": "markdown",
      "metadata": {
        "id": "WjhJw8BaB0bG"
      },
      "source": [
        "#### Exploratory Data Analysis - Queries\n",
        "\n",
        "13) Select accident that have a vehicle number W23"
      ]
    },
    {
      "cell_type": "code",
      "metadata": {
        "id": "Hbs8rR9PD0cg"
      },
      "source": [],
      "execution_count": null,
      "outputs": []
    },
    {
      "cell_type": "markdown",
      "metadata": {
        "id": "m-IbJNSLD0u-"
      },
      "source": [
        "14) Select the top 5 accidents that caused the most damage"
      ]
    },
    {
      "cell_type": "code",
      "metadata": {
        "id": "hCt37rW2D22y"
      },
      "source": [],
      "execution_count": null,
      "outputs": []
    },
    {
      "cell_type": "markdown",
      "metadata": {
        "id": "IL8dplt1D3E4"
      },
      "source": [
        "15) Count the number of damaged vehicles, by vehicle category and number of occupants"
      ]
    },
    {
      "cell_type": "code",
      "metadata": {
        "id": "QiklFHdHD5me"
      },
      "source": [],
      "execution_count": null,
      "outputs": []
    },
    {
      "cell_type": "markdown",
      "metadata": {
        "id": "AJlKOSxbD6Na"
      },
      "source": [
        "16) From the previous result, select category vehicle '40', having '140' occupants"
      ]
    },
    {
      "cell_type": "code",
      "metadata": {
        "id": "yL0hlNK-D86F"
      },
      "source": [],
      "execution_count": null,
      "outputs": []
    },
    {
      "cell_type": "markdown",
      "metadata": {
        "id": "xnjOpe1TD9UI"
      },
      "source": [
        "17) Calculate the number of occupants by vehicle category"
      ]
    },
    {
      "cell_type": "code",
      "metadata": {
        "id": "1nqh2CWYD_so"
      },
      "source": [],
      "execution_count": null,
      "outputs": []
    },
    {
      "cell_type": "markdown",
      "metadata": {
        "id": "ybTRlye3D_5c"
      },
      "source": [
        "18) Compute the number of damages per vehicle category"
      ]
    },
    {
      "cell_type": "code",
      "metadata": {
        "id": "uNkeDgBpEB5W"
      },
      "source": [],
      "execution_count": null,
      "outputs": []
    },
    {
      "cell_type": "markdown",
      "metadata": {
        "id": "lX2BQaALECM5"
      },
      "source": [
        "19) Select all the lines with a category vehicle between 37 and 40 inclusive. (These values correspond to public transport)"
      ]
    },
    {
      "cell_type": "code",
      "metadata": {
        "id": "aPai1idrEGY6"
      },
      "source": [],
      "execution_count": null,
      "outputs": []
    },
    {
      "cell_type": "markdown",
      "metadata": {
        "id": "TTNJP-dLEHCE"
      },
      "source": [
        "20) Create a new column with a Boolean value, showing whether the accident happened in public transport or not"
      ]
    },
    {
      "cell_type": "code",
      "metadata": {
        "id": "GWGmeZ2REJyJ"
      },
      "source": [],
      "execution_count": null,
      "outputs": []
    },
    {
      "cell_type": "markdown",
      "metadata": {
        "id": "pNNyWRdQEKHF"
      },
      "source": [
        "21) Check that the new column is working well. For this, it is necessary to verify that the number of occupants in vehicles excluding public transport is equal to 0. Contrary to what we can see in the data in the other group."
      ]
    },
    {
      "cell_type": "code",
      "metadata": {
        "id": "n8qTLp4XEMPc"
      },
      "source": [],
      "execution_count": null,
      "outputs": []
    },
    {
      "cell_type": "markdown",
      "metadata": {
        "id": "lfNthheZEMor"
      },
      "source": [
        "22) Create a new dataframe, which contains only public transport accidents"
      ]
    },
    {
      "cell_type": "code",
      "metadata": {
        "id": "xMkEPtw2EO9v"
      },
      "source": [],
      "execution_count": null,
      "outputs": []
    },
    {
      "cell_type": "markdown",
      "metadata": {
        "id": "KYlgN7zuEPLK"
      },
      "source": [
        "23) Obtain the average number of occupants by vehicle category, and sort the result"
      ]
    },
    {
      "cell_type": "code",
      "metadata": {
        "id": "HfRBdYz5EQ_9"
      },
      "source": [],
      "execution_count": null,
      "outputs": []
    },
    {
      "cell_type": "markdown",
      "metadata": {
        "id": "R6xgyhqMERPJ"
      },
      "source": [
        "24) Map the vehicle category, obstacles (fixed and mobile) using the dictionary defined in mapping.py (you can use the mapping.py file, but you can also create your own mappings)."
      ]
    },
    {
      "cell_type": "code",
      "metadata": {
        "id": "5YNOuZo3ETKV"
      },
      "source": [
        "from mapping import *"
      ],
      "execution_count": null,
      "outputs": []
    },
    {
      "cell_type": "markdown",
      "metadata": {
        "id": "MIc1dQklB6li"
      },
      "source": [
        "#### Heat Map - Vehicle Category vs Accident Moving Obstacle"
      ]
    },
    {
      "cell_type": "markdown",
      "metadata": {
        "id": "e0oo5Cv2CC-N"
      },
      "source": [
        "25) Create a new database, projecting the category of the vehicle in relation to the moving obstacle. \n",
        "\n",
        "The values of the data frame will be the sum of the respective occupant numbers. \n",
        "\n",
        "This database can be referred to as a heat map of the number of accidents by type of transport and obstacle."
      ]
    },
    {
      "cell_type": "code",
      "metadata": {
        "id": "6mcPyxtXCJ33"
      },
      "source": [],
      "execution_count": null,
      "outputs": []
    },
    {
      "cell_type": "markdown",
      "metadata": {
        "id": "Ue8jp_doCLLj"
      },
      "source": [
        "26) Using the previous results, obtain the most dangerous mode of transport for the public."
      ]
    },
    {
      "cell_type": "code",
      "metadata": {
        "id": "38eBzqcXCLuF"
      },
      "source": [],
      "execution_count": null,
      "outputs": []
    },
    {
      "cell_type": "markdown",
      "metadata": {
        "id": "tD11bVAmCMNi"
      },
      "source": [
        "27) Sort the heatmap from the most dangerous to the least dangerous means of transport."
      ]
    },
    {
      "cell_type": "code",
      "metadata": {
        "id": "Td3-GlYGCU99"
      },
      "source": [],
      "execution_count": null,
      "outputs": []
    },
    {
      "cell_type": "markdown",
      "metadata": {
        "id": "oz1G6HmSCVO9"
      },
      "source": [
        "28) Get the most dangerous moving obstacle when using public tranpsortation."
      ]
    },
    {
      "cell_type": "code",
      "metadata": {
        "id": "oqkRLAw0CbQg"
      },
      "source": [],
      "execution_count": null,
      "outputs": []
    },
    {
      "cell_type": "markdown",
      "metadata": {
        "id": "qtCAEoMbCa2H"
      },
      "source": [
        "29) Sort the heat map from the most dangerous to the least dangerous entity (means of transport, and moving obstacle)"
      ]
    },
    {
      "cell_type": "code",
      "metadata": {
        "id": "P-Y6uV7VChyy"
      },
      "source": [],
      "execution_count": null,
      "outputs": []
    }
  ]
}