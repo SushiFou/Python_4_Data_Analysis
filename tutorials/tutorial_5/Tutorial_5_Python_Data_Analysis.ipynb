{
  "nbformat": 4,
  "nbformat_minor": 0,
  "metadata": {
    "colab": {
      "name": "Tutorial_5_Python_Data_Analysis.ipynb",
      "provenance": []
    },
    "kernelspec": {
      "name": "python3",
      "display_name": "Python 3"
    },
    "language_info": {
      "name": "python"
    }
  },
  "cells": [
    {
      "cell_type": "markdown",
      "metadata": {
        "id": "SCdJqAFfiOqE"
      },
      "source": [
        "# Tutorial 5 - Python For Data Analysis 🐍 \n",
        "\n",
        "---\n",
        "\n",
        "## Scikit Learn 💫"
      ]
    },
    {
      "cell_type": "markdown",
      "metadata": {
        "id": "Hs9vhDobigi_"
      },
      "source": [
        "### *Table of Contents*\n",
        "\n",
        "- Supervised Learning 🔎\n",
        "  - [Exercise 1](#exercise-1) \n",
        "  - [Exercice 2](#exercise-2) "
      ]
    },
    {
      "cell_type": "markdown",
      "metadata": {
        "id": "sNte2IxeioDM"
      },
      "source": [
        "## Requirements"
      ]
    },
    {
      "cell_type": "code",
      "metadata": {
        "id": "3moLlz1RiF1h"
      },
      "source": [
        "from sklearn import datasets"
      ],
      "execution_count": 1,
      "outputs": []
    },
    {
      "cell_type": "markdown",
      "metadata": {
        "id": "rZRMVHA4ip7M"
      },
      "source": [
        "## Supervised Learning"
      ]
    },
    {
      "cell_type": "markdown",
      "metadata": {
        "id": "knAozH66ir9P"
      },
      "source": [
        "### Exercice 1\n",
        "---"
      ]
    },
    {
      "cell_type": "markdown",
      "metadata": {
        "id": "ANyKEhEEiuAr"
      },
      "source": [
        "#### 1) Load and return the boston dataset from sklearn.datasets"
      ]
    },
    {
      "cell_type": "code",
      "metadata": {
        "id": "UFiX043KizRZ"
      },
      "source": [
        ""
      ],
      "execution_count": null,
      "outputs": []
    },
    {
      "cell_type": "markdown",
      "metadata": {
        "id": "K3daU58aizrS"
      },
      "source": [
        "#### 2) Split the boston dataset into train data and test data"
      ]
    },
    {
      "cell_type": "code",
      "metadata": {
        "id": "utbx2z0Bi8BJ"
      },
      "source": [
        ""
      ],
      "execution_count": null,
      "outputs": []
    },
    {
      "cell_type": "markdown",
      "metadata": {
        "id": "HHdxuTOei8OK"
      },
      "source": [
        "#### 3) Standardize the data."
      ]
    },
    {
      "cell_type": "code",
      "metadata": {
        "id": "KWPlSjfki_F7"
      },
      "source": [
        ""
      ],
      "execution_count": null,
      "outputs": []
    },
    {
      "cell_type": "markdown",
      "metadata": {
        "id": "Hj9nZvaRi_X3"
      },
      "source": [
        "#### 4) Train or fit the data into a model using the Support Vector Machine Learning algorithm and test it."
      ]
    },
    {
      "cell_type": "code",
      "metadata": {
        "id": "9OX2g6zOjFah"
      },
      "source": [
        ""
      ],
      "execution_count": null,
      "outputs": []
    },
    {
      "cell_type": "markdown",
      "metadata": {
        "id": "opWFDq9ajFqu"
      },
      "source": [
        "#### 5) Select the best hyperparameters of the model using GridSearch."
      ]
    },
    {
      "cell_type": "code",
      "metadata": {
        "id": "YFKttepRjLJB"
      },
      "source": [
        ""
      ],
      "execution_count": null,
      "outputs": []
    },
    {
      "cell_type": "markdown",
      "metadata": {
        "id": "4X4ahiZEjLYN"
      },
      "source": [
        "#### 6) Create a function to test the different hyperparameters."
      ]
    },
    {
      "cell_type": "code",
      "metadata": {
        "id": "hpoecynukeN3"
      },
      "source": [
        ""
      ],
      "execution_count": null,
      "outputs": []
    },
    {
      "cell_type": "markdown",
      "metadata": {
        "id": "qgyc34ZqkeYK"
      },
      "source": [
        "#### 7) Train or fit the data using other algorithms."
      ]
    },
    {
      "cell_type": "code",
      "metadata": {
        "id": "Ev2HPMbzkjEz"
      },
      "source": [
        ""
      ],
      "execution_count": null,
      "outputs": []
    },
    {
      "cell_type": "markdown",
      "metadata": {
        "id": "nRyXIGHTkjUE"
      },
      "source": [
        "#### 8) Compare the performance of the different algorithms. Which is the best Model ?"
      ]
    },
    {
      "cell_type": "code",
      "metadata": {
        "id": "3_Kk2kOkkqDd"
      },
      "source": [
        ""
      ],
      "execution_count": null,
      "outputs": []
    },
    {
      "cell_type": "markdown",
      "metadata": {
        "id": "h9Ytz1uOkqvm"
      },
      "source": [
        "### Exercice 2\n",
        "---"
      ]
    },
    {
      "cell_type": "markdown",
      "metadata": {
        "id": "V1GedeKzktn4"
      },
      "source": [
        "#### 1) Load and return the dataset titanic from seaborn library."
      ]
    },
    {
      "cell_type": "code",
      "metadata": {
        "id": "fgfceQEzkylk"
      },
      "source": [
        ""
      ],
      "execution_count": null,
      "outputs": []
    },
    {
      "cell_type": "markdown",
      "metadata": {
        "id": "AGMOFAWJkyv0"
      },
      "source": [
        "#### 2) Use different machine learning models to predict the survival of titanic passengers."
      ]
    },
    {
      "cell_type": "code",
      "metadata": {
        "id": "82MnZPBok4wx"
      },
      "source": [
        ""
      ],
      "execution_count": null,
      "outputs": []
    },
    {
      "cell_type": "markdown",
      "metadata": {
        "id": "XFCHxZCjk5Ch"
      },
      "source": [
        "#### 3) Which is the best model?"
      ]
    },
    {
      "cell_type": "code",
      "metadata": {
        "id": "DOfFFzNZk7s7"
      },
      "source": [
        ""
      ],
      "execution_count": null,
      "outputs": []
    }
  ]
}