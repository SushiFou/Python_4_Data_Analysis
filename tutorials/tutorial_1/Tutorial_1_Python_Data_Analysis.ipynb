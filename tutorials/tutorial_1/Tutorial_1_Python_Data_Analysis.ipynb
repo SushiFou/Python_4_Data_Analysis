{
  "cells": [
    {
      "cell_type": "markdown",
      "metadata": {
        "colab_type": "text",
        "id": "view-in-github"
      },
      "source": [
        "<a href=\"https://colab.research.google.com/github/SushiFou/Python_4_Data_Analysis/blob/main/tutorials/tutorial_1/Tutorial_1_Python_Data_Analysis.ipynb\" target=\"_parent\"><img src=\"https://colab.research.google.com/assets/colab-badge.svg\" alt=\"Open In Colab\"/></a>"
      ]
    },
    {
      "cell_type": "markdown",
      "metadata": {
        "id": "vDFIUnEwTEap"
      },
      "source": [
        "# Tutorial 1 - Python For Data Analysis 🐍 \n",
        "\n",
        "---\n",
        "\n",
        "## Basics of Python 🌱 "
      ]
    },
    {
      "cell_type": "markdown",
      "metadata": {
        "id": "4vZmx4svsEWM"
      },
      "source": [
        "### *Table of Contents*\n",
        "\n",
        "- [Exercise 1](#exercise-1) : List\n",
        "- [Exercise 2](#exercise-2) : Lambda\n",
        "- [Exercise 3](#exercise-3) : Dictionary\n",
        "- [Exercise 4](#exercise-4) : Tuples, Sets\n",
        "- [Exercice 5](#exercise-5) : Dates\n",
        "- [Exercise 6](#exercise-6) : File I/O\n",
        "\n",
        "If you have any questions or remarks about the course or this tutorial, feel free to contact imen.ouled_dlala@devinci.fr or yann.kervella.pro@gmail.com ! 😊"
      ]
    },
    {
      "cell_type": "markdown",
      "metadata": {
        "id": "FLqTjhd4y0Ts"
      },
      "source": [
        "### Requirements"
      ]
    },
    {
      "cell_type": "code",
      "execution_count": null,
      "metadata": {
        "id": "690W_WeZyzqk"
      },
      "outputs": [],
      "source": [
        "from datetime import datetime, date, time, timedelta\n",
        "import pytz\n",
        "import re"
      ]
    },
    {
      "cell_type": "markdown",
      "metadata": {
        "id": "JpFs22a7YTve"
      },
      "source": [
        "<a name=\"exercise-1\">\n",
        "\n",
        "### Exercise 1 : List\n",
        "---\n",
        "\n",
        "• Write a program to print a specified list after removing the 0th, 4th and 5th elements. \n",
        "\n",
        "- *Sample List*: ['Red', 'Green', 'White', 'Black', 'Pink', 'Yellow']\n",
        "\n",
        "- *Expected Output*: ['Green', 'White', 'Black']\n",
        "\n",
        "\n"
      ]
    },
    {
      "cell_type": "code",
      "execution_count": null,
      "metadata": {
        "id": "tll-PnLLp3Dr"
      },
      "outputs": [],
      "source": []
    },
    {
      "cell_type": "markdown",
      "metadata": {
        "id": "L-kRPYHtpyn6"
      },
      "source": [
        "• Write a program to check whether two lists are circularly identical.\n"
      ]
    },
    {
      "cell_type": "code",
      "execution_count": null,
      "metadata": {
        "id": "jN8JwO1Sp3n9"
      },
      "outputs": [],
      "source": []
    },
    {
      "cell_type": "markdown",
      "metadata": {
        "id": "labqqrPEp0WZ"
      },
      "source": [
        "• Giving the following list [33, 56, 4, 80, 23, 100, 1, 0, 40, 11], write a program to extract:\n",
        "- the elements from 0 (included) to 7 (excluded)\n",
        "- the last element of the list\n",
        "- the last 3 elements of the list\n",
        "\n",
        "\n"
      ]
    },
    {
      "cell_type": "code",
      "execution_count": null,
      "metadata": {
        "id": "KxqdxuKep4B6"
      },
      "outputs": [],
      "source": []
    },
    {
      "cell_type": "markdown",
      "metadata": {
        "id": "_71yk3m5p2ZL"
      },
      "source": [
        "• Write a program to get a list, sorted in increasing order by the last element in each tuple from a given list of non-empty tuples.\n",
        "\n",
        "- *Sample List* : [(2, 5), (1, 2), (4, 4), (2, 3), (2, 1)] \n",
        "\n",
        "- *Expected Result* : [(2, 1), (1, 2), (2, 3), (4, 4), (2, 5)]"
      ]
    },
    {
      "cell_type": "code",
      "execution_count": null,
      "metadata": {
        "id": "Kilm6EzSp4mV"
      },
      "outputs": [],
      "source": []
    },
    {
      "cell_type": "markdown",
      "metadata": {
        "id": "EzJfdnlaT0cp"
      },
      "source": [
        "<a name=\"exercise-2\">\n",
        "\n",
        "### Exercise 2\n",
        "---\n",
        "\n",
        "• Write a program to **square and cube** every number in a given list of integers using **Lambda**.\n",
        "\n",
        "- Original list of integers:\n",
        "[1, 2, 3, 4, 5, 6, 7, 8, 9, 10]\n",
        "\n",
        "- Square every number of the said list:\n",
        "[1, 4, 9, 16, 25, 36, 49, 64, 81, 100]\n",
        "\n",
        "- Cube every number of the said list:\n",
        "[1, 8, 27, 64, 125, 216, 343, 512, 729, 1000]"
      ]
    },
    {
      "cell_type": "code",
      "execution_count": null,
      "metadata": {
        "id": "1ebs9VAuqGCX"
      },
      "outputs": [],
      "source": []
    },
    {
      "cell_type": "markdown",
      "metadata": {
        "id": "Mb25kK7nTD26"
      },
      "source": [
        "<a name=\"exercise-3\">\n",
        "\n",
        "### Exercise 3 : Dictionary\n",
        "\n",
        "---\n",
        "\n",
        "• Write a script to check whether a given key already exists in a dictionary.\n",
        "\n"
      ]
    },
    {
      "cell_type": "code",
      "execution_count": null,
      "metadata": {
        "id": "4a11mMGSjNse"
      },
      "outputs": [],
      "source": [
        "sample_dict = {\"name\": \"Jefferson\", \"birth_date\": \"1999-21-09\", \"gender\": \"Male\"}"
      ]
    },
    {
      "cell_type": "code",
      "execution_count": null,
      "metadata": {
        "id": "z6Lw29geqvse"
      },
      "outputs": [],
      "source": []
    },
    {
      "cell_type": "markdown",
      "metadata": {
        "id": "bNakccKyqyIE"
      },
      "source": [
        "• Write a program to iterate over dictionaries using for loops.\n"
      ]
    },
    {
      "cell_type": "code",
      "execution_count": null,
      "metadata": {
        "id": "Yey6IhTiqaPQ"
      },
      "outputs": [],
      "source": []
    },
    {
      "cell_type": "markdown",
      "metadata": {
        "id": "lboerwu5qzhj"
      },
      "source": [
        "• Write a script to generate and print a dictionary that contains a number (between 1 and n) in the form (x, x*x).\n",
        "\n",
        "- Sample Dictionary: (n = 5)\n",
        "- Expected Output: {1: 1, 2: 4, 3: 9, 4: 16, 5: 25}\n"
      ]
    },
    {
      "cell_type": "code",
      "execution_count": null,
      "metadata": {
        "id": "WaMO5zivqz1c"
      },
      "outputs": [],
      "source": []
    },
    {
      "cell_type": "markdown",
      "metadata": {
        "id": "LUlJTVINq34S"
      },
      "source": [
        "• Write a program to map two lists into a dictionary."
      ]
    },
    {
      "cell_type": "code",
      "execution_count": null,
      "metadata": {
        "id": "sSIY9O9wjUK9"
      },
      "outputs": [],
      "source": [
        "list1 = [\"name\", \"birth_date\", \"gender\"]\n",
        "list2 = [\"Jessica\", \"1999-04-05\", \"Female\"]"
      ]
    },
    {
      "cell_type": "code",
      "execution_count": null,
      "metadata": {
        "id": "YfuVeqCgq4jF"
      },
      "outputs": [],
      "source": []
    },
    {
      "cell_type": "markdown",
      "metadata": {
        "id": "RfTIualkqLuO"
      },
      "source": [
        "<a name=\"exercise-4\">\n",
        "\n",
        "### Exercise 4 : Tuples & Sets\n",
        "\n",
        "---\n",
        "• Write a program to compute element-wise sum of given tuples. \n",
        "- Original lists:\n",
        "(1, 2, 3, 4) (3, 5, 2, 1) (2, 2, 3, 1)\n",
        "- Element-wise sum of the said tuples:\n",
        "(6, 9, 8, 6)"
      ]
    },
    {
      "cell_type": "code",
      "execution_count": null,
      "metadata": {
        "id": "HX51VZZTqai7"
      },
      "outputs": [],
      "source": []
    },
    {
      "cell_type": "markdown",
      "metadata": {
        "id": "c8JK4pWBrDXY"
      },
      "source": [
        "• Write a Python program to convert a tuple to a dictionary"
      ]
    },
    {
      "cell_type": "code",
      "execution_count": null,
      "metadata": {
        "id": "-bmqgodFrENX"
      },
      "outputs": [],
      "source": []
    },
    {
      "cell_type": "markdown",
      "metadata": {
        "id": "pLvO5ho7qMIq"
      },
      "source": [
        "<a name=\"exercise-5\">\n",
        "\n",
        "### Exercise 5 : Dates\n",
        "\n",
        "---\n",
        "• Write a Python program to get the current time. \n",
        "- Sample Format: 13:19:49.078205"
      ]
    },
    {
      "cell_type": "code",
      "execution_count": null,
      "metadata": {
        "id": "Kpi8L46Aqa2n"
      },
      "outputs": [],
      "source": []
    },
    {
      "cell_type": "markdown",
      "metadata": {
        "id": "9jSxS7yGrJdy"
      },
      "source": [
        "• Write a Python program to subtract five days from current date. \n",
        "- Sample Date:\n",
        "- Current Date: 2015-06-22\n",
        "- 5 days before Current Date : 2015-06-1"
      ]
    },
    {
      "cell_type": "code",
      "execution_count": null,
      "metadata": {
        "id": "xmGmeZzGrJxT"
      },
      "outputs": [],
      "source": []
    },
    {
      "cell_type": "markdown",
      "metadata": {
        "id": "jf5pU_5frJ9k"
      },
      "source": [
        "• Write a Python program to print yesterday, today, tomorrow"
      ]
    },
    {
      "cell_type": "code",
      "execution_count": null,
      "metadata": {
        "id": "pnfsJE_DrLN7"
      },
      "outputs": [],
      "source": []
    },
    {
      "cell_type": "markdown",
      "metadata": {
        "id": "9PDdb6vqrLcJ"
      },
      "source": [
        "• Write a Python program to get week number.\n",
        "- Sample Date : 2015, 6, 16 \n",
        "- Expected Output : 25"
      ]
    },
    {
      "cell_type": "code",
      "execution_count": null,
      "metadata": {
        "id": "jwEi-R9jrL1y"
      },
      "outputs": [],
      "source": []
    },
    {
      "cell_type": "markdown",
      "metadata": {
        "id": "Ax4N_WSLrdA7"
      },
      "source": [
        "• Write a Python program to calculate a number of days between two dates"
      ]
    },
    {
      "cell_type": "code",
      "execution_count": null,
      "metadata": {
        "id": "AeMcc8ePrd95"
      },
      "outputs": [],
      "source": []
    },
    {
      "cell_type": "markdown",
      "metadata": {
        "id": "CyHCE-dZqMb-"
      },
      "source": [
        "<a name=\"exercise-6\">\n",
        "\n",
        "### Exercise 6 : File I/O\n",
        "\n",
        "---\n",
        "• Write a Python program to count the number of lines in a text file"
      ]
    },
    {
      "cell_type": "code",
      "execution_count": null,
      "metadata": {
        "id": "t98dO2T0qbHK"
      },
      "outputs": [],
      "source": []
    },
    {
      "cell_type": "markdown",
      "metadata": {
        "id": "n19_Rg0sqf6H"
      },
      "source": [
        "• Write a Python program to assess if a file is closed or not\n"
      ]
    },
    {
      "cell_type": "code",
      "execution_count": null,
      "metadata": {
        "id": "6VKrc_1NqhKY"
      },
      "outputs": [],
      "source": []
    },
    {
      "cell_type": "markdown",
      "metadata": {
        "id": "WxgHAFb4qhnC"
      },
      "source": [
        "• Write a Python program to append text to a file and display the text\n"
      ]
    },
    {
      "cell_type": "code",
      "execution_count": null,
      "metadata": {
        "id": "OR-DpP9BqivV"
      },
      "outputs": [],
      "source": []
    },
    {
      "cell_type": "markdown",
      "metadata": {
        "id": "ZEt-WWckqjSN"
      },
      "source": [
        "• Write a Python program to count the frequency of words in a file."
      ]
    },
    {
      "cell_type": "code",
      "execution_count": null,
      "metadata": {
        "id": "fWXNHF6LqkId"
      },
      "outputs": [],
      "source": []
    },
    {
      "cell_type": "markdown",
      "metadata": {
        "id": "GhMKdGQwi9gA"
      },
      "source": [
        "## Good job, you finished the first tutorial ! 😎"
      ]
    }
  ],
  "metadata": {
    "colab": {
      "authorship_tag": "ABX9TyOsk8AdOFOg/2ese/ifSCq3",
      "include_colab_link": true,
      "name": "Tutorial_1_Python_Data_Analysis.ipynb",
      "provenance": [],
      "toc_visible": true
    },
    "kernelspec": {
      "display_name": "Python 3.9.12 64-bit",
      "language": "python",
      "name": "python3"
    },
    "language_info": {
      "name": "python",
      "version": "3.9.12"
    },
    "vscode": {
      "interpreter": {
        "hash": "b0fa6594d8f4cbf19f97940f81e996739fb7646882a419484c72d19e05852a7e"
      }
    }
  },
  "nbformat": 4,
  "nbformat_minor": 0
}
