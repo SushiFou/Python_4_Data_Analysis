{
  "nbformat": 4,
  "nbformat_minor": 0,
  "metadata": {
    "colab": {
      "provenance": [],
      "toc_visible": true
    },
    "kernelspec": {
      "name": "python3",
      "display_name": "Python 3"
    },
    "language_info": {
      "name": "python"
    }
  },
  "cells": [
    {
      "cell_type": "markdown",
      "metadata": {
        "id": "cYcPlmKPXdj3"
      },
      "source": [
        "# Tutorial 4 - Python For Data Analysis 🐍 \n",
        "---\n",
        "## 📈 Matplotlib & Seaborn 📉"
      ]
    },
    {
      "cell_type": "markdown",
      "metadata": {
        "id": "8ERC7ZYgfQAj"
      },
      "source": [
        "### *Table of Contents*\n",
        "\n",
        "  - [Exercise 1](#exercise-1) : Matplotlib Basics\n",
        "  - [Exercise 2](#exercise-2) : Matplotlib's Object Oriented API\n",
        "  - [Exercise 3](#exercise-3) : Pandas Built-in\n",
        "  - [Exercise 4](#exercise-4) : Traffic accidents - Seaborn\n"
      ]
    },
    {
      "cell_type": "markdown",
      "metadata": {
        "id": "uvZZ7ZCQ9oQk"
      },
      "source": [
        "## Imports"
      ]
    },
    {
      "cell_type": "code",
      "metadata": {
        "id": "hr_d8lnD9nZ2"
      },
      "source": [
        "import pandas as pd\n",
        "import numpy as np\n",
        "import seaborn as sns\n",
        "import matplotlib.pyplot as plt\n",
        "import matplotlib\n",
        "\n",
        "#Affichage avec la bibliothèque graphique intégrée à Notebook\n",
        "%matplotlib inline"
      ],
      "execution_count": null,
      "outputs": []
    },
    {
      "cell_type": "markdown",
      "metadata": {
        "id": "RPXkdEl7laNO"
      },
      "source": [
        "<a name=\"exercise-1\">\n",
        "\n",
        "### Exercise 1 : Matplotlib Basics \n",
        "---"
      ]
    },
    {
      "cell_type": "markdown",
      "metadata": {
        "id": "GpdR3kvnt7hB"
      },
      "source": [
        "#### 1) Create `x` and `y`NumPy arrays, such as `x` have values from 1 to 5, with a 0.5 step.\n",
        "‘y’ will be the square of ‘x’. Then, create a plot using ‘x’ and ‘y’."
      ]
    },
    {
      "cell_type": "code",
      "metadata": {
        "id": "1QTMvJyTuK9s"
      },
      "source": [],
      "execution_count": null,
      "outputs": []
    },
    {
      "cell_type": "markdown",
      "metadata": {
        "id": "SWziij71uOL3"
      },
      "source": [
        "#### 2) On the same plot, add a title for the graph, x axis and y axis "
      ]
    },
    {
      "cell_type": "code",
      "metadata": {
        "id": "hHYrHsmduVEx"
      },
      "source": [],
      "execution_count": null,
      "outputs": []
    },
    {
      "cell_type": "markdown",
      "metadata": {
        "id": "q7Oxa45LuVaq"
      },
      "source": [
        "#### 3) Change the color of the line. Where can you find all named colors known by matplotlib?"
      ]
    },
    {
      "cell_type": "code",
      "metadata": {
        "id": "xjkU6fZDud-Q"
      },
      "source": [],
      "execution_count": null,
      "outputs": []
    },
    {
      "cell_type": "markdown",
      "metadata": {
        "id": "E4YIaj0wueYZ"
      },
      "source": [
        "#### 4) Create a multiplot having 2 rows and 2 columns. Such as : "
      ]
    },
    {
      "cell_type": "markdown",
      "metadata": {
        "id": "IYCAp7tyulyq"
      },
      "source": [
        "a) First plot containing $y=x^2$"
      ]
    },
    {
      "cell_type": "markdown",
      "metadata": {
        "id": "Ik4PS2UQuv64"
      },
      "source": [
        "b) Second plot containing $y=x^3$"
      ]
    },
    {
      "cell_type": "markdown",
      "metadata": {
        "id": "yY1yRurZu1Q1"
      },
      "source": [
        "c) (second row) Third plot containing $y=log(x)$"
      ]
    },
    {
      "cell_type": "markdown",
      "metadata": {
        "id": "xtZpLPOXu8k1"
      },
      "source": [
        "d) Fourth plot containing $y=e^x$"
      ]
    },
    {
      "cell_type": "code",
      "metadata": {
        "id": "KyiShBVWvBm1"
      },
      "source": [],
      "execution_count": null,
      "outputs": []
    },
    {
      "cell_type": "markdown",
      "metadata": {
        "id": "GSrwdxkslbDr"
      },
      "source": [
        "<a name=\"exercise-2\">\n",
        "\n",
        "### Exercise 2 : Matplotlib's Object Oriented API\n",
        "---"
      ]
    },
    {
      "cell_type": "markdown",
      "metadata": {
        "id": "tldiqlmPvCZb"
      },
      "source": [
        "Matplotlib have an object-oriented API used to create more complex figures. Code is a\n",
        "little more complicated, but the advantage is that we now have full control of where the plot axes. Here’s a good read when exploring matplotlib \n",
        "\n",
        "https://github.com/rougier/matplotlibtutorial"
      ]
    },
    {
      "cell_type": "markdown",
      "metadata": {
        "id": "10R8eoi9vJGG"
      },
      "source": [
        "#### 1) Create the same chart as 1.1 using the new method: instantiate figure objects and then call methods or attributes from that object."
      ]
    },
    {
      "cell_type": "code",
      "metadata": {
        "id": "JiA87HLZvIPK"
      },
      "source": [],
      "execution_count": null,
      "outputs": []
    },
    {
      "cell_type": "markdown",
      "metadata": {
        "id": "APE4jhZqvXeY"
      },
      "source": [
        "#### 2) Create the figure below (the blue curve represents $y=x^2$ while the red curve represents $x=y^2$)"
      ]
    },
    {
      "cell_type": "code",
      "metadata": {
        "id": "Gf6Zyqevvr2p"
      },
      "source": [],
      "execution_count": null,
      "outputs": []
    },
    {
      "cell_type": "markdown",
      "metadata": {
        "id": "bhPUekvVvrWH"
      },
      "source": [
        "#### 3) Explore colors and markers style. Create a new chart, such as x goes from 0 to 10, and $y=x+index$.\n",
        "\n",
        "*index* is the number of curves you're going to draw. For example, the first curve will match $y=x+0$, the second $y=x+1$, etc...\n",
        "\n",
        "Create multiple combinations of differents colors, markers & marker size in this graphic. Here's an example using three curves:"
      ]
    },
    {
      "cell_type": "code",
      "metadata": {
        "id": "2ndRSRv3wU4R"
      },
      "source": [],
      "execution_count": null,
      "outputs": []
    },
    {
      "cell_type": "markdown",
      "metadata": {
        "id": "YesnKuwHwVNN"
      },
      "source": [
        "#### 4) Create the same subplots you've created in 1.4 using matplotlib API (use `plt.subplots()`"
      ]
    },
    {
      "cell_type": "markdown",
      "metadata": {
        "id": "f0yd96bBwfh6"
      },
      "source": [
        "a. Add a title for each plot ‘title 1’, ‘title 2’, etc.\n",
        "\n",
        "b. Add an x axis and y axis label for each plot (for example, x-axis: X, y-axis: f(x)= x^2\n",
        "\n",
        "c. Use figsize to make it clearer\n",
        "\n",
        "d. Show legend on chart\n",
        "\n",
        "e. Differentiate between each graph using a different color and markers\n",
        "\n",
        "\n"
      ]
    },
    {
      "cell_type": "code",
      "metadata": {
        "id": "-qvRQmApw2TY"
      },
      "source": [],
      "execution_count": null,
      "outputs": []
    },
    {
      "cell_type": "markdown",
      "metadata": {
        "id": "wtaBmRPjlblg"
      },
      "source": [
        "<a name=\"exercise-3\">\n",
        "\n",
        "### Exercise 3 : Pandas Built-in\n",
        "---"
      ]
    },
    {
      "cell_type": "markdown",
      "metadata": {
        "id": "kjoAbXU4w50H"
      },
      "source": [
        "On every plot graph, you can use plt.style.use(theme) to change the style of your plot. https://matplotlib.org/stable/gallery/style_sheets/style_sheets_reference.html\n",
        "\n",
        "You can find all available graphs on pandas here:\n",
        "https://pandas.pydata.org/docs/reference/api/pandas.DataFrame.plot.html"
      ]
    },
    {
      "cell_type": "markdown",
      "metadata": {
        "id": "_R45zP0P2BYO"
      },
      "source": [
        "#### 1) Create a pandas dataframe, having 5000 rows and 4 random columns. First column should be called ‘col_1’, second one ‘col_2’, etc."
      ]
    },
    {
      "cell_type": "code",
      "metadata": {
        "id": "oFzh36a02Bs8"
      },
      "source": [],
      "execution_count": null,
      "outputs": []
    },
    {
      "cell_type": "markdown",
      "metadata": {
        "id": "d_L3sJuy2KMg"
      },
      "source": [
        "#### 2) Using pandas built-in visualization, create a scatter plot that will show col_1 vs col_2. Try it again with col_3 vs col_4.\n",
        "Hint: use df.plot.scatter"
      ]
    },
    {
      "cell_type": "code",
      "metadata": {
        "id": "jJFLZjjm2Jru"
      },
      "source": [],
      "execution_count": null,
      "outputs": []
    },
    {
      "cell_type": "markdown",
      "metadata": {
        "id": "P6WJSJ1t2NZV"
      },
      "source": [
        "#### 3) On the first plot, add col_3 as a color column, and col_4 as a size column. This means that the more col_3 is increased, the more the color will be different. And the more col_4 increases, the bigger its size will be.\n",
        "Hint: if the size is very small, consider multiply it by * 10, even by 100 if needed."
      ]
    },
    {
      "cell_type": "code",
      "metadata": {
        "id": "8oSmcZd02RV9"
      },
      "source": [],
      "execution_count": null,
      "outputs": []
    },
    {
      "cell_type": "markdown",
      "metadata": {
        "id": "YS889ehT2RhU"
      },
      "source": [
        "#### 4) Display the frequency bar (histogram) of the first column. As you can see, we can’t identify anything using the default plot configuration. Can you refine the result so that we can see more detail in the plot?"
      ]
    },
    {
      "cell_type": "code",
      "metadata": {
        "id": "aQtQRDcm2WEk"
      },
      "source": [],
      "execution_count": null,
      "outputs": []
    },
    {
      "cell_type": "markdown",
      "metadata": {
        "id": "KogIH_xv2WcT"
      },
      "source": [
        "#### 5) Create a boxplot representing the distribution of the 4 columns on the same graph. Can you display the first two only?"
      ]
    },
    {
      "cell_type": "code",
      "metadata": {
        "id": "5zphVzwg2ZD7"
      },
      "source": [],
      "execution_count": null,
      "outputs": []
    },
    {
      "cell_type": "markdown",
      "metadata": {
        "id": "FyYudtOa2ZQL"
      },
      "source": [
        "#### 6) Plot the first 200 rows of the dataframe."
      ]
    },
    {
      "cell_type": "code",
      "metadata": {
        "id": "QXjQjH4p2bvN"
      },
      "source": [],
      "execution_count": null,
      "outputs": []
    },
    {
      "cell_type": "markdown",
      "metadata": {
        "id": "ATCW94vH2f5H"
      },
      "source": [
        "#### 7) Create two plots side by side, the first one is using scatter plot (as seen previously) and the second one use hexbin plot."
      ]
    },
    {
      "cell_type": "code",
      "metadata": {
        "id": "5DxwuwwC2dwJ"
      },
      "source": [],
      "execution_count": null,
      "outputs": []
    }
  ]
}