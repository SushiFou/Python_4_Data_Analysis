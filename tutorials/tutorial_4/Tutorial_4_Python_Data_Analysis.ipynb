{
  "nbformat": 4,
  "nbformat_minor": 0,
  "metadata": {
    "colab": {
      "name": "Tutorial_4_Python_Data_Analysis.ipynb",
      "provenance": []
    },
    "kernelspec": {
      "name": "python3",
      "display_name": "Python 3"
    },
    "language_info": {
      "name": "python"
    }
  },
  "cells": [
    {
      "cell_type": "markdown",
      "metadata": {
        "id": "NAOD_kfwHuMP"
      },
      "source": [
        "# Tutorial 4 - Python For Data Analysis 🐍 \n",
        "\n",
        "---\n",
        "\n",
        "## Web Scraping 🐙"
      ]
    },
    {
      "cell_type": "markdown",
      "metadata": {
        "id": "9h3YXAUUIOC5"
      },
      "source": [
        "### *Table of Contents*\n",
        "\n",
        "- Regular Expression Operations 🔎\n",
        "  - [Exercise 1](#exercise-1) : Regex\n",
        "- Parsing the HTML with BeautifulSoup 🐼\n",
        "  - [Exercice 2](#exercise-2) : Use Case n°1\n",
        "  - [Exercise 3](#exercise-3) : Use case n°2"
      ]
    },
    {
      "cell_type": "markdown",
      "metadata": {
        "id": "1Sng2o3JIzlr"
      },
      "source": [
        "### Requirements"
      ]
    },
    {
      "cell_type": "code",
      "metadata": {
        "id": "BS-8EDtCHqO9"
      },
      "source": [
        ""
      ],
      "execution_count": null,
      "outputs": []
    },
    {
      "cell_type": "markdown",
      "metadata": {
        "id": "yAFZOuZsI468"
      },
      "source": [
        "## Regular Expression Operations"
      ]
    },
    {
      "cell_type": "markdown",
      "metadata": {
        "id": "pf3T6E1wI82F"
      },
      "source": [
        "<a name=\"exercise-1\">\n",
        "\n",
        "### Exercise 1 : Regex\n",
        "---"
      ]
    },
    {
      "cell_type": "markdown",
      "metadata": {
        "id": "SAqpFeP2JWbm"
      },
      "source": [
        "A **regular expression** is a special sequence of characters that helps you match or find other strings or sets of strings, using a specialized syntax held in a pattern.\n",
        "\n",
        "Python has a built-in package called re, which can be used to work with Regular Expres- sions.\n",
        "\n",
        "You can find details here: https://docs.python.org/3/library/re.html#regular-expression-syntax"
      ]
    },
    {
      "cell_type": "markdown",
      "metadata": {
        "id": "cXJNt-a8Jgqg"
      },
      "source": [
        "#### 1) Import the re module"
      ]
    },
    {
      "cell_type": "code",
      "metadata": {
        "id": "t7atwlypJChh"
      },
      "source": [
        "import re"
      ],
      "execution_count": null,
      "outputs": []
    },
    {
      "cell_type": "markdown",
      "metadata": {
        "id": "XHz7SEX5Jn7P"
      },
      "source": [
        "#### 2) Write a regexp to extract the score, Cristiano's age, number of goals, and the number of selections from the following text:"
      ]
    },
    {
      "cell_type": "markdown",
      "metadata": {
        "id": "k5_0sAroJzaV"
      },
      "source": [
        "`Buteur face au Qatar (3-0), samedi en amical, Cristiano Ronaldo (36 ans) a fait tomber un nouveau record. En effet, l'attaquant de Manchester United, meilleur buteur de l'histoire des sélections (112 buts), est devenu le footballeur européen le plus capé avec son équipe nationale. Il compte désormais 181 matchs avec la formation lusitanienne, soit un de plus que Sergio Ramos avec l'Espagne. Le Red Devil n'est plus qu'à cinq longueurs de Bader Ahmed al-Mutawa (Koweït), recordman absolu à l'échelle mondiale.`"
      ]
    },
    {
      "cell_type": "code",
      "metadata": {
        "id": "HsPyowHrJ_Ql"
      },
      "source": [
        ""
      ],
      "execution_count": null,
      "outputs": []
    },
    {
      "cell_type": "markdown",
      "metadata": {
        "id": "Z4AaOvAJKACw"
      },
      "source": [
        "#### 3) Write a regexp to get prices from the following text:"
      ]
    },
    {
      "cell_type": "markdown",
      "metadata": {
        "id": "brkU4nxmKElb"
      },
      "source": [
        "`Vous cherchez un nouvel ordinateur portable performant, fiable et en réduction? Sur Rakuten, l’ordinateur Apple MacBook Air 2020 est en promotion, avec une remise de près de 230 euros pour un tarif final qui chute sous les 900 euros grâce à la plateforme marchande.`"
      ]
    },
    {
      "cell_type": "code",
      "metadata": {
        "id": "AzxyHRFrKIa9"
      },
      "source": [
        ""
      ],
      "execution_count": null,
      "outputs": []
    },
    {
      "cell_type": "markdown",
      "metadata": {
        "id": "8QzQh86hKKC2"
      },
      "source": [
        "#### 4) Write a regexp to get reduction values, along with promo code:"
      ]
    },
    {
      "cell_type": "markdown",
      "metadata": {
        "id": "hQTEd88CKPvL"
      },
      "source": [
        "`40% sur tous les réservoirs d'essence et collecteurs d'échappement (achats internet uniquement) avec le code promo : PRINTEMPS\n",
        "40% sur tous les carénages plastique (achats internet uniquement) avec le code promo : CARENAGE40\n",
        "50% sur toutes les rampes d'injection (achats internet uniquement) avec le code promo : INJECTION50"
      ]
    },
    {
      "cell_type": "code",
      "metadata": {
        "id": "Pgm3P3JcKb-T"
      },
      "source": [
        ""
      ],
      "execution_count": null,
      "outputs": []
    },
    {
      "cell_type": "markdown",
      "metadata": {
        "id": "HYQyiFQZJNcN"
      },
      "source": [
        "## Parsing the HTML with BeautifulSoup"
      ]
    },
    {
      "cell_type": "markdown",
      "metadata": {
        "id": "LCaBhVe2Kiwu"
      },
      "source": [
        "BeautifulSoup is a Python library for parsing HTML and XML documents. It is often used for web scraping. BeautifulSoup transforms a complex HTML document into a complex tree of Python objects, such as tag, navigable string, or comment.\n",
        "\n",
        "Import the BeautifulSoup class from the bs4 module:\n",
        "\n",
        "`from bs4 import BeautifulSoup\n",
        "\n",
        "Use case 1: https://www.afm-telethon.fr/telethon/bref/parrains-resultats-telethon-1379\n"
      ]
    },
    {
      "cell_type": "code",
      "metadata": {
        "id": "S297ywI2KqSH"
      },
      "source": [
        "from bs4 import BeautifulSoup"
      ],
      "execution_count": null,
      "outputs": []
    },
    {
      "cell_type": "markdown",
      "metadata": {
        "id": "ottYjN4BJCMA"
      },
      "source": [
        "<a name=\"exercise-2\">\n",
        "\n",
        "### Exercise 2 : Use Case n°1\n",
        "---\n"
      ]
    },
    {
      "cell_type": "markdown",
      "metadata": {
        "id": "SL-WKDX9KvVO"
      },
      "source": [
        "#### 1) Query the website and return the html into the variable `page"
      ]
    },
    {
      "cell_type": "code",
      "metadata": {
        "id": "TwgBq0KSKunw"
      },
      "source": [
        ""
      ],
      "execution_count": null,
      "outputs": []
    },
    {
      "cell_type": "markdown",
      "metadata": {
        "id": "Ja5__fTDK1lX"
      },
      "source": [
        "#### 2) Parse the html using beautiful soup and store in variable `soup"
      ]
    },
    {
      "cell_type": "code",
      "metadata": {
        "id": "MThc61T-K_LF"
      },
      "source": [
        ""
      ],
      "execution_count": null,
      "outputs": []
    },
    {
      "cell_type": "markdown",
      "metadata": {
        "id": "ZfyRE2HLK_y5"
      },
      "source": [
        "#### 3) Save the Soup variable output into an HTML file and open it using web browser.\n",
        "\n",
        "What do you remark?"
      ]
    },
    {
      "cell_type": "code",
      "metadata": {
        "id": "hZd9r-oqLLun"
      },
      "source": [
        ""
      ],
      "execution_count": null,
      "outputs": []
    },
    {
      "cell_type": "markdown",
      "metadata": {
        "id": "EsgUdly3LMQ8"
      },
      "source": [
        "#### 4) In 2006, the counter reached its highest level. Extract this information from the webpage.\n",
        "\n",
        "PS: do not use the table"
      ]
    },
    {
      "cell_type": "code",
      "metadata": {
        "id": "DNs_a_h_LW8I"
      },
      "source": [
        ""
      ],
      "execution_count": null,
      "outputs": []
    },
    {
      "cell_type": "markdown",
      "metadata": {
        "id": "FAGW1Ew5LXQJ"
      },
      "source": [
        "Extract the same information using the selector then using the HTML tag."
      ]
    },
    {
      "cell_type": "code",
      "metadata": {
        "id": "ZhjkPDGCLcrc"
      },
      "source": [
        ""
      ],
      "execution_count": null,
      "outputs": []
    },
    {
      "cell_type": "markdown",
      "metadata": {
        "id": "usSd2zl7LdRL"
      },
      "source": [
        "#### 5) Retrieve the publication date from the webpage, using the CSS classes."
      ]
    },
    {
      "cell_type": "code",
      "metadata": {
        "id": "RaUldRAMMWyq"
      },
      "source": [
        ""
      ],
      "execution_count": null,
      "outputs": []
    },
    {
      "cell_type": "markdown",
      "metadata": {
        "id": "OjPia7BFMXFK"
      },
      "source": [
        "#### 6) Retrieve the number of days remaining until the next telethon from the webpage."
      ]
    },
    {
      "cell_type": "code",
      "metadata": {
        "id": "XZxuOauOMcrA"
      },
      "source": [
        ""
      ],
      "execution_count": null,
      "outputs": []
    },
    {
      "cell_type": "markdown",
      "metadata": {
        "id": "5OtBj3RTMc-d"
      },
      "source": [
        "#### 7) Retrieve all hidden inputs from the webpage"
      ]
    },
    {
      "cell_type": "code",
      "metadata": {
        "id": "lGXCagTKMkkn"
      },
      "source": [
        ""
      ],
      "execution_count": null,
      "outputs": []
    },
    {
      "cell_type": "markdown",
      "metadata": {
        "id": "s6jLiOESMk1k"
      },
      "source": [
        "#### 8) Find the number of tables defined in the soup. Retrieve this table from the webpage."
      ]
    },
    {
      "cell_type": "code",
      "metadata": {
        "id": "jYsi0kz1MsTc"
      },
      "source": [
        ""
      ],
      "execution_count": null,
      "outputs": []
    },
    {
      "cell_type": "markdown",
      "metadata": {
        "id": "Zp5YFfA_MsmT"
      },
      "source": [
        "#### 9) Retrieve the items from this table. Create a python dataframe representing this table (don't forget to include the name of the columns as defined in the webpage)"
      ]
    },
    {
      "cell_type": "code",
      "metadata": {
        "id": "fOOOwkM7M3OK"
      },
      "source": [
        ""
      ],
      "execution_count": null,
      "outputs": []
    },
    {
      "cell_type": "markdown",
      "metadata": {
        "id": "KAmZQUvpM3ga"
      },
      "source": [
        "#### 10) Visualize the evolution of the amount collected per year."
      ]
    },
    {
      "cell_type": "code",
      "metadata": {
        "id": "7ZP8gnPyM7wS"
      },
      "source": [
        ""
      ],
      "execution_count": null,
      "outputs": []
    },
    {
      "cell_type": "markdown",
      "metadata": {
        "id": "xBFgbuF3M7-z"
      },
      "source": [
        "#### 11) Mark the maximum and minimum of the evolution with respectively red and green colors."
      ]
    },
    {
      "cell_type": "code",
      "metadata": {
        "id": "7G5rg0LxNCin"
      },
      "source": [
        ""
      ],
      "execution_count": null,
      "outputs": []
    },
    {
      "cell_type": "markdown",
      "metadata": {
        "id": "fAQtQ0iCNC1P"
      },
      "source": [
        "#### 12) Bonus Question : We expect the graph below:"
      ]
    },
    {
      "cell_type": "code",
      "metadata": {
        "id": "9ryLIfGlN-U5"
      },
      "source": [
        ""
      ],
      "execution_count": null,
      "outputs": []
    },
    {
      "cell_type": "markdown",
      "metadata": {
        "id": "3yI0vRhXJH86"
      },
      "source": [
        "<a name=\"exercise-3\">\n",
        "\n",
        "### Exercise 3 : Use Case n°2\n",
        "---"
      ]
    },
    {
      "cell_type": "markdown",
      "metadata": {
        "id": "XHLZBNvBPsa-"
      },
      "source": [
        "Use case 2: https://www.infoclimat.fr/observations-meteo/archives/7/septembre/2019/paris-montsouris/07156.html"
      ]
    },
    {
      "cell_type": "markdown",
      "metadata": {
        "id": "qTdwg_HFPv3A"
      },
      "source": [
        "#### 1) Store the html table in a dataframe\n",
        "\n",
        "*Define a function that allows you to retrieve the value of row i and column j of the table*"
      ]
    },
    {
      "cell_type": "code",
      "metadata": {
        "id": "283SE__NPqbW"
      },
      "source": [
        ""
      ],
      "execution_count": null,
      "outputs": []
    },
    {
      "cell_type": "markdown",
      "metadata": {
        "id": "MVRIXLMfP5BD"
      },
      "source": [
        "#### 2) Explore the data using visualization libraries. Interpret & Conclude."
      ]
    },
    {
      "cell_type": "code",
      "metadata": {
        "id": "fbCrjPL4P-EU"
      },
      "source": [
        ""
      ],
      "execution_count": null,
      "outputs": []
    }
  ]
}